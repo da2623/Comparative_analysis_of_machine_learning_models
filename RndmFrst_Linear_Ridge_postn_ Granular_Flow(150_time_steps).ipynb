{
 "cells": [
  {
   "cell_type": "markdown",
   "id": "4b49399e-fdf7-4e5a-9351-79754e455df6",
   "metadata": {},
   "source": [
    "#  Data Analytics and Machine Learning of the Data space in Granular Flow\n",
    "    *Developing the Machine Learning model with 150 time_steps"
   ]
  },
  {
   "cell_type": "code",
   "execution_count": 2,
   "id": "be4fdd26-0a4a-43d3-b735-d96dcc573b6a",
   "metadata": {},
   "outputs": [],
   "source": [
    "%matplotlib inline\n",
    "import pandas as pd\n",
    "import numpy as np\n",
    "import matplotlib.pyplot as plt"
   ]
  },
  {
   "cell_type": "code",
   "execution_count": 3,
   "id": "f956a917-720a-49f8-93db-8b0e0735149e",
   "metadata": {},
   "outputs": [],
   "source": [
    "#pd.set_option('display.max_column', None)\n",
    "#pd.set_option('display.max_rows', None)"
   ]
  },
  {
   "cell_type": "markdown",
   "id": "206ad89a-1937-40fe-9611-ab4c7c5e8e7d",
   "metadata": {},
   "source": [
    "# 1.0 Combining the data gathered for each time step into a single csv file"
   ]
  },
  {
   "cell_type": "code",
   "execution_count": 5,
   "id": "790bd4bb-0350-4293-a1ec-475a61caf964",
   "metadata": {},
   "outputs": [],
   "source": [
    "# granular_flow_data_paths=[]\n",
    "\n",
    "# tot=np.arange(60000,100100,100)\n",
    "# for i in tot:\n",
    "#     if i==0:\n",
    "#         pass\n",
    "#     else:\n",
    "#         a=[f'/Users/c2305798/OneDrive - Teesside University/Documents/Dissertation/ML -Using New dataset/Tables (Data set)/XYZ_Internal_Table_table_{i}.csv']\n",
    "#         granular_flow_data_paths+=a\n",
    "\n",
    "\n",
    "\n",
    "# granular_flow_dataset = []\n",
    "# for datapath in granular_flow_data_paths:\n",
    "#     df=pd.read_csv(datapath)\n",
    "#     granular_flow_dataset.append(df)\n"
   ]
  },
  {
   "cell_type": "code",
   "execution_count": 6,
   "id": "9a2234d7",
   "metadata": {},
   "outputs": [],
   "source": [
    "# len(granular_flow_dataset)"
   ]
  },
  {
   "cell_type": "code",
   "execution_count": null,
   "id": "4986b06b",
   "metadata": {},
   "outputs": [],
   "source": []
  },
  {
   "cell_type": "code",
   "execution_count": 7,
   "id": "97526889-3389-4342-9679-ace46ac32364",
   "metadata": {},
   "outputs": [],
   "source": [
    "# y=pd.concat(granular_flow_dataset)\n",
    "# Combined_flow_data=y.to_csv('../Combined flow data(#150).csv')\n",
    "# Combined_flow_data"
   ]
  },
  {
   "cell_type": "markdown",
   "id": "5cf71c68-8ea9-4a9b-969c-d6f3ecb1a8ba",
   "metadata": {},
   "source": [
    "# 2.0 Working With the Saved file"
   ]
  },
  {
   "cell_type": "markdown",
   "id": "63da890d-4efb-4d52-809e-22c2d91d4329",
   "metadata": {
    "tags": []
   },
   "source": [
    "## 2.1 Reading (Loading) the combined saved data"
   ]
  },
  {
   "cell_type": "code",
   "execution_count": 10,
   "id": "92eaa73b-6241-4ae4-a88a-7d79304c27b3",
   "metadata": {
    "tags": []
   },
   "outputs": [
    {
     "data": {
      "text/html": [
       "<div>\n",
       "<style scoped>\n",
       "    .dataframe tbody tr th:only-of-type {\n",
       "        vertical-align: middle;\n",
       "    }\n",
       "\n",
       "    .dataframe tbody tr th {\n",
       "        vertical-align: top;\n",
       "    }\n",
       "\n",
       "    .dataframe thead th {\n",
       "        text-align: right;\n",
       "    }\n",
       "</style>\n",
       "<table border=\"1\" class=\"dataframe\">\n",
       "  <thead>\n",
       "    <tr style=\"text-align: right;\">\n",
       "      <th></th>\n",
       "      <th>Index</th>\n",
       "      <th>Time (s)</th>\n",
       "      <th>Volume Fraction of Phase 1</th>\n",
       "      <th>Report: Sum KE (J)</th>\n",
       "      <th>Report: Sum WallStress (Pa)</th>\n",
       "      <th>Parcel Centroid[X] (m)</th>\n",
       "      <th>Parcel Centroid[Y] (m)</th>\n",
       "      <th>Particle Velocity: Magnitude (m/s)</th>\n",
       "      <th>Particle Velocity[j] (m/s)</th>\n",
       "      <th>Parcel Centroid[Z] (m)</th>\n",
       "      <th>Particle Velocity[i] (m/s)</th>\n",
       "      <th>Particle Velocity[k] (m/s)</th>\n",
       "      <th>X (m)</th>\n",
       "      <th>Y (m)</th>\n",
       "      <th>Z (m)</th>\n",
       "    </tr>\n",
       "  </thead>\n",
       "  <tbody>\n",
       "    <tr>\n",
       "      <th>0</th>\n",
       "      <td>0</td>\n",
       "      <td>10.0</td>\n",
       "      <td>0.174704</td>\n",
       "      <td>0.003907</td>\n",
       "      <td>0.008035</td>\n",
       "      <td>0.031825</td>\n",
       "      <td>0.022352</td>\n",
       "      <td>0.603468</td>\n",
       "      <td>3.588897e-04</td>\n",
       "      <td>0.000501</td>\n",
       "      <td>0.603379</td>\n",
       "      <td>0.010375</td>\n",
       "      <td>0.031825</td>\n",
       "      <td>0.022352</td>\n",
       "      <td>0.000501</td>\n",
       "    </tr>\n",
       "    <tr>\n",
       "      <th>1</th>\n",
       "      <td>1</td>\n",
       "      <td>10.0</td>\n",
       "      <td>0.174704</td>\n",
       "      <td>0.003907</td>\n",
       "      <td>0.008035</td>\n",
       "      <td>0.027128</td>\n",
       "      <td>0.022352</td>\n",
       "      <td>0.484547</td>\n",
       "      <td>-1.789327e-03</td>\n",
       "      <td>0.000499</td>\n",
       "      <td>0.484467</td>\n",
       "      <td>0.008608</td>\n",
       "      <td>0.027128</td>\n",
       "      <td>0.022352</td>\n",
       "      <td>0.000499</td>\n",
       "    </tr>\n",
       "    <tr>\n",
       "      <th>2</th>\n",
       "      <td>2</td>\n",
       "      <td>10.0</td>\n",
       "      <td>0.174704</td>\n",
       "      <td>0.003907</td>\n",
       "      <td>0.008035</td>\n",
       "      <td>0.027052</td>\n",
       "      <td>0.023337</td>\n",
       "      <td>0.603346</td>\n",
       "      <td>9.335324e-04</td>\n",
       "      <td>0.000642</td>\n",
       "      <td>0.602915</td>\n",
       "      <td>0.022796</td>\n",
       "      <td>0.027052</td>\n",
       "      <td>0.023337</td>\n",
       "      <td>0.000642</td>\n",
       "    </tr>\n",
       "    <tr>\n",
       "      <th>3</th>\n",
       "      <td>3</td>\n",
       "      <td>10.0</td>\n",
       "      <td>0.174704</td>\n",
       "      <td>0.003907</td>\n",
       "      <td>0.008035</td>\n",
       "      <td>0.023665</td>\n",
       "      <td>0.022372</td>\n",
       "      <td>0.565108</td>\n",
       "      <td>2.904427e-03</td>\n",
       "      <td>0.000511</td>\n",
       "      <td>0.565076</td>\n",
       "      <td>0.005253</td>\n",
       "      <td>0.023665</td>\n",
       "      <td>0.022372</td>\n",
       "      <td>0.000511</td>\n",
       "    </tr>\n",
       "    <tr>\n",
       "      <th>4</th>\n",
       "      <td>4</td>\n",
       "      <td>10.0</td>\n",
       "      <td>0.174704</td>\n",
       "      <td>0.003907</td>\n",
       "      <td>0.008035</td>\n",
       "      <td>0.030634</td>\n",
       "      <td>0.023345</td>\n",
       "      <td>0.590112</td>\n",
       "      <td>-1.146731e-01</td>\n",
       "      <td>0.000500</td>\n",
       "      <td>0.578862</td>\n",
       "      <td>-0.001059</td>\n",
       "      <td>0.030634</td>\n",
       "      <td>0.023345</td>\n",
       "      <td>0.000500</td>\n",
       "    </tr>\n",
       "    <tr>\n",
       "      <th>...</th>\n",
       "      <td>...</td>\n",
       "      <td>...</td>\n",
       "      <td>...</td>\n",
       "      <td>...</td>\n",
       "      <td>...</td>\n",
       "      <td>...</td>\n",
       "      <td>...</td>\n",
       "      <td>...</td>\n",
       "      <td>...</td>\n",
       "      <td>...</td>\n",
       "      <td>...</td>\n",
       "      <td>...</td>\n",
       "      <td>...</td>\n",
       "      <td>...</td>\n",
       "      <td>...</td>\n",
       "    </tr>\n",
       "    <tr>\n",
       "      <th>13410144</th>\n",
       "      <td>33350</td>\n",
       "      <td>50.0</td>\n",
       "      <td>0.040762</td>\n",
       "      <td>0.003920</td>\n",
       "      <td>0.008333</td>\n",
       "      <td>-0.117258</td>\n",
       "      <td>0.036990</td>\n",
       "      <td>0.549452</td>\n",
       "      <td>9.907611e-08</td>\n",
       "      <td>0.019726</td>\n",
       "      <td>0.538740</td>\n",
       "      <td>-0.107966</td>\n",
       "      <td>-0.117258</td>\n",
       "      <td>0.036990</td>\n",
       "      <td>0.019726</td>\n",
       "    </tr>\n",
       "    <tr>\n",
       "      <th>13410145</th>\n",
       "      <td>33351</td>\n",
       "      <td>50.0</td>\n",
       "      <td>0.095765</td>\n",
       "      <td>0.003920</td>\n",
       "      <td>0.008333</td>\n",
       "      <td>-0.117261</td>\n",
       "      <td>0.033381</td>\n",
       "      <td>0.549401</td>\n",
       "      <td>-2.571163e-07</td>\n",
       "      <td>0.002363</td>\n",
       "      <td>0.538698</td>\n",
       "      <td>-0.107914</td>\n",
       "      <td>-0.117261</td>\n",
       "      <td>0.033381</td>\n",
       "      <td>0.002363</td>\n",
       "    </tr>\n",
       "    <tr>\n",
       "      <th>13410146</th>\n",
       "      <td>33352</td>\n",
       "      <td>50.0</td>\n",
       "      <td>0.168274</td>\n",
       "      <td>0.003920</td>\n",
       "      <td>0.008333</td>\n",
       "      <td>-0.117269</td>\n",
       "      <td>0.028676</td>\n",
       "      <td>0.549299</td>\n",
       "      <td>-1.910868e-08</td>\n",
       "      <td>0.002854</td>\n",
       "      <td>0.538615</td>\n",
       "      <td>-0.107810</td>\n",
       "      <td>-0.117269</td>\n",
       "      <td>0.028676</td>\n",
       "      <td>0.002854</td>\n",
       "    </tr>\n",
       "    <tr>\n",
       "      <th>13410147</th>\n",
       "      <td>33353</td>\n",
       "      <td>50.0</td>\n",
       "      <td>0.056356</td>\n",
       "      <td>0.003920</td>\n",
       "      <td>0.008333</td>\n",
       "      <td>-0.117272</td>\n",
       "      <td>0.027990</td>\n",
       "      <td>0.549250</td>\n",
       "      <td>-5.728731e-08</td>\n",
       "      <td>0.013622</td>\n",
       "      <td>0.538576</td>\n",
       "      <td>-0.107759</td>\n",
       "      <td>-0.117272</td>\n",
       "      <td>0.027990</td>\n",
       "      <td>0.013622</td>\n",
       "    </tr>\n",
       "    <tr>\n",
       "      <th>13410148</th>\n",
       "      <td>33354</td>\n",
       "      <td>50.0</td>\n",
       "      <td>0.168274</td>\n",
       "      <td>0.003920</td>\n",
       "      <td>0.008333</td>\n",
       "      <td>-0.117272</td>\n",
       "      <td>0.028703</td>\n",
       "      <td>0.549250</td>\n",
       "      <td>-1.390513e-08</td>\n",
       "      <td>0.004727</td>\n",
       "      <td>0.538575</td>\n",
       "      <td>-0.107759</td>\n",
       "      <td>-0.117272</td>\n",
       "      <td>0.028703</td>\n",
       "      <td>0.004727</td>\n",
       "    </tr>\n",
       "  </tbody>\n",
       "</table>\n",
       "<p>13410149 rows × 15 columns</p>\n",
       "</div>"
      ],
      "text/plain": [
       "          Index  Time (s)  Volume Fraction of Phase 1  Report: Sum KE (J)  \\\n",
       "0             0      10.0                    0.174704            0.003907   \n",
       "1             1      10.0                    0.174704            0.003907   \n",
       "2             2      10.0                    0.174704            0.003907   \n",
       "3             3      10.0                    0.174704            0.003907   \n",
       "4             4      10.0                    0.174704            0.003907   \n",
       "...         ...       ...                         ...                 ...   \n",
       "13410144  33350      50.0                    0.040762            0.003920   \n",
       "13410145  33351      50.0                    0.095765            0.003920   \n",
       "13410146  33352      50.0                    0.168274            0.003920   \n",
       "13410147  33353      50.0                    0.056356            0.003920   \n",
       "13410148  33354      50.0                    0.168274            0.003920   \n",
       "\n",
       "          Report: Sum WallStress (Pa)  Parcel Centroid[X] (m)  \\\n",
       "0                            0.008035                0.031825   \n",
       "1                            0.008035                0.027128   \n",
       "2                            0.008035                0.027052   \n",
       "3                            0.008035                0.023665   \n",
       "4                            0.008035                0.030634   \n",
       "...                               ...                     ...   \n",
       "13410144                     0.008333               -0.117258   \n",
       "13410145                     0.008333               -0.117261   \n",
       "13410146                     0.008333               -0.117269   \n",
       "13410147                     0.008333               -0.117272   \n",
       "13410148                     0.008333               -0.117272   \n",
       "\n",
       "          Parcel Centroid[Y] (m)  Particle Velocity: Magnitude (m/s)  \\\n",
       "0                       0.022352                            0.603468   \n",
       "1                       0.022352                            0.484547   \n",
       "2                       0.023337                            0.603346   \n",
       "3                       0.022372                            0.565108   \n",
       "4                       0.023345                            0.590112   \n",
       "...                          ...                                 ...   \n",
       "13410144                0.036990                            0.549452   \n",
       "13410145                0.033381                            0.549401   \n",
       "13410146                0.028676                            0.549299   \n",
       "13410147                0.027990                            0.549250   \n",
       "13410148                0.028703                            0.549250   \n",
       "\n",
       "          Particle Velocity[j] (m/s)  Parcel Centroid[Z] (m)  \\\n",
       "0                       3.588897e-04                0.000501   \n",
       "1                      -1.789327e-03                0.000499   \n",
       "2                       9.335324e-04                0.000642   \n",
       "3                       2.904427e-03                0.000511   \n",
       "4                      -1.146731e-01                0.000500   \n",
       "...                              ...                     ...   \n",
       "13410144                9.907611e-08                0.019726   \n",
       "13410145               -2.571163e-07                0.002363   \n",
       "13410146               -1.910868e-08                0.002854   \n",
       "13410147               -5.728731e-08                0.013622   \n",
       "13410148               -1.390513e-08                0.004727   \n",
       "\n",
       "          Particle Velocity[i] (m/s)  Particle Velocity[k] (m/s)     X (m)  \\\n",
       "0                           0.603379                    0.010375  0.031825   \n",
       "1                           0.484467                    0.008608  0.027128   \n",
       "2                           0.602915                    0.022796  0.027052   \n",
       "3                           0.565076                    0.005253  0.023665   \n",
       "4                           0.578862                   -0.001059  0.030634   \n",
       "...                              ...                         ...       ...   \n",
       "13410144                    0.538740                   -0.107966 -0.117258   \n",
       "13410145                    0.538698                   -0.107914 -0.117261   \n",
       "13410146                    0.538615                   -0.107810 -0.117269   \n",
       "13410147                    0.538576                   -0.107759 -0.117272   \n",
       "13410148                    0.538575                   -0.107759 -0.117272   \n",
       "\n",
       "             Y (m)     Z (m)  \n",
       "0         0.022352  0.000501  \n",
       "1         0.022352  0.000499  \n",
       "2         0.023337  0.000642  \n",
       "3         0.022372  0.000511  \n",
       "4         0.023345  0.000500  \n",
       "...            ...       ...  \n",
       "13410144  0.036990  0.019726  \n",
       "13410145  0.033381  0.002363  \n",
       "13410146  0.028676  0.002854  \n",
       "13410147  0.027990  0.013622  \n",
       "13410148  0.028703  0.004727  \n",
       "\n",
       "[13410149 rows x 15 columns]"
      ]
     },
     "execution_count": 10,
     "metadata": {},
     "output_type": "execute_result"
    }
   ],
   "source": [
    "\n",
    "Granular_flow_data= pd.read_csv(r\"C:\\Users\\adeba\\OneDrive - Teesside University\\Documents\\Dissertation\\ML -Using New dataset\\Deep Learning\\Position - DNN2 (done on school Mac)\\Combined flow data(#30).csv\")\n",
    "# Granular_flow_data = Granular_flow_data[:4000000]\n",
    "\n",
    "Granular_flow_data.rename(columns={'Unnamed: 0':'Index'}, inplace=True)\n",
    "Granular_flow_data"
   ]
  },
  {
   "cell_type": "code",
   "execution_count": 11,
   "id": "b58a8418-65ed-4dee-b41f-7f76f2d117bb",
   "metadata": {},
   "outputs": [
    {
     "data": {
      "text/html": [
       "<div>\n",
       "<style scoped>\n",
       "    .dataframe tbody tr th:only-of-type {\n",
       "        vertical-align: middle;\n",
       "    }\n",
       "\n",
       "    .dataframe tbody tr th {\n",
       "        vertical-align: top;\n",
       "    }\n",
       "\n",
       "    .dataframe thead th {\n",
       "        text-align: right;\n",
       "    }\n",
       "</style>\n",
       "<table border=\"1\" class=\"dataframe\">\n",
       "  <thead>\n",
       "    <tr style=\"text-align: right;\">\n",
       "      <th></th>\n",
       "      <th>Index</th>\n",
       "      <th>Time (s)</th>\n",
       "      <th>Parcel Centroid[X] (m)</th>\n",
       "      <th>Particle Velocity: Magnitude (m/s)</th>\n",
       "      <th>Parcel Centroid[Z] (m)</th>\n",
       "      <th>Particle Velocity[i] (m/s)</th>\n",
       "      <th>Particle Velocity[k] (m/s)</th>\n",
       "    </tr>\n",
       "  </thead>\n",
       "  <tbody>\n",
       "    <tr>\n",
       "      <th>0</th>\n",
       "      <td>0</td>\n",
       "      <td>10.0</td>\n",
       "      <td>0.031825</td>\n",
       "      <td>0.603468</td>\n",
       "      <td>0.000501</td>\n",
       "      <td>0.603379</td>\n",
       "      <td>0.010375</td>\n",
       "    </tr>\n",
       "    <tr>\n",
       "      <th>1</th>\n",
       "      <td>1</td>\n",
       "      <td>10.0</td>\n",
       "      <td>0.027128</td>\n",
       "      <td>0.484547</td>\n",
       "      <td>0.000499</td>\n",
       "      <td>0.484467</td>\n",
       "      <td>0.008608</td>\n",
       "    </tr>\n",
       "    <tr>\n",
       "      <th>2</th>\n",
       "      <td>2</td>\n",
       "      <td>10.0</td>\n",
       "      <td>0.027052</td>\n",
       "      <td>0.603346</td>\n",
       "      <td>0.000642</td>\n",
       "      <td>0.602915</td>\n",
       "      <td>0.022796</td>\n",
       "    </tr>\n",
       "    <tr>\n",
       "      <th>3</th>\n",
       "      <td>3</td>\n",
       "      <td>10.0</td>\n",
       "      <td>0.023665</td>\n",
       "      <td>0.565108</td>\n",
       "      <td>0.000511</td>\n",
       "      <td>0.565076</td>\n",
       "      <td>0.005253</td>\n",
       "    </tr>\n",
       "    <tr>\n",
       "      <th>4</th>\n",
       "      <td>4</td>\n",
       "      <td>10.0</td>\n",
       "      <td>0.030634</td>\n",
       "      <td>0.590112</td>\n",
       "      <td>0.000500</td>\n",
       "      <td>0.578862</td>\n",
       "      <td>-0.001059</td>\n",
       "    </tr>\n",
       "    <tr>\n",
       "      <th>...</th>\n",
       "      <td>...</td>\n",
       "      <td>...</td>\n",
       "      <td>...</td>\n",
       "      <td>...</td>\n",
       "      <td>...</td>\n",
       "      <td>...</td>\n",
       "      <td>...</td>\n",
       "    </tr>\n",
       "    <tr>\n",
       "      <th>13410144</th>\n",
       "      <td>33350</td>\n",
       "      <td>50.0</td>\n",
       "      <td>-0.117258</td>\n",
       "      <td>0.549452</td>\n",
       "      <td>0.019726</td>\n",
       "      <td>0.538740</td>\n",
       "      <td>-0.107966</td>\n",
       "    </tr>\n",
       "    <tr>\n",
       "      <th>13410145</th>\n",
       "      <td>33351</td>\n",
       "      <td>50.0</td>\n",
       "      <td>-0.117261</td>\n",
       "      <td>0.549401</td>\n",
       "      <td>0.002363</td>\n",
       "      <td>0.538698</td>\n",
       "      <td>-0.107914</td>\n",
       "    </tr>\n",
       "    <tr>\n",
       "      <th>13410146</th>\n",
       "      <td>33352</td>\n",
       "      <td>50.0</td>\n",
       "      <td>-0.117269</td>\n",
       "      <td>0.549299</td>\n",
       "      <td>0.002854</td>\n",
       "      <td>0.538615</td>\n",
       "      <td>-0.107810</td>\n",
       "    </tr>\n",
       "    <tr>\n",
       "      <th>13410147</th>\n",
       "      <td>33353</td>\n",
       "      <td>50.0</td>\n",
       "      <td>-0.117272</td>\n",
       "      <td>0.549250</td>\n",
       "      <td>0.013622</td>\n",
       "      <td>0.538576</td>\n",
       "      <td>-0.107759</td>\n",
       "    </tr>\n",
       "    <tr>\n",
       "      <th>13410148</th>\n",
       "      <td>33354</td>\n",
       "      <td>50.0</td>\n",
       "      <td>-0.117272</td>\n",
       "      <td>0.549250</td>\n",
       "      <td>0.004727</td>\n",
       "      <td>0.538575</td>\n",
       "      <td>-0.107759</td>\n",
       "    </tr>\n",
       "  </tbody>\n",
       "</table>\n",
       "<p>13410149 rows × 7 columns</p>\n",
       "</div>"
      ],
      "text/plain": [
       "          Index  Time (s)  Parcel Centroid[X] (m)  \\\n",
       "0             0      10.0                0.031825   \n",
       "1             1      10.0                0.027128   \n",
       "2             2      10.0                0.027052   \n",
       "3             3      10.0                0.023665   \n",
       "4             4      10.0                0.030634   \n",
       "...         ...       ...                     ...   \n",
       "13410144  33350      50.0               -0.117258   \n",
       "13410145  33351      50.0               -0.117261   \n",
       "13410146  33352      50.0               -0.117269   \n",
       "13410147  33353      50.0               -0.117272   \n",
       "13410148  33354      50.0               -0.117272   \n",
       "\n",
       "          Particle Velocity: Magnitude (m/s)  Parcel Centroid[Z] (m)  \\\n",
       "0                                   0.603468                0.000501   \n",
       "1                                   0.484547                0.000499   \n",
       "2                                   0.603346                0.000642   \n",
       "3                                   0.565108                0.000511   \n",
       "4                                   0.590112                0.000500   \n",
       "...                                      ...                     ...   \n",
       "13410144                            0.549452                0.019726   \n",
       "13410145                            0.549401                0.002363   \n",
       "13410146                            0.549299                0.002854   \n",
       "13410147                            0.549250                0.013622   \n",
       "13410148                            0.549250                0.004727   \n",
       "\n",
       "          Particle Velocity[i] (m/s)  Particle Velocity[k] (m/s)  \n",
       "0                           0.603379                    0.010375  \n",
       "1                           0.484467                    0.008608  \n",
       "2                           0.602915                    0.022796  \n",
       "3                           0.565076                    0.005253  \n",
       "4                           0.578862                   -0.001059  \n",
       "...                              ...                         ...  \n",
       "13410144                    0.538740                   -0.107966  \n",
       "13410145                    0.538698                   -0.107914  \n",
       "13410146                    0.538615                   -0.107810  \n",
       "13410147                    0.538576                   -0.107759  \n",
       "13410148                    0.538575                   -0.107759  \n",
       "\n",
       "[13410149 rows x 7 columns]"
      ]
     },
     "execution_count": 11,
     "metadata": {},
     "output_type": "execute_result"
    }
   ],
   "source": [
    "Granular_flow_data = Granular_flow_data.drop(['Volume Fraction of Phase 1','Report: Sum KE (J)', \n",
    "                                              'Report: Sum WallStress (Pa)', 'X (m)',\t'Y (m)',\t'Z (m)', \n",
    "                                              'Parcel Centroid[Y] (m)', 'Particle Velocity[j] (m/s)'], axis='columns')\n",
    "Granular_flow_data = Granular_flow_data\n",
    "Granular_flow_data"
   ]
  },
  {
   "cell_type": "markdown",
   "id": "cb4183b5-00fc-4a4a-9532-e3ea06caaf6f",
   "metadata": {},
   "source": [
    "## Finding patterns in the data using correlation matrix"
   ]
  },
  {
   "cell_type": "code",
   "execution_count": 13,
   "id": "84fbe249-08c8-4061-9b12-036e1978c30e",
   "metadata": {},
   "outputs": [
    {
     "data": {
      "image/png": "[encoded data removed]",
      "text/plain": [
       "<Figure size 1250x1000 with 2 Axes>"
      ]
     },
     "metadata": {},
     "output_type": "display_data"
    }
   ],
   "source": [
    "import seaborn as sns\n",
    "\n",
    "corr_matrix =Granular_flow_data.corr()\n",
    "\n",
    "fig, ax_corr_Matrix=plt.subplots(figsize=(12.5,10))\n",
    "\n",
    "color = plt.get_cmap('YlGnBu')   # default color\n",
    "color.set_bad('lightblue')  \n",
    "\n",
    "ax =sns.heatmap(corr_matrix, \n",
    "                annot=True,\n",
    "                fmt=\".2f\",\n",
    "                cmap=color\n",
    "               )\n",
    "fig.savefig('./Correlation_matrix_for_the_data(#150).png', bbox_inches='tight', dpi=1200)"
   ]
  },
  {
   "cell_type": "markdown",
   "id": "06c198f6-1712-4fd4-ad89-7802118f586a",
   "metadata": {},
   "source": [
    "## 2.2 Splitting the data"
   ]
  },
  {
   "cell_type": "code",
   "execution_count": 15,
   "id": "5f60ea1a-676d-484e-8f95-f9fe85272743",
   "metadata": {},
   "outputs": [],
   "source": [
    "\n",
    "X=Granular_flow_data.drop(['Parcel Centroid[X] (m)', 'Parcel Centroid[Z] (m)'], axis=1)\n",
    "y= Granular_flow_data[['Parcel Centroid[X] (m)', 'Parcel Centroid[Z] (m)']]\n"
   ]
  },
  {
   "cell_type": "code",
   "execution_count": 16,
   "id": "7f23a498-fed8-4cbe-8dd4-97597f9bd8a4",
   "metadata": {},
   "outputs": [
    {
     "data": {
      "text/html": [
       "<div>\n",
       "<style scoped>\n",
       "    .dataframe tbody tr th:only-of-type {\n",
       "        vertical-align: middle;\n",
       "    }\n",
       "\n",
       "    .dataframe tbody tr th {\n",
       "        vertical-align: top;\n",
       "    }\n",
       "\n",
       "    .dataframe thead th {\n",
       "        text-align: right;\n",
       "    }\n",
       "</style>\n",
       "<table border=\"1\" class=\"dataframe\">\n",
       "  <thead>\n",
       "    <tr style=\"text-align: right;\">\n",
       "      <th></th>\n",
       "      <th>Index</th>\n",
       "      <th>Time (s)</th>\n",
       "      <th>Particle Velocity: Magnitude (m/s)</th>\n",
       "      <th>Particle Velocity[i] (m/s)</th>\n",
       "      <th>Particle Velocity[k] (m/s)</th>\n",
       "    </tr>\n",
       "  </thead>\n",
       "  <tbody>\n",
       "    <tr>\n",
       "      <th>0</th>\n",
       "      <td>0</td>\n",
       "      <td>10.0</td>\n",
       "      <td>0.603468</td>\n",
       "      <td>0.603379</td>\n",
       "      <td>0.010375</td>\n",
       "    </tr>\n",
       "    <tr>\n",
       "      <th>1</th>\n",
       "      <td>1</td>\n",
       "      <td>10.0</td>\n",
       "      <td>0.484547</td>\n",
       "      <td>0.484467</td>\n",
       "      <td>0.008608</td>\n",
       "    </tr>\n",
       "    <tr>\n",
       "      <th>2</th>\n",
       "      <td>2</td>\n",
       "      <td>10.0</td>\n",
       "      <td>0.603346</td>\n",
       "      <td>0.602915</td>\n",
       "      <td>0.022796</td>\n",
       "    </tr>\n",
       "    <tr>\n",
       "      <th>3</th>\n",
       "      <td>3</td>\n",
       "      <td>10.0</td>\n",
       "      <td>0.565108</td>\n",
       "      <td>0.565076</td>\n",
       "      <td>0.005253</td>\n",
       "    </tr>\n",
       "    <tr>\n",
       "      <th>4</th>\n",
       "      <td>4</td>\n",
       "      <td>10.0</td>\n",
       "      <td>0.590112</td>\n",
       "      <td>0.578862</td>\n",
       "      <td>-0.001059</td>\n",
       "    </tr>\n",
       "    <tr>\n",
       "      <th>...</th>\n",
       "      <td>...</td>\n",
       "      <td>...</td>\n",
       "      <td>...</td>\n",
       "      <td>...</td>\n",
       "      <td>...</td>\n",
       "    </tr>\n",
       "    <tr>\n",
       "      <th>13410144</th>\n",
       "      <td>33350</td>\n",
       "      <td>50.0</td>\n",
       "      <td>0.549452</td>\n",
       "      <td>0.538740</td>\n",
       "      <td>-0.107966</td>\n",
       "    </tr>\n",
       "    <tr>\n",
       "      <th>13410145</th>\n",
       "      <td>33351</td>\n",
       "      <td>50.0</td>\n",
       "      <td>0.549401</td>\n",
       "      <td>0.538698</td>\n",
       "      <td>-0.107914</td>\n",
       "    </tr>\n",
       "    <tr>\n",
       "      <th>13410146</th>\n",
       "      <td>33352</td>\n",
       "      <td>50.0</td>\n",
       "      <td>0.549299</td>\n",
       "      <td>0.538615</td>\n",
       "      <td>-0.107810</td>\n",
       "    </tr>\n",
       "    <tr>\n",
       "      <th>13410147</th>\n",
       "      <td>33353</td>\n",
       "      <td>50.0</td>\n",
       "      <td>0.549250</td>\n",
       "      <td>0.538576</td>\n",
       "      <td>-0.107759</td>\n",
       "    </tr>\n",
       "    <tr>\n",
       "      <th>13410148</th>\n",
       "      <td>33354</td>\n",
       "      <td>50.0</td>\n",
       "      <td>0.549250</td>\n",
       "      <td>0.538575</td>\n",
       "      <td>-0.107759</td>\n",
       "    </tr>\n",
       "  </tbody>\n",
       "</table>\n",
       "<p>13410149 rows × 5 columns</p>\n",
       "</div>"
      ],
      "text/plain": [
       "          Index  Time (s)  Particle Velocity: Magnitude (m/s)  \\\n",
       "0             0      10.0                            0.603468   \n",
       "1             1      10.0                            0.484547   \n",
       "2             2      10.0                            0.603346   \n",
       "3             3      10.0                            0.565108   \n",
       "4             4      10.0                            0.590112   \n",
       "...         ...       ...                                 ...   \n",
       "13410144  33350      50.0                            0.549452   \n",
       "13410145  33351      50.0                            0.549401   \n",
       "13410146  33352      50.0                            0.549299   \n",
       "13410147  33353      50.0                            0.549250   \n",
       "13410148  33354      50.0                            0.549250   \n",
       "\n",
       "          Particle Velocity[i] (m/s)  Particle Velocity[k] (m/s)  \n",
       "0                           0.603379                    0.010375  \n",
       "1                           0.484467                    0.008608  \n",
       "2                           0.602915                    0.022796  \n",
       "3                           0.565076                    0.005253  \n",
       "4                           0.578862                   -0.001059  \n",
       "...                              ...                         ...  \n",
       "13410144                    0.538740                   -0.107966  \n",
       "13410145                    0.538698                   -0.107914  \n",
       "13410146                    0.538615                   -0.107810  \n",
       "13410147                    0.538576                   -0.107759  \n",
       "13410148                    0.538575                   -0.107759  \n",
       "\n",
       "[13410149 rows x 5 columns]"
      ]
     },
     "execution_count": 16,
     "metadata": {},
     "output_type": "execute_result"
    }
   ],
   "source": [
    "X"
   ]
  },
  {
   "cell_type": "code",
   "execution_count": 17,
   "id": "101a9fd5-1d03-4b92-a242-fc7434704cb7",
   "metadata": {},
   "outputs": [
    {
     "data": {
      "text/html": [
       "<div>\n",
       "<style scoped>\n",
       "    .dataframe tbody tr th:only-of-type {\n",
       "        vertical-align: middle;\n",
       "    }\n",
       "\n",
       "    .dataframe tbody tr th {\n",
       "        vertical-align: top;\n",
       "    }\n",
       "\n",
       "    .dataframe thead th {\n",
       "        text-align: right;\n",
       "    }\n",
       "</style>\n",
       "<table border=\"1\" class=\"dataframe\">\n",
       "  <thead>\n",
       "    <tr style=\"text-align: right;\">\n",
       "      <th></th>\n",
       "      <th>Parcel Centroid[X] (m)</th>\n",
       "      <th>Parcel Centroid[Z] (m)</th>\n",
       "    </tr>\n",
       "  </thead>\n",
       "  <tbody>\n",
       "    <tr>\n",
       "      <th>0</th>\n",
       "      <td>0.031825</td>\n",
       "      <td>0.000501</td>\n",
       "    </tr>\n",
       "    <tr>\n",
       "      <th>1</th>\n",
       "      <td>0.027128</td>\n",
       "      <td>0.000499</td>\n",
       "    </tr>\n",
       "    <tr>\n",
       "      <th>2</th>\n",
       "      <td>0.027052</td>\n",
       "      <td>0.000642</td>\n",
       "    </tr>\n",
       "    <tr>\n",
       "      <th>3</th>\n",
       "      <td>0.023665</td>\n",
       "      <td>0.000511</td>\n",
       "    </tr>\n",
       "    <tr>\n",
       "      <th>4</th>\n",
       "      <td>0.030634</td>\n",
       "      <td>0.000500</td>\n",
       "    </tr>\n",
       "    <tr>\n",
       "      <th>...</th>\n",
       "      <td>...</td>\n",
       "      <td>...</td>\n",
       "    </tr>\n",
       "    <tr>\n",
       "      <th>13410144</th>\n",
       "      <td>-0.117258</td>\n",
       "      <td>0.019726</td>\n",
       "    </tr>\n",
       "    <tr>\n",
       "      <th>13410145</th>\n",
       "      <td>-0.117261</td>\n",
       "      <td>0.002363</td>\n",
       "    </tr>\n",
       "    <tr>\n",
       "      <th>13410146</th>\n",
       "      <td>-0.117269</td>\n",
       "      <td>0.002854</td>\n",
       "    </tr>\n",
       "    <tr>\n",
       "      <th>13410147</th>\n",
       "      <td>-0.117272</td>\n",
       "      <td>0.013622</td>\n",
       "    </tr>\n",
       "    <tr>\n",
       "      <th>13410148</th>\n",
       "      <td>-0.117272</td>\n",
       "      <td>0.004727</td>\n",
       "    </tr>\n",
       "  </tbody>\n",
       "</table>\n",
       "<p>13410149 rows × 2 columns</p>\n",
       "</div>"
      ],
      "text/plain": [
       "          Parcel Centroid[X] (m)  Parcel Centroid[Z] (m)\n",
       "0                       0.031825                0.000501\n",
       "1                       0.027128                0.000499\n",
       "2                       0.027052                0.000642\n",
       "3                       0.023665                0.000511\n",
       "4                       0.030634                0.000500\n",
       "...                          ...                     ...\n",
       "13410144               -0.117258                0.019726\n",
       "13410145               -0.117261                0.002363\n",
       "13410146               -0.117269                0.002854\n",
       "13410147               -0.117272                0.013622\n",
       "13410148               -0.117272                0.004727\n",
       "\n",
       "[13410149 rows x 2 columns]"
      ]
     },
     "execution_count": 17,
     "metadata": {},
     "output_type": "execute_result"
    }
   ],
   "source": [
    "y"
   ]
  },
  {
   "cell_type": "markdown",
   "id": "d3969a21-d07e-4e49-bf81-a17a519835aa",
   "metadata": {},
   "source": [
    "## 2.3 Checking if there is any missing value in our data\n",
    "            * If there is any non-numerical value, we perform feature encoding\n",
    "            * And/ or if there is any missing value, we perform imputation\n",
    "            * If no missing value, then we continue to building the machine Learning Model"
   ]
  },
  {
   "cell_type": "code",
   "execution_count": 19,
   "id": "ac4438d5-345c-427f-9bad-02be39c8347c",
   "metadata": {},
   "outputs": [
    {
     "data": {
      "text/plain": [
       "Index                                 0\n",
       "Time (s)                              0\n",
       "Particle Velocity: Magnitude (m/s)    0\n",
       "Particle Velocity[i] (m/s)            0\n",
       "Particle Velocity[k] (m/s)            0\n",
       "dtype: int64"
      ]
     },
     "execution_count": 19,
     "metadata": {},
     "output_type": "execute_result"
    }
   ],
   "source": [
    "X.isna().sum()"
   ]
  },
  {
   "cell_type": "code",
   "execution_count": 20,
   "id": "03466f28-74e8-4b0d-bf70-7eb0b698015e",
   "metadata": {},
   "outputs": [
    {
     "data": {
      "text/plain": [
       "Parcel Centroid[X] (m)    0\n",
       "Parcel Centroid[Z] (m)    0\n",
       "dtype: int64"
      ]
     },
     "execution_count": 20,
     "metadata": {},
     "output_type": "execute_result"
    }
   ],
   "source": [
    "y.isna().sum()"
   ]
  },
  {
   "cell_type": "markdown",
   "id": "d4d124dc-35ad-4296-94d8-0622f682aec9",
   "metadata": {},
   "source": [
    "# 3.0 Building and Training the Machine Learning Model for our Data"
   ]
  },
  {
   "cell_type": "code",
   "execution_count": 22,
   "id": "2b87d1d0-e55e-4ae4-9102-b224f44dfeab",
   "metadata": {},
   "outputs": [
    {
     "data": {
      "text/plain": [
       "<bound method BaseEstimator.get_params of RandomForestRegressor(n_estimators=90)>"
      ]
     },
     "execution_count": 22,
     "metadata": {},
     "output_type": "execute_result"
    }
   ],
   "source": [
    "from sklearn.ensemble import RandomForestRegressor\n",
    "\n",
    "model1 =RandomForestRegressor(n_estimators=90)\n",
    "model1.get_params"
   ]
  },
  {
   "cell_type": "code",
   "execution_count": 23,
   "id": "8139a34a-3cd8-47e1-9c07-cd9806ec41b7",
   "metadata": {},
   "outputs": [
    {
     "ename": "MemoryError",
     "evalue": "could not allocate 1073741824 bytes",
     "output_type": "error",
     "traceback": [
      "\u001b[1;31m---------------------------------------------------------------------------\u001b[0m",
      "\u001b[1;31mMemoryError\u001b[0m                               Traceback (most recent call last)",
      "File \u001b[1;32m<timed exec>:7\u001b[0m\n",
      "File \u001b[1;32mC:\\ProgramData\\anaconda3\\Lib\\site-packages\\sklearn\\base.py:1474\u001b[0m, in \u001b[0;36m_fit_context.<locals>.decorator.<locals>.wrapper\u001b[1;34m(estimator, *args, **kwargs)\u001b[0m\n\u001b[0;32m   1467\u001b[0m     estimator\u001b[38;5;241m.\u001b[39m_validate_params()\n\u001b[0;32m   1469\u001b[0m \u001b[38;5;28;01mwith\u001b[39;00m config_context(\n\u001b[0;32m   1470\u001b[0m     skip_parameter_validation\u001b[38;5;241m=\u001b[39m(\n\u001b[0;32m   1471\u001b[0m         prefer_skip_nested_validation \u001b[38;5;129;01mor\u001b[39;00m global_skip_validation\n\u001b[0;32m   1472\u001b[0m     )\n\u001b[0;32m   1473\u001b[0m ):\n\u001b[1;32m-> 1474\u001b[0m     \u001b[38;5;28;01mreturn\u001b[39;00m fit_method(estimator, \u001b[38;5;241m*\u001b[39margs, \u001b[38;5;241m*\u001b[39m\u001b[38;5;241m*\u001b[39mkwargs)\n",
      "File \u001b[1;32mC:\\ProgramData\\anaconda3\\Lib\\site-packages\\sklearn\\ensemble\\_forest.py:489\u001b[0m, in \u001b[0;36mBaseForest.fit\u001b[1;34m(self, X, y, sample_weight)\u001b[0m\n\u001b[0;32m    478\u001b[0m trees \u001b[38;5;241m=\u001b[39m [\n\u001b[0;32m    479\u001b[0m     \u001b[38;5;28mself\u001b[39m\u001b[38;5;241m.\u001b[39m_make_estimator(append\u001b[38;5;241m=\u001b[39m\u001b[38;5;28;01mFalse\u001b[39;00m, random_state\u001b[38;5;241m=\u001b[39mrandom_state)\n\u001b[0;32m    480\u001b[0m     \u001b[38;5;28;01mfor\u001b[39;00m i \u001b[38;5;129;01min\u001b[39;00m \u001b[38;5;28mrange\u001b[39m(n_more_estimators)\n\u001b[0;32m    481\u001b[0m ]\n\u001b[0;32m    483\u001b[0m \u001b[38;5;66;03m# Parallel loop: we prefer the threading backend as the Cython code\u001b[39;00m\n\u001b[0;32m    484\u001b[0m \u001b[38;5;66;03m# for fitting the trees is internally releasing the Python GIL\u001b[39;00m\n\u001b[0;32m    485\u001b[0m \u001b[38;5;66;03m# making threading more efficient than multiprocessing in\u001b[39;00m\n\u001b[0;32m    486\u001b[0m \u001b[38;5;66;03m# that case. However, for joblib 0.12+ we respect any\u001b[39;00m\n\u001b[0;32m    487\u001b[0m \u001b[38;5;66;03m# parallel_backend contexts set at a higher level,\u001b[39;00m\n\u001b[0;32m    488\u001b[0m \u001b[38;5;66;03m# since correctness does not rely on using threads.\u001b[39;00m\n\u001b[1;32m--> 489\u001b[0m trees \u001b[38;5;241m=\u001b[39m Parallel(\n\u001b[0;32m    490\u001b[0m     n_jobs\u001b[38;5;241m=\u001b[39m\u001b[38;5;28mself\u001b[39m\u001b[38;5;241m.\u001b[39mn_jobs,\n\u001b[0;32m    491\u001b[0m     verbose\u001b[38;5;241m=\u001b[39m\u001b[38;5;28mself\u001b[39m\u001b[38;5;241m.\u001b[39mverbose,\n\u001b[0;32m    492\u001b[0m     prefer\u001b[38;5;241m=\u001b[39m\u001b[38;5;124m\"\u001b[39m\u001b[38;5;124mthreads\u001b[39m\u001b[38;5;124m\"\u001b[39m,\n\u001b[0;32m    493\u001b[0m )(\n\u001b[0;32m    494\u001b[0m     delayed(_parallel_build_trees)(\n\u001b[0;32m    495\u001b[0m         t,\n\u001b[0;32m    496\u001b[0m         \u001b[38;5;28mself\u001b[39m\u001b[38;5;241m.\u001b[39mbootstrap,\n\u001b[0;32m    497\u001b[0m         X,\n\u001b[0;32m    498\u001b[0m         y,\n\u001b[0;32m    499\u001b[0m         sample_weight,\n\u001b[0;32m    500\u001b[0m         i,\n\u001b[0;32m    501\u001b[0m         \u001b[38;5;28mlen\u001b[39m(trees),\n\u001b[0;32m    502\u001b[0m         verbose\u001b[38;5;241m=\u001b[39m\u001b[38;5;28mself\u001b[39m\u001b[38;5;241m.\u001b[39mverbose,\n\u001b[0;32m    503\u001b[0m         class_weight\u001b[38;5;241m=\u001b[39m\u001b[38;5;28mself\u001b[39m\u001b[38;5;241m.\u001b[39mclass_weight,\n\u001b[0;32m    504\u001b[0m         n_samples_bootstrap\u001b[38;5;241m=\u001b[39mn_samples_bootstrap,\n\u001b[0;32m    505\u001b[0m         missing_values_in_feature_mask\u001b[38;5;241m=\u001b[39mmissing_values_in_feature_mask,\n\u001b[0;32m    506\u001b[0m     )\n\u001b[0;32m    507\u001b[0m     \u001b[38;5;28;01mfor\u001b[39;00m i, t \u001b[38;5;129;01min\u001b[39;00m \u001b[38;5;28menumerate\u001b[39m(trees)\n\u001b[0;32m    508\u001b[0m )\n\u001b[0;32m    510\u001b[0m \u001b[38;5;66;03m# Collect newly grown trees\u001b[39;00m\n\u001b[0;32m    511\u001b[0m \u001b[38;5;28mself\u001b[39m\u001b[38;5;241m.\u001b[39mestimators_\u001b[38;5;241m.\u001b[39mextend(trees)\n",
      "File \u001b[1;32mC:\\ProgramData\\anaconda3\\Lib\\site-packages\\sklearn\\utils\\parallel.py:67\u001b[0m, in \u001b[0;36mParallel.__call__\u001b[1;34m(self, iterable)\u001b[0m\n\u001b[0;32m     62\u001b[0m config \u001b[38;5;241m=\u001b[39m get_config()\n\u001b[0;32m     63\u001b[0m iterable_with_config \u001b[38;5;241m=\u001b[39m (\n\u001b[0;32m     64\u001b[0m     (_with_config(delayed_func, config), args, kwargs)\n\u001b[0;32m     65\u001b[0m     \u001b[38;5;28;01mfor\u001b[39;00m delayed_func, args, kwargs \u001b[38;5;129;01min\u001b[39;00m iterable\n\u001b[0;32m     66\u001b[0m )\n\u001b[1;32m---> 67\u001b[0m \u001b[38;5;28;01mreturn\u001b[39;00m \u001b[38;5;28msuper\u001b[39m()\u001b[38;5;241m.\u001b[39m\u001b[38;5;21m__call__\u001b[39m(iterable_with_config)\n",
      "File \u001b[1;32mC:\\ProgramData\\anaconda3\\Lib\\site-packages\\joblib\\parallel.py:1918\u001b[0m, in \u001b[0;36mParallel.__call__\u001b[1;34m(self, iterable)\u001b[0m\n\u001b[0;32m   1916\u001b[0m     output \u001b[38;5;241m=\u001b[39m \u001b[38;5;28mself\u001b[39m\u001b[38;5;241m.\u001b[39m_get_sequential_output(iterable)\n\u001b[0;32m   1917\u001b[0m     \u001b[38;5;28mnext\u001b[39m(output)\n\u001b[1;32m-> 1918\u001b[0m     \u001b[38;5;28;01mreturn\u001b[39;00m output \u001b[38;5;28;01mif\u001b[39;00m \u001b[38;5;28mself\u001b[39m\u001b[38;5;241m.\u001b[39mreturn_generator \u001b[38;5;28;01melse\u001b[39;00m \u001b[38;5;28mlist\u001b[39m(output)\n\u001b[0;32m   1920\u001b[0m \u001b[38;5;66;03m# Let's create an ID that uniquely identifies the current call. If the\u001b[39;00m\n\u001b[0;32m   1921\u001b[0m \u001b[38;5;66;03m# call is interrupted early and that the same instance is immediately\u001b[39;00m\n\u001b[0;32m   1922\u001b[0m \u001b[38;5;66;03m# re-used, this id will be used to prevent workers that were\u001b[39;00m\n\u001b[0;32m   1923\u001b[0m \u001b[38;5;66;03m# concurrently finalizing a task from the previous call to run the\u001b[39;00m\n\u001b[0;32m   1924\u001b[0m \u001b[38;5;66;03m# callback.\u001b[39;00m\n\u001b[0;32m   1925\u001b[0m \u001b[38;5;28;01mwith\u001b[39;00m \u001b[38;5;28mself\u001b[39m\u001b[38;5;241m.\u001b[39m_lock:\n",
      "File \u001b[1;32mC:\\ProgramData\\anaconda3\\Lib\\site-packages\\joblib\\parallel.py:1847\u001b[0m, in \u001b[0;36mParallel._get_sequential_output\u001b[1;34m(self, iterable)\u001b[0m\n\u001b[0;32m   1845\u001b[0m \u001b[38;5;28mself\u001b[39m\u001b[38;5;241m.\u001b[39mn_dispatched_batches \u001b[38;5;241m+\u001b[39m\u001b[38;5;241m=\u001b[39m \u001b[38;5;241m1\u001b[39m\n\u001b[0;32m   1846\u001b[0m \u001b[38;5;28mself\u001b[39m\u001b[38;5;241m.\u001b[39mn_dispatched_tasks \u001b[38;5;241m+\u001b[39m\u001b[38;5;241m=\u001b[39m \u001b[38;5;241m1\u001b[39m\n\u001b[1;32m-> 1847\u001b[0m res \u001b[38;5;241m=\u001b[39m func(\u001b[38;5;241m*\u001b[39margs, \u001b[38;5;241m*\u001b[39m\u001b[38;5;241m*\u001b[39mkwargs)\n\u001b[0;32m   1848\u001b[0m \u001b[38;5;28mself\u001b[39m\u001b[38;5;241m.\u001b[39mn_completed_tasks \u001b[38;5;241m+\u001b[39m\u001b[38;5;241m=\u001b[39m \u001b[38;5;241m1\u001b[39m\n\u001b[0;32m   1849\u001b[0m \u001b[38;5;28mself\u001b[39m\u001b[38;5;241m.\u001b[39mprint_progress()\n",
      "File \u001b[1;32mC:\\ProgramData\\anaconda3\\Lib\\site-packages\\sklearn\\utils\\parallel.py:129\u001b[0m, in \u001b[0;36m_FuncWrapper.__call__\u001b[1;34m(self, *args, **kwargs)\u001b[0m\n\u001b[0;32m    127\u001b[0m     config \u001b[38;5;241m=\u001b[39m {}\n\u001b[0;32m    128\u001b[0m \u001b[38;5;28;01mwith\u001b[39;00m config_context(\u001b[38;5;241m*\u001b[39m\u001b[38;5;241m*\u001b[39mconfig):\n\u001b[1;32m--> 129\u001b[0m     \u001b[38;5;28;01mreturn\u001b[39;00m \u001b[38;5;28mself\u001b[39m\u001b[38;5;241m.\u001b[39mfunction(\u001b[38;5;241m*\u001b[39margs, \u001b[38;5;241m*\u001b[39m\u001b[38;5;241m*\u001b[39mkwargs)\n",
      "File \u001b[1;32mC:\\ProgramData\\anaconda3\\Lib\\site-packages\\sklearn\\ensemble\\_forest.py:192\u001b[0m, in \u001b[0;36m_parallel_build_trees\u001b[1;34m(tree, bootstrap, X, y, sample_weight, tree_idx, n_trees, verbose, class_weight, n_samples_bootstrap, missing_values_in_feature_mask)\u001b[0m\n\u001b[0;32m    189\u001b[0m     \u001b[38;5;28;01melif\u001b[39;00m class_weight \u001b[38;5;241m==\u001b[39m \u001b[38;5;124m\"\u001b[39m\u001b[38;5;124mbalanced_subsample\u001b[39m\u001b[38;5;124m\"\u001b[39m:\n\u001b[0;32m    190\u001b[0m         curr_sample_weight \u001b[38;5;241m*\u001b[39m\u001b[38;5;241m=\u001b[39m compute_sample_weight(\u001b[38;5;124m\"\u001b[39m\u001b[38;5;124mbalanced\u001b[39m\u001b[38;5;124m\"\u001b[39m, y, indices\u001b[38;5;241m=\u001b[39mindices)\n\u001b[1;32m--> 192\u001b[0m     tree\u001b[38;5;241m.\u001b[39m_fit(\n\u001b[0;32m    193\u001b[0m         X,\n\u001b[0;32m    194\u001b[0m         y,\n\u001b[0;32m    195\u001b[0m         sample_weight\u001b[38;5;241m=\u001b[39mcurr_sample_weight,\n\u001b[0;32m    196\u001b[0m         check_input\u001b[38;5;241m=\u001b[39m\u001b[38;5;28;01mFalse\u001b[39;00m,\n\u001b[0;32m    197\u001b[0m         missing_values_in_feature_mask\u001b[38;5;241m=\u001b[39mmissing_values_in_feature_mask,\n\u001b[0;32m    198\u001b[0m     )\n\u001b[0;32m    199\u001b[0m \u001b[38;5;28;01melse\u001b[39;00m:\n\u001b[0;32m    200\u001b[0m     tree\u001b[38;5;241m.\u001b[39m_fit(\n\u001b[0;32m    201\u001b[0m         X,\n\u001b[0;32m    202\u001b[0m         y,\n\u001b[1;32m   (...)\u001b[0m\n\u001b[0;32m    205\u001b[0m         missing_values_in_feature_mask\u001b[38;5;241m=\u001b[39mmissing_values_in_feature_mask,\n\u001b[0;32m    206\u001b[0m     )\n",
      "File \u001b[1;32mC:\\ProgramData\\anaconda3\\Lib\\site-packages\\sklearn\\tree\\_classes.py:472\u001b[0m, in \u001b[0;36mBaseDecisionTree._fit\u001b[1;34m(self, X, y, sample_weight, check_input, missing_values_in_feature_mask)\u001b[0m\n\u001b[0;32m    461\u001b[0m \u001b[38;5;28;01melse\u001b[39;00m:\n\u001b[0;32m    462\u001b[0m     builder \u001b[38;5;241m=\u001b[39m BestFirstTreeBuilder(\n\u001b[0;32m    463\u001b[0m         splitter,\n\u001b[0;32m    464\u001b[0m         min_samples_split,\n\u001b[1;32m   (...)\u001b[0m\n\u001b[0;32m    469\u001b[0m         \u001b[38;5;28mself\u001b[39m\u001b[38;5;241m.\u001b[39mmin_impurity_decrease,\n\u001b[0;32m    470\u001b[0m     )\n\u001b[1;32m--> 472\u001b[0m builder\u001b[38;5;241m.\u001b[39mbuild(\u001b[38;5;28mself\u001b[39m\u001b[38;5;241m.\u001b[39mtree_, X, y, sample_weight, missing_values_in_feature_mask)\n\u001b[0;32m    474\u001b[0m \u001b[38;5;28;01mif\u001b[39;00m \u001b[38;5;28mself\u001b[39m\u001b[38;5;241m.\u001b[39mn_outputs_ \u001b[38;5;241m==\u001b[39m \u001b[38;5;241m1\u001b[39m \u001b[38;5;129;01mand\u001b[39;00m is_classifier(\u001b[38;5;28mself\u001b[39m):\n\u001b[0;32m    475\u001b[0m     \u001b[38;5;28mself\u001b[39m\u001b[38;5;241m.\u001b[39mn_classes_ \u001b[38;5;241m=\u001b[39m \u001b[38;5;28mself\u001b[39m\u001b[38;5;241m.\u001b[39mn_classes_[\u001b[38;5;241m0\u001b[39m]\n",
      "File \u001b[1;32msklearn\\\\tree\\\\_tree.pyx:166\u001b[0m, in \u001b[0;36msklearn.tree._tree.DepthFirstTreeBuilder.build\u001b[1;34m()\u001b[0m\n",
      "File \u001b[1;32msklearn\\\\tree\\\\_tree.pyx:285\u001b[0m, in \u001b[0;36msklearn.tree._tree.DepthFirstTreeBuilder.build\u001b[1;34m()\u001b[0m\n",
      "File \u001b[1;32msklearn\\\\tree\\\\_tree.pyx:940\u001b[0m, in \u001b[0;36msklearn.tree._tree.Tree._add_node\u001b[1;34m()\u001b[0m\n",
      "File \u001b[1;32msklearn\\\\tree\\\\_tree.pyx:908\u001b[0m, in \u001b[0;36msklearn.tree._tree.Tree._resize_c\u001b[1;34m()\u001b[0m\n",
      "File \u001b[1;32msklearn\\\\tree\\\\_utils.pyx:35\u001b[0m, in \u001b[0;36msklearn.tree._utils.safe_realloc\u001b[1;34m()\u001b[0m\n",
      "\u001b[1;31mMemoryError\u001b[0m: could not allocate 1073741824 bytes"
     ]
    }
   ],
   "source": [
    "%%time\n",
    "\n",
    "np.random.seed(42)\n",
    "from sklearn.model_selection import train_test_split\n",
    "\n",
    "X_train, X_test, y_train, y_test= train_test_split(X,y,\n",
    "                                                   test_size=0.2)\n",
    "\n",
    "model1.fit(X_train, y_train)"
   ]
  },
  {
   "cell_type": "code",
   "execution_count": 24,
   "id": "f3ed9b08",
   "metadata": {
    "scrolled": true
   },
   "outputs": [
    {
     "data": {
      "text/plain": [
       "Index(['Index', 'Time (s)', 'Particle Velocity: Magnitude (m/s)',\n",
       "       'Particle Velocity[i] (m/s)', 'Particle Velocity[k] (m/s)'],\n",
       "      dtype='object')"
      ]
     },
     "execution_count": 24,
     "metadata": {},
     "output_type": "execute_result"
    }
   ],
   "source": [
    "X.columns"
   ]
  },
  {
   "cell_type": "code",
   "execution_count": null,
   "id": "d1dc8a2f",
   "metadata": {},
   "outputs": [],
   "source": []
  },
  {
   "cell_type": "markdown",
   "id": "370c23f2-6b0f-4e52-aae4-f4db42a6134a",
   "metadata": {},
   "source": [
    "## 3.1 Predicting with our model"
   ]
  },
  {
   "cell_type": "code",
   "execution_count": 26,
   "id": "81f14ae7-b9af-48ef-b0e0-b51580ac410d",
   "metadata": {},
   "outputs": [
    {
     "ename": "IndexError",
     "evalue": "list index out of range",
     "output_type": "error",
     "traceback": [
      "\u001b[1;31m---------------------------------------------------------------------------\u001b[0m",
      "\u001b[1;31mIndexError\u001b[0m                                Traceback (most recent call last)",
      "Cell \u001b[1;32mIn[26], line 1\u001b[0m\n\u001b[1;32m----> 1\u001b[0m y_preds\u001b[38;5;241m=\u001b[39mmodel1\u001b[38;5;241m.\u001b[39mpredict(X_test)\n\u001b[0;32m      3\u001b[0m y_preds\n",
      "File \u001b[1;32mC:\\ProgramData\\anaconda3\\Lib\\site-packages\\sklearn\\ensemble\\_forest.py:1064\u001b[0m, in \u001b[0;36mForestRegressor.predict\u001b[1;34m(self, X)\u001b[0m\n\u001b[0;32m   1062\u001b[0m check_is_fitted(\u001b[38;5;28mself\u001b[39m)\n\u001b[0;32m   1063\u001b[0m \u001b[38;5;66;03m# Check data\u001b[39;00m\n\u001b[1;32m-> 1064\u001b[0m X \u001b[38;5;241m=\u001b[39m \u001b[38;5;28mself\u001b[39m\u001b[38;5;241m.\u001b[39m_validate_X_predict(X)\n\u001b[0;32m   1066\u001b[0m \u001b[38;5;66;03m# Assign chunk of trees to jobs\u001b[39;00m\n\u001b[0;32m   1067\u001b[0m n_jobs, _, _ \u001b[38;5;241m=\u001b[39m _partition_estimators(\u001b[38;5;28mself\u001b[39m\u001b[38;5;241m.\u001b[39mn_estimators, \u001b[38;5;28mself\u001b[39m\u001b[38;5;241m.\u001b[39mn_jobs)\n",
      "File \u001b[1;32mC:\\ProgramData\\anaconda3\\Lib\\site-packages\\sklearn\\ensemble\\_forest.py:636\u001b[0m, in \u001b[0;36mBaseForest._validate_X_predict\u001b[1;34m(self, X)\u001b[0m\n\u001b[0;32m    633\u001b[0m \u001b[38;5;250m\u001b[39m\u001b[38;5;124;03m\"\"\"\u001b[39;00m\n\u001b[0;32m    634\u001b[0m \u001b[38;5;124;03mValidate X whenever one tries to predict, apply, predict_proba.\"\"\"\u001b[39;00m\n\u001b[0;32m    635\u001b[0m check_is_fitted(\u001b[38;5;28mself\u001b[39m)\n\u001b[1;32m--> 636\u001b[0m \u001b[38;5;28;01mif\u001b[39;00m \u001b[38;5;28mself\u001b[39m\u001b[38;5;241m.\u001b[39mestimators_[\u001b[38;5;241m0\u001b[39m]\u001b[38;5;241m.\u001b[39m_support_missing_values(X):\n\u001b[0;32m    637\u001b[0m     force_all_finite \u001b[38;5;241m=\u001b[39m \u001b[38;5;124m\"\u001b[39m\u001b[38;5;124mallow-nan\u001b[39m\u001b[38;5;124m\"\u001b[39m\n\u001b[0;32m    638\u001b[0m \u001b[38;5;28;01melse\u001b[39;00m:\n",
      "\u001b[1;31mIndexError\u001b[0m: list index out of range"
     ]
    }
   ],
   "source": [
    "y_preds=model1.predict(X_test)\n",
    "  \n",
    "y_preds\n"
   ]
  },
  {
   "cell_type": "code",
   "execution_count": null,
   "id": "b239e1da-d3fa-4eb7-8315-83c2e8022814",
   "metadata": {
    "scrolled": true
   },
   "outputs": [],
   "source": [
    "y_preds=pd.DataFrame(y_preds, columns=['Parcel Centroid[X] (m)',\t'Parcel Centroid[Z] (m)'])\n",
    "y_preds"
   ]
  },
  {
   "cell_type": "code",
   "execution_count": null,
   "id": "e0f81926-7e76-472c-92af-13d97433f44e",
   "metadata": {},
   "outputs": [],
   "source": [
    "y_test"
   ]
  },
  {
   "cell_type": "code",
   "execution_count": null,
   "id": "94b007b2",
   "metadata": {},
   "outputs": [],
   "source": []
  },
  {
   "cell_type": "markdown",
   "id": "7d02d00b-d740-43b7-add7-a74c474197d3",
   "metadata": {},
   "source": [
    "## 3.2 Scoring our model"
   ]
  },
  {
   "cell_type": "code",
   "execution_count": null,
   "id": "4fa10599-4e93-4463-a8aa-1bc4bbbcdaf8",
   "metadata": {},
   "outputs": [],
   "source": [
    "# Scoring the training data\n",
    "\n",
    "model1.score(X_train, y_train)"
   ]
  },
  {
   "cell_type": "code",
   "execution_count": null,
   "id": "43289846-de41-4ce1-84fb-6201221bbe69",
   "metadata": {},
   "outputs": [],
   "source": [
    "from sklearn.metrics import r2_score, mean_squared_error, mean_absolute_error\n",
    "\n",
    "metrics ={\"r-squared\": r2_score, \n",
    "          \"Mean absolute error (MAE)\": mean_absolute_error, \n",
    "          \"Mean squared error(MSE)\":mean_squared_error, \n",
    "          \n",
    "         }\n",
    "model1_scores={}\n",
    "\n",
    "for key,value in metrics.items():\n",
    "    model1_scores[key]=value(y_test, y_preds)\n",
    "\n",
    "    \n",
    "model1_scores"
   ]
  },
  {
   "cell_type": "code",
   "execution_count": null,
   "id": "11455e50",
   "metadata": {},
   "outputs": [],
   "source": [
    "scores_table= pd.DataFrame(model1_scores.values(), index=model1_scores.keys(), columns=[\"Values\"])\n",
    "scores_table"
   ]
  },
  {
   "cell_type": "code",
   "execution_count": null,
   "id": "f1974058",
   "metadata": {},
   "outputs": [],
   "source": [
    "scores_table.to_csv('#150scores.csv')"
   ]
  },
  {
   "cell_type": "markdown",
   "id": "dd412002-e681-4a45-b8c4-e66380881108",
   "metadata": {},
   "source": [
    "# 4.0 Plotting the Data\n",
    "Plotting at the first time-index of the test data This is equivalent to the zeroth index\n",
    "We can do the same for other indexes"
   ]
  },
  {
   "cell_type": "code",
   "execution_count": null,
   "id": "449f0a0c-2f6d-4b6b-a48a-7292be95223b",
   "metadata": {},
   "outputs": [],
   "source": [
    "actual_Xi = y_test.iloc[:, 0]\n",
    "actual_Xj=y_test.iloc[:, 1:]\n",
    "\n",
    "predicted_Xi = y_preds.iloc[:, 0]\n",
    "predicted_Xj = y_preds.iloc[:, 1:]\n"
   ]
  },
  {
   "cell_type": "markdown",
   "id": "345aa1ef-44be-44f7-b6a1-edcd339a4eea",
   "metadata": {},
   "source": [
    "## 4.2 Separate plots of the Actual Granules Position and the Predicted Granules Position"
   ]
  },
  {
   "cell_type": "code",
   "execution_count": null,
   "id": "2c155a44-24e9-48d9-8a44-ed2dbbf49a5a",
   "metadata": {},
   "outputs": [],
   "source": [
    "#Plotting the actual and Predicted positions \n",
    "# Plot the actual and predicted positions\n",
    "#plt.scatter(actual_Xi, actual_Xj, color='blue', label='Actual')\n",
    "\n",
    "fig, (ax1, ax2) = plt.subplots(2,1, figsize=(10,15))\n",
    "\n",
    "ax1.scatter(actual_Xi, actual_Xj)\n",
    "ax2.scatter(predicted_Xi, predicted_Xj, color='red')\n",
    "\n",
    "ax1.set(title=\"Plot of actual Test data (y_test)\", \n",
    "              xlabel='i (m)',\n",
    "              ylabel='j (m)'\n",
    "             )\n",
    "fig.tight_layout(pad=5)\n",
    "\n",
    "ax2.set(title= \"Plot of the Predicted data (y_preds)\", \n",
    "        xlabel= 'i (m)',\n",
    "        ylabel='j (m)'\n",
    "       )\n",
    "\n",
    "plt.savefig(\"./Separate plots of Actual and Predicted granules Position(#150).png\", dpi=1200)"
   ]
  },
  {
   "cell_type": "markdown",
   "id": "c481f141-b603-4932-8aae-aafa76ed84f2",
   "metadata": {},
   "source": [
    "## 4.3 Plotting the Actual Granules Position against the Predicted Granules Position"
   ]
  },
  {
   "cell_type": "code",
   "execution_count": null,
   "id": "c21ceb3d-378c-4058-af69-a716c8e0347c",
   "metadata": {},
   "outputs": [],
   "source": [
    "fig, ax3 =plt.subplots(1,1,figsize=(5,5))\n",
    "\n",
    "ax3.scatter(actual_Xi, actual_Xj, color ='blue')\n",
    "\n",
    "ax3.scatter(predicted_Xi, predicted_Xj, color='red')\n",
    "\n",
    "ax3.set(title=\"Actual Granules Position against the Predicted Granules Position\",\n",
    "      xlabel=\"i (m)\",\n",
    "      ylabel=\"j (m)\")\n",
    "\n",
    "plt.savefig('./Actual vs Predicted(#150).png', dpi=1200)"
   ]
  },
  {
   "cell_type": "code",
   "execution_count": null,
   "id": "d9d446fb-d1c3-4420-bf99-311e5a00efc4",
   "metadata": {},
   "outputs": [],
   "source": [
    "## 4.3 Plot of the Actual against the Predicted Granules position of the first 500 granules "
   ]
  },
  {
   "cell_type": "code",
   "execution_count": null,
   "id": "ae517dd9-f5a4-4c3b-92cd-6e2fad4ca13d",
   "metadata": {},
   "outputs": [],
   "source": [
    "# fig, ax4 =plt.subplots(1,1,figsize=(5,5))\n",
    "# plt.scatter(actual_Xi[:500], actual_Xj[:500], color ='blue')\n",
    "# plt.scatter(predicted_Xi[:500], predicted_Xj[:500], color='red')\n",
    "\n",
    "# ax4.set(title=\"Actual Granules Position against the Predicted Granules Position\",\n",
    "#       xlabel=\"i (m)\",\n",
    "#       ylabel=\"j (m)\")\n",
    "\n",
    "# plt.savefig('./Actual vs Predicted(#150).png', dpi=1200)"
   ]
  },
  {
   "cell_type": "markdown",
   "id": "782c7cb5-9750-4464-b1b3-f7897ab2340a",
   "metadata": {},
   "source": [
    "# 5.0 Using Linear Regression Model"
   ]
  },
  {
   "cell_type": "code",
   "execution_count": null,
   "id": "21b32d90-6207-428b-9af6-fdaf0166b913",
   "metadata": {},
   "outputs": [],
   "source": [
    "%%time\n",
    "\n",
    "from sklearn.linear_model import LinearRegression\n",
    "\n",
    "model2=LinearRegression()\n",
    "\n",
    "model2.get_params\n",
    "model2.fit(X_train, y_train)\n"
   ]
  },
  {
   "cell_type": "markdown",
   "id": "5324cfb3-2d22-44bc-9968-5fc46c899f42",
   "metadata": {},
   "source": [
    "## 5.1 Making Prediction"
   ]
  },
  {
   "cell_type": "code",
   "execution_count": null,
   "id": "7b0eb2c1-2b13-47a5-b740-60ad3daebe55",
   "metadata": {},
   "outputs": [],
   "source": [
    "yLinear_Preds=model2.predict(X_test)\n",
    "yLinear_Preds"
   ]
  },
  {
   "cell_type": "code",
   "execution_count": null,
   "id": "339bc666-d8f7-4086-a912-529a848bdcb1",
   "metadata": {},
   "outputs": [],
   "source": [
    "yLinear_Preds=pd.DataFrame(yLinear_Preds, columns=['Parcel Centroid[X] (m)',  'Parcel Centroid[Z] (m)'])\n",
    "yLinear_Preds"
   ]
  },
  {
   "cell_type": "code",
   "execution_count": null,
   "id": "c4242c11-beba-4edc-9f15-68276dfa50c3",
   "metadata": {},
   "outputs": [],
   "source": [
    " y_test"
   ]
  },
  {
   "cell_type": "markdown",
   "id": "d4ae8bd8-a981-4c3a-b88e-8f7339783516",
   "metadata": {},
   "source": [
    "## 5.2 Scoring the Linear Regression based model"
   ]
  },
  {
   "cell_type": "code",
   "execution_count": null,
   "id": "85143a79-bc9b-41d2-9721-e8f73c08f0b8",
   "metadata": {},
   "outputs": [],
   "source": [
    "model2.score(X_train, y_train)"
   ]
  },
  {
   "cell_type": "code",
   "execution_count": null,
   "id": "60ee154f-5038-487e-8bf8-75e33f387fde",
   "metadata": {},
   "outputs": [],
   "source": [
    "model2.score(X_test, y_test)"
   ]
  },
  {
   "cell_type": "code",
   "execution_count": null,
   "id": "5f6a8cde",
   "metadata": {},
   "outputs": [],
   "source": []
  },
  {
   "cell_type": "code",
   "execution_count": null,
   "id": "bc815ccb",
   "metadata": {},
   "outputs": [],
   "source": [
    "model2_scores={}\n",
    "\n",
    "for key,value in metrics.items():\n",
    "    model2_scores[key]=value(y_test, yLinear_Preds)\n",
    "\n",
    "    \n",
    "model2_scores\n",
    "\n",
    "scores_table['LinearRegression']= np.array(list(model2_scores.values()))\n",
    "scores_table"
   ]
  },
  {
   "cell_type": "code",
   "execution_count": null,
   "id": "315e91fa",
   "metadata": {},
   "outputs": [],
   "source": [
    "model2_scores"
   ]
  },
  {
   "cell_type": "markdown",
   "id": "bb0a0f3a-78b7-43fb-9f3a-a7c171dd7f58",
   "metadata": {},
   "source": [
    "## 5.3 Plots of the Actual vs  Predicted Granule Position Using the Linear Regression Model"
   ]
  },
  {
   "cell_type": "code",
   "execution_count": null,
   "id": "ca8e509d-37b4-4ddd-8ce0-4adcd693f93e",
   "metadata": {},
   "outputs": [],
   "source": [
    "LR_Pred_Xi=yLinear_Preds.iloc[:,0]\n",
    "LR_Pred_Xj=yLinear_Preds.iloc[:, 1:]"
   ]
  },
  {
   "cell_type": "code",
   "execution_count": null,
   "id": "7d94cd4d-ba44-4f99-bb2f-2963f8ef92ce",
   "metadata": {},
   "outputs": [],
   "source": [
    "fig, ax5= plt.subplots(figsize=(5,5))\n",
    "\n",
    "ax5.scatter(actual_Xi, actual_Xj, color='blue')\n",
    "ax5.scatter(LR_Pred_Xi, LR_Pred_Xj, color='red')\n",
    "\n",
    "plt.savefig('./LinearRegression_model(#150).png', dpi=1200)"
   ]
  },
  {
   "cell_type": "markdown",
   "id": "26a24ac2-c31a-4c9a-919a-59fe4a33fdec",
   "metadata": {},
   "source": [
    "# 6.0 Using Ridge Regression"
   ]
  },
  {
   "cell_type": "code",
   "execution_count": null,
   "id": "ac4240cb-087c-4799-a993-524580bc9ecc",
   "metadata": {},
   "outputs": [],
   "source": [
    "%%time\n",
    "\n",
    "from sklearn.linear_model import Ridge\n",
    "\n",
    "model3= Ridge()\n",
    "\n",
    "model3.get_params\n",
    "\n",
    "model3.fit(X_train, y_train)"
   ]
  },
  {
   "cell_type": "code",
   "execution_count": null,
   "id": "8ae9d071-9e3e-4f44-940d-ccfcfd0908d1",
   "metadata": {},
   "outputs": [],
   "source": [
    "yRidge_preds=model3.predict(X_test)\n",
    "yRidge_preds"
   ]
  },
  {
   "cell_type": "code",
   "execution_count": null,
   "id": "e29f4d76-d415-4c9e-977a-3c94b2fd2111",
   "metadata": {},
   "outputs": [],
   "source": [
    "yRidge_preds=pd.DataFrame(yRidge_preds, columns=['Parcel Centroid[X] (m)',  'Parcel Centroid[Z] (m)'])\n",
    "yRidge_preds"
   ]
  },
  {
   "cell_type": "code",
   "execution_count": null,
   "id": "933bc617-0af8-4cea-a1e1-3d4e91b83c24",
   "metadata": {},
   "outputs": [],
   "source": [
    "y_test"
   ]
  },
  {
   "cell_type": "code",
   "execution_count": null,
   "id": "dc74458d-dcce-419f-93f6-b93cf950d02a",
   "metadata": {},
   "outputs": [],
   "source": [
    "model3.score(X_train, y_train)"
   ]
  },
  {
   "cell_type": "code",
   "execution_count": null,
   "id": "d13b8827-9bcd-49e6-8c12-4a629f9b1eb5",
   "metadata": {},
   "outputs": [],
   "source": [
    "model3.score(X_test, y_test)"
   ]
  },
  {
   "cell_type": "code",
   "execution_count": null,
   "id": "149f0224",
   "metadata": {},
   "outputs": [],
   "source": [
    "model3_scores={}\n",
    "\n",
    "for key,value in metrics.items():\n",
    "    model3_scores[key]=value(y_test, yRidge_preds)\n",
    "\n",
    "    \n",
    "model3_scores\n",
    "\n",
    "scores_table['RidgeRegression']= np.array(list(model3_scores.values()))\n",
    "scores_table"
   ]
  },
  {
   "cell_type": "markdown",
   "id": "5f26f07c-300d-45ca-b26c-2cff912592a8",
   "metadata": {},
   "source": [
    "## 6.3 Plotting the graph of Actual against Predicted for the Ridge regression Model"
   ]
  },
  {
   "cell_type": "code",
   "execution_count": null,
   "id": "8ae32248-db12-464e-8ff9-eb03f1019188",
   "metadata": {},
   "outputs": [],
   "source": [
    "RR_preds_Xi= yRidge_preds.iloc[:,0]\n",
    "RR_preds_Xj= yRidge_preds.iloc[:, 1:]\n"
   ]
  },
  {
   "cell_type": "code",
   "execution_count": null,
   "id": "559a3846-d876-469b-94f4-2c4087da2269",
   "metadata": {},
   "outputs": [],
   "source": [
    "fig, ax6= plt.subplots(figsize=(5,5))\n",
    "\n",
    "ax6.scatter(actual_Xi, actual_Xj, color='blue')\n",
    "ax6.scatter(RR_preds_Xi, RR_preds_Xj, color='red')\n",
    "\n",
    "plt.savefig('./Ridge Model plot(#150).png', dpi=1200)"
   ]
  },
  {
   "cell_type": "markdown",
   "id": "6e2abbda-5be7-44a0-bc80-0e9b780dec69",
   "metadata": {},
   "source": [
    "# 7 Using SVR"
   ]
  },
  {
   "cell_type": "code",
   "execution_count": null,
   "id": "33666f62-f18c-4ead-a842-9525ac8e28e0",
   "metadata": {},
   "outputs": [],
   "source": [
    "from sklearn.svm import SVR\n",
    "\n",
    "model4= SVR(kernel=\"poly\", C=100, gamma=\"auto\", degree=3, epsilon=0.1, coef0=1)\n",
    "\n",
    "model4.get_params\n",
    "\n",
    "model4.fit(X_train, y_train.iloc[:, 0]) # can not capture the 2D array of y, it can predict for 1D"
   ]
  },
  {
   "cell_type": "code",
   "execution_count": null,
   "id": "8009edaa-95fb-4304-9da2-e69324804cff",
   "metadata": {},
   "outputs": [],
   "source": [
    "y_train.iloc[:, 0]"
   ]
  },
  {
   "cell_type": "code",
   "execution_count": null,
   "id": "d41cb196-264c-42f4-9144-ba7c273e5894",
   "metadata": {},
   "outputs": [],
   "source": [
    "y_train.iloc[:, 0].shape"
   ]
  },
  {
   "cell_type": "code",
   "execution_count": null,
   "id": "dbe57fc2-941b-4551-9896-766ceb1c02d0",
   "metadata": {},
   "outputs": [],
   "source": [
    "y_train.shape"
   ]
  },
  {
   "cell_type": "code",
   "execution_count": null,
   "id": "07a2eac2-8f94-423a-a307-ca7e457c8e58",
   "metadata": {},
   "outputs": [],
   "source": [
    "model4.score(X_test, y_test.iloc[:,:1])"
   ]
  },
  {
   "cell_type": "code",
   "execution_count": null,
   "id": "a92e22f0-c136-49f6-8900-f63d66c21a28",
   "metadata": {},
   "outputs": [],
   "source": [
    "ySVR_preds=model4.predict(X_test)\n",
    "ySVR_preds"
   ]
  },
  {
   "cell_type": "code",
   "execution_count": null,
   "id": "e59c600b",
   "metadata": {},
   "outputs": [],
   "source": [
    "pd.DataFrame(ySVR_preds)"
   ]
  },
  {
   "cell_type": "code",
   "execution_count": null,
   "id": "43ad2551-f653-4b6a-9e91-c425b1d0149d",
   "metadata": {},
   "outputs": [],
   "source": [
    "y_test.iloc[:,0]"
   ]
  },
  {
   "cell_type": "markdown",
   "id": "8e9886ad-a5f6-40ef-8bff-1911b95ae145",
   "metadata": {},
   "source": [
    "# 8.0 Comparing all the Regression Models"
   ]
  },
  {
   "cell_type": "code",
   "execution_count": null,
   "id": "d7d1aa6a-80a6-4339-bba6-21f1f6ef8abe",
   "metadata": {},
   "outputs": [],
   "source": [
    "fig, (ax3, ax5, ax6) =plt.subplots(1,3,figsize=(15,5))\n",
    "\n",
    "\n",
    "l1=ax3.scatter(actual_Xi, actual_Xj, color ='blue')\n",
    "l2=ax3.scatter(predicted_Xi, predicted_Xj, color='red')\n",
    "ax3.set(title='RandomForestRegressor')\n",
    "\n",
    "ax5.scatter(actual_Xi, actual_Xj, color='blue')\n",
    "ax5.scatter(LR_Pred_Xi, LR_Pred_Xj, color='red')\n",
    "ax5.set(title='LinearRegressor')\n",
    "\n",
    "ax6.scatter(actual_Xi, actual_Xj, color='blue')\n",
    "ax6.scatter(RR_preds_Xi, RR_preds_Xj, color='red')\n",
    "ax6.set(title='RidgeRegressor')\n",
    "\n",
    "fig.tight_layout(pad=5.0)\n",
    "fig.legend(['Actual Granule Position', 'Predicted Granule Position'], loc='lower center')\n",
    "fig.suptitle('Comparison of the Different Machine Learning Model Regression Builds', fontsize=20)\n",
    "plt.savefig('./Comparison of the Different Machine Learning Model Regression Builds(#150).png', dpi=1200)"
   ]
  },
  {
   "cell_type": "code",
   "execution_count": null,
   "id": "96685f01",
   "metadata": {},
   "outputs": [],
   "source": [
    "model1_scores={}\n",
    "model2_scores={}\n",
    "model3_scores={}\n",
    "\n",
    "for key,value in metrics.items():\n",
    "    model1_scores[key]=value(y_test, y_preds)\n",
    "    model2_scores[key]=value(y_test, yLinear_Preds)\n",
    "    model3_scores[key]=value(y_test, yRidge_preds)\n",
    "\n",
    "  \n",
    "\n",
    "\n",
    "scores_table= pd.DataFrame(model1_scores.values(),  columns=['RandomForestRegression'], index= model1_scores.keys())\n",
    "scores_table['LinearRegression']= model2_scores.values()\n",
    "scores_table['RidgeRegression'] = model3_scores.values()\n",
    "\n",
    "scores_table.to_csv('#150scores.csv')\n",
    "\n",
    "scores_table"
   ]
  },
  {
   "cell_type": "markdown",
   "id": "70a30501-aba9-468c-a7f9-c7a543bfbe72",
   "metadata": {},
   "source": [
    "# RandomSearchCV"
   ]
  },
  {
   "cell_type": "code",
   "execution_count": null,
   "id": "d23ca926-47cb-4991-a8ac-e18733e9c303",
   "metadata": {},
   "outputs": [],
   "source": [
    "%%time\n",
    "\n",
    "from sklearn.model_selection import RandomizedSearchCV\n",
    "\n",
    "RndmFrst_grid={\"n_estimators\": [90,100],\n",
    "               \"max_depth\":[None, 10, 20],\n",
    "               \"min_samples_split\":[2,5],\n",
    "              }\n",
    "\n",
    "RndmSrch_RndmFrst=RandomizedSearchCV(RandomForestRegressor(),\n",
    "                              param_distributions= RndmFrst_grid,\n",
    "                              cv=5,\n",
    "                              verbose= 10\n",
    "                             )\n",
    "RndmSrch_RndmFrst.fit(X_train, y_train)"
   ]
  },
  {
   "cell_type": "code",
   "execution_count": null,
   "id": "00171382-3039-47fa-9a57-f0ce6daf8d48",
   "metadata": {},
   "outputs": [],
   "source": [
    "# RndmSrch_RndmFrst.best_params_"
   ]
  },
  {
   "cell_type": "code",
   "execution_count": null,
   "id": "d83e78ad-e0d7-4bb8-9f38-30ecc880aaa1",
   "metadata": {},
   "outputs": [],
   "source": [
    "%%time\n",
    "\n",
    "from sklearn.model_selection import GridSearchCV\n",
    "\n",
    "GridSrch_RndmFrst= GridSearchCV(RandomForestRegressor(),\n",
    "                                param_grid=RndmFrst_grid,\n",
    "                                cv=5,\n",
    "                                verbose=10)\n",
    "GridSrch_RndmFrst.fit(X_train, y_train)"
   ]
  },
  {
   "cell_type": "code",
   "execution_count": null,
   "id": "b267a63b-1d3b-454c-9fbb-8a372fd1416e",
   "metadata": {},
   "outputs": [],
   "source": [
    "# GridSrch_RndmFrst.best_params_"
   ]
  },
  {
   "cell_type": "markdown",
   "id": "b21c8093",
   "metadata": {},
   "source": [
    "## Making Use of the RandomizedSearchCV RandomForest Best_params for predicting our data"
   ]
  },
  {
   "cell_type": "code",
   "execution_count": null,
   "id": "55a4bb64",
   "metadata": {},
   "outputs": [],
   "source": [
    "# improved_model1=RandomForestRegressor(90,max_depth=None)\n",
    "# improved_model1\n",
    "\n",
    "# improved_model1.fit(X_train,y_train)"
   ]
  },
  {
   "cell_type": "code",
   "execution_count": null,
   "id": "1098c652",
   "metadata": {},
   "outputs": [],
   "source": [
    "# improvedModel_yPreds=improved_model1.predict(X_test)\n",
    "# improvedModel_yPreds"
   ]
  },
  {
   "cell_type": "markdown",
   "id": "5e08cd41-b712-46b4-8c69-34597c1ab36a",
   "metadata": {},
   "source": [
    "# Evaluating the tuned model"
   ]
  },
  {
   "cell_type": "markdown",
   "id": "87f1bbfc-cace-4954-b4ed-52be8f52f6f6",
   "metadata": {},
   "source": [
    " *The problem in question is that of regression and not classification, so we need to use the Regression metrics.\n",
    "    https://scikit-learn.org/stable/modules/model_evaluation.html\n",
    "    * The metrics used in this study are:\n",
    "            > R-squared score (r-squared)\n",
    "            > Mean absolute error (MAE)\n",
    "            > Mean squared error (MSE)\n",
    "            > Root mean squared error (RMSE)\n",
    "            > Max error\n",
    "            "
   ]
  },
  {
   "cell_type": "code",
   "execution_count": null,
   "id": "beb77ee8",
   "metadata": {},
   "outputs": [],
   "source": [
    "# from sklearn.metrics import r2_score, mean_squared_error, mean_absolute_error\n",
    "\n",
    "# metrics ={\"r-squared\": r2_score, \n",
    "#           \"Mean absolute error (MAE)\": mean_absolute_error, \n",
    "#           \"Mean squared error(MSE)\":mean_squared_error\n",
    "#          }\n",
    "\n",
    "# Improved_model1_scores={}\n",
    "\n",
    "# for key,value in metrics.items():\n",
    "#    Improved_model1_scores[key]= value(y_test, improvedModel_yPreds).astype(\"float\")\n",
    "\n",
    "# Improved_model1_scores"
   ]
  },
  {
   "cell_type": "markdown",
   "id": "38c4edd3-a9aa-404b-a018-02478b75020b",
   "metadata": {},
   "source": [
    "# Comparing these values with the values obtained before Tuning the Machine learning model"
   ]
  },
  {
   "cell_type": "markdown",
   "id": "e3826eee-72ae-484d-9fd6-75fa84e757a0",
   "metadata": {},
   "source": [
    "Recalling the score values of both models"
   ]
  },
  {
   "cell_type": "code",
   "execution_count": null,
   "id": "7488b1d1-3ec1-4488-b8a2-13bc18ccef79",
   "metadata": {},
   "outputs": [],
   "source": [
    "# model1_scores"
   ]
  },
  {
   "cell_type": "code",
   "execution_count": null,
   "id": "d9a703f5-de5d-4d1e-a153-aa892b54e4a9",
   "metadata": {},
   "outputs": [],
   "source": [
    "# Improved_model1_scores"
   ]
  },
  {
   "cell_type": "markdown",
   "id": "67effbbf-d920-4eb5-b47f-d35a99ea5008",
   "metadata": {},
   "source": [
    "## Finding the Difference"
   ]
  },
  {
   "cell_type": "code",
   "execution_count": null,
   "id": "152e4536-d91c-44dc-9d34-62ac5ecc97de",
   "metadata": {},
   "outputs": [],
   "source": [
    "# score_differences=(np.array(list(Improved_model1_scores.values()))-np.array(list(model1_scores.values())))\n",
    "# score_differences"
   ]
  },
  {
   "cell_type": "markdown",
   "id": "0a4de145-05e5-4d2e-806b-b2834e092439",
   "metadata": {},
   "source": [
    "## Showing the difference in a table"
   ]
  },
  {
   "cell_type": "code",
   "execution_count": null,
   "id": "c7e3e2c5-5557-4070-aba8-4c506ec888a0",
   "metadata": {},
   "outputs": [],
   "source": [
    "# pd.DataFrame([score_differences] ,columns=[['R-squared diff','Mean absolute error (MAE) diff' ,'Mean squared error(MSE) diff']])"
   ]
  },
  {
   "cell_type": "markdown",
   "id": "a784a817-4650-450b-b4ed-aa071a4908e3",
   "metadata": {
    "tags": []
   },
   "source": [
    "# Performing Feature Importance\n",
    "    Feature importance is a model inspection technique that measures the contribution of each feature to a fitted model's statistical performance on a given tabular dataset ."
   ]
  },
  {
   "cell_type": "code",
   "execution_count": null,
   "id": "36424f71",
   "metadata": {},
   "outputs": [],
   "source": [
    "feature_importance = model1.feature_importances_\n",
    "feature_importances= feature_importance[:20]"
   ]
  },
  {
   "cell_type": "code",
   "execution_count": null,
   "id": "e8006a24",
   "metadata": {},
   "outputs": [],
   "source": [
    "np.array(X_train.columns)"
   ]
  },
  {
   "cell_type": "code",
   "execution_count": null,
   "id": "89229b6f",
   "metadata": {},
   "outputs": [],
   "source": [
    "feature_importances.shape"
   ]
  },
  {
   "cell_type": "code",
   "execution_count": null,
   "id": "3d363066-b37f-45a0-8f50-9c09bf0d97ba",
   "metadata": {},
   "outputs": [],
   "source": [
    "plt.barh(np.array(X_train.columns), feature_importances)\n",
    "plt.savefig('./Graph Showing Feature Importance(#150).pdf', dpi=1200, format= 'pdf')"
   ]
  },
  {
   "cell_type": "markdown",
   "id": "fdc18014-8e5b-41af-9746-e0488a35e14f",
   "metadata": {
    "tags": []
   },
   "source": [
    "# Predicting the velocity"
   ]
  },
  {
   "cell_type": "code",
   "execution_count": null,
   "id": "22e10fff-4aca-4037-9c66-9ff6de70caee",
   "metadata": {},
   "outputs": [],
   "source": [
    "# U=Granular_flow_data.drop([\"Parcel Centroid[X] (m)\", \"Parcel Centroid[Y] (m)\", \"Parcel Centroid[Z] (m)\", \"Particle Velocity[i] (m/s)\", \"Particle Velocity[j] (m/s)\", \"Particle Velocity[k] (m/s)\", \"Particle Velocity: Magnitude (m/s)\"], axis=1)\n",
    "# U"
   ]
  },
  {
   "cell_type": "code",
   "execution_count": null,
   "id": "de416768-8f2f-433b-84a4-a5d6e8c02979",
   "metadata": {},
   "outputs": [],
   "source": [
    "# U[\"Wall Shear Stress: Magnitude (Pa)\"].describe()"
   ]
  },
  {
   "cell_type": "code",
   "execution_count": null,
   "id": "e7f7bae1-0492-4692-9c63-09be356a1aa3",
   "metadata": {},
   "outputs": [],
   "source": [
    "# v=Granular_flow_data[[\"Particle Velocity[i] (m/s)\", \"Particle Velocity[j] (m/s)\", \"Particle Velocity[k] (m/s)\"]]\n",
    "# v"
   ]
  },
  {
   "cell_type": "code",
   "execution_count": null,
   "id": "d62b1d19-dd55-4156-af29-e2d8dd25f0dd",
   "metadata": {},
   "outputs": [],
   "source": [
    "# %%time\n",
    "\n",
    "# U_train, U_test, v_train, v_test=train_test_split(U,v,\n",
    "#                                                   test_size=0.2, \n",
    "#                                                   random_state=42)\n",
    "\n",
    "# velocity_model1= RandomForestRegressor(n_estimators=200)\n",
    "# velocity_model1.fit(U_train, v_train)"
   ]
  },
  {
   "cell_type": "code",
   "execution_count": null,
   "id": "be8e2a2f-3d24-4bc7-b8a5-344b1f79865a",
   "metadata": {},
   "outputs": [],
   "source": [
    "# velocity_model1.score(U_test, v_test)"
   ]
  },
  {
   "cell_type": "markdown",
   "id": "a398a5ce-c9d7-46ec-a679-265f395ce588",
   "metadata": {},
   "source": [
    "# Using Multi-layer Percerptron Regressor (MLP Regressor)"
   ]
  },
  {
   "cell_type": "code",
   "execution_count": null,
   "id": "7d78fae9-b8ee-4cc7-a68a-0354879106e3",
   "metadata": {},
   "outputs": [],
   "source": [
    "# %%time\n",
    "\n",
    "# from sklearn.neural_network import MLPRegressor\n",
    "\n",
    "\n",
    "# MLP= MLPRegressor(random_state=42)\n",
    "\n",
    "# MLP.fit(U_train, v_train)"
   ]
  },
  {
   "cell_type": "code",
   "execution_count": null,
   "id": "53fe7519-bae9-4b9e-86bf-10079fb13634",
   "metadata": {},
   "outputs": [],
   "source": [
    "# MLP.score(X=U_test,y=v_test)"
   ]
  },
  {
   "cell_type": "code",
   "execution_count": null,
   "id": "b458d199",
   "metadata": {},
   "outputs": [],
   "source": []
  },
  {
   "cell_type": "markdown",
   "id": "76981baf",
   "metadata": {},
   "source": [
    "## Exporting the y_test and the RandomForestRegressor Predicted data (y_preds)"
   ]
  },
  {
   "cell_type": "code",
   "execution_count": null,
   "id": "8b7d479b",
   "metadata": {},
   "outputs": [],
   "source": [
    "test_n_predicted_data=pd.DataFrame(np.array(y_test), columns=['y_test(i)', 'y_test(k)'])\n",
    "\n",
    "test_n_predicted_data[['y_preds(i)', 'y_preds(k)']]=np.array(y_preds)\n",
    "\n",
    "test_n_predicted_data.to_csv('./test_n_predicted_data(#150).csv', index=False)\n",
    "\n",
    "test_n_predicted_data"
   ]
  },
  {
   "cell_type": "markdown",
   "id": "a0499c39",
   "metadata": {},
   "source": [
    "## Difference Between the y_test (Actual data) and the y_preds (Predicted Data )"
   ]
  },
  {
   "cell_type": "code",
   "execution_count": null,
   "id": "b603eae9",
   "metadata": {},
   "outputs": [],
   "source": [
    "dataDifference = np.array(y_test)-np.array(y_preds)\n",
    "df_dataDifference=pd.DataFrame(dataDifference, columns=['y_test(i) - y_preds(i)', 'y_test(k) - y_preds(k)'])\n",
    "df_dataDifference"
   ]
  },
  {
   "cell_type": "markdown",
   "id": "e5171e8d",
   "metadata": {},
   "source": [
    "*The dataDifference is approximately equal to zero, this is better seen when the values are rounded to 3 decimal places as shown below\n",
    "\n",
    "df_dataDifference.round(3)"
   ]
  },
  {
   "cell_type": "code",
   "execution_count": null,
   "id": "66d4cde4",
   "metadata": {},
   "outputs": [],
   "source": [
    "df_dataDifference.round(3)"
   ]
  },
  {
   "cell_type": "markdown",
   "id": "827b3b73",
   "metadata": {},
   "source": [
    "## Exporting the dataDifference"
   ]
  },
  {
   "cell_type": "code",
   "execution_count": null,
   "id": "05b3c16e",
   "metadata": {},
   "outputs": [],
   "source": [
    "df_dataDifference.to_csv('difference btw y_test and y_preds(#150).csv', index=False)"
   ]
  },
  {
   "cell_type": "markdown",
   "id": "76ff4c6c",
   "metadata": {},
   "source": [
    "## Exporting the Training Data (X_train and y_train)"
   ]
  },
  {
   "cell_type": "code",
   "execution_count": null,
   "id": "6d79327a",
   "metadata": {},
   "outputs": [],
   "source": [
    "TrainingData = X_train\n",
    "TrainingData[['Parcel Centroid[X] (m)', 'Parcel Centroid[Z] (m)']]=y_train\n",
    "TrainingData"
   ]
  },
  {
   "cell_type": "code",
   "execution_count": null,
   "id": "11c055fd",
   "metadata": {},
   "outputs": [],
   "source": [
    "TrainingData.to_csv('./Training_Data(#150).csv', index=False)"
   ]
  },
  {
   "cell_type": "markdown",
   "id": "7a0e1d5c",
   "metadata": {},
   "source": [
    "## Exporting X_test"
   ]
  },
  {
   "cell_type": "code",
   "execution_count": null,
   "id": "c284c5ef",
   "metadata": {},
   "outputs": [],
   "source": [
    "Xtest=X_test\n",
    "Xtest.to_csv('./X_test(#150).csv')"
   ]
  },
  {
   "cell_type": "markdown",
   "id": "a3c3aef8",
   "metadata": {},
   "source": [
    "## Exporting y_test"
   ]
  },
  {
   "cell_type": "code",
   "execution_count": null,
   "id": "50d1efa7",
   "metadata": {},
   "outputs": [],
   "source": [
    "Ytest=y_test\n",
    "Ytest.to_csv('./y_test(#150).csv')"
   ]
  },
  {
   "cell_type": "markdown",
   "id": "20a6d04d",
   "metadata": {},
   "source": [
    "## Exporting both X_test and y_test as a combined file"
   ]
  },
  {
   "cell_type": "code",
   "execution_count": null,
   "id": "d1d07063",
   "metadata": {},
   "outputs": [],
   "source": [
    "Xtest[['Parcel Centroid[X] (m)', 'Parcel Centroid[Z] (m)']]=Ytest\n",
    "Xtest.to_csv('./X_test and y_test(#150).csv')"
   ]
  },
  {
   "cell_type": "markdown",
   "id": "80a81ea0",
   "metadata": {},
   "source": [
    "## Saving the Trained Machine Learning Model to a file"
   ]
  },
  {
   "cell_type": "code",
   "execution_count": null,
   "id": "48dad2a5",
   "metadata": {},
   "outputs": [],
   "source": [
    "import joblib\n",
    "\n",
    "joblib.dump(model1, './saved_RandomFrstRegrsor_model150.pkl') #RandomForestRegressor\n",
    "joblib.dump(model2, './saved_LinearRegrsor_model150.pkl') #LinearRegressor\n",
    "joblib.dump(model3, './saved_RidgeRegrsor_model150.pkl') #RidgeRegressor"
   ]
  },
  {
   "cell_type": "markdown",
   "id": "6d3e8c12",
   "metadata": {},
   "source": [
    "# Exporting the y_test and the LinearRegressor Predicted data (yLinear_Preds)"
   ]
  },
  {
   "cell_type": "code",
   "execution_count": null,
   "id": "89a577bd",
   "metadata": {},
   "outputs": [],
   "source": [
    "LinearRegressor_test_n_predicted_data=pd.DataFrame(np.array(y_test), columns=['y_test(i)', 'y_test(k)'])\n",
    "\n",
    "LinearRegressor_test_n_predicted_data[['yLinear_Preds(i)',  'yLinear_Preds(k)']]=np.array(yLinear_Preds)\n",
    "\n",
    "LinearRegressor_test_n_predicted_data.to_csv('./LinearRegressor_test_n_predicted_data(#150).csv', index=False)\n",
    "\n",
    "LinearRegressor_test_n_predicted_data"
   ]
  },
  {
   "cell_type": "markdown",
   "id": "cc0a5061",
   "metadata": {},
   "source": [
    "# Exporting the y_test and the RidgeRegressor Predicted data (yRidge_preds)"
   ]
  },
  {
   "cell_type": "code",
   "execution_count": null,
   "id": "e2f9c256",
   "metadata": {},
   "outputs": [],
   "source": [
    "RidgeRegressor_test_n_predicted_data=pd.DataFrame(np.array(y_test), columns=['y_test(i)', 'y_test(k)'])\n",
    "\n",
    "RidgeRegressor_test_n_predicted_data[['yRidge_preds(i)', 'yRidge_preds(k)']]=np.array(yRidge_preds)\n",
    "\n",
    "RidgeRegressor_test_n_predicted_data.to_csv('./RidgeRegressortest_n_predicted_data(#150).csv', index=False)\n",
    "\n",
    "RidgeRegressor_test_n_predicted_data"
   ]
  },
  {
   "cell_type": "code",
   "execution_count": null,
   "id": "3bdda4b9",
   "metadata": {},
   "outputs": [],
   "source": []
  },
  {
   "cell_type": "code",
   "execution_count": null,
   "id": "646cf1a4-71a1-44d7-aa69-9be3a794eefa",
   "metadata": {},
   "outputs": [],
   "source": [
    "from datetime import datetime\n",
    "\n",
    "\n",
    "print(f\"This notebook code was last run on {datetime.now()}\")"
   ]
  },
  {
   "cell_type": "code",
   "execution_count": null,
   "id": "cc428df8-65cd-42c6-99d2-912ce3f350a5",
   "metadata": {},
   "outputs": [],
   "source": []
  }
 ],
 "metadata": {
  "kernelspec": {
   "display_name": "Python 3 (ipykernel)",
   "language": "python",
   "name": "python3"
  },
  "language_info": {
   "codemirror_mode": {
    "name": "ipython",
    "version": 3
   },
   "file_extension": ".py",
   "mimetype": "text/x-python",
   "name": "python",
   "nbconvert_exporter": "python",
   "pygments_lexer": "ipython3",
   "version": "3.12.4"
  }
 },
 "nbformat": 4,
 "nbformat_minor": 5
}
