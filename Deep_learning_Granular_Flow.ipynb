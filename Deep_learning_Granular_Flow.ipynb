{
 "cells": [
  {
   "cell_type": "markdown",
   "id": "4b49399e-fdf7-4e5a-9351-79754e455df6",
   "metadata": {
    "id": "4b49399e-fdf7-4e5a-9351-79754e455df6"
   },
   "source": [
    "#  Data Analytics and Machine Learning of the Data space in Granular Flow\n",
    "    *Training and Developing the Machine Learning model with 30 time_steps"
   ]
  },
  {
   "cell_type": "code",
   "execution_count": 1,
   "id": "be4fdd26-0a4a-43d3-b735-d96dcc573b6a",
   "metadata": {
    "id": "be4fdd26-0a4a-43d3-b735-d96dcc573b6a"
   },
   "outputs": [],
   "source": [
    "%matplotlib inline\n",
    "\n",
    "import pandas as pd\n",
    "import numpy as np\n",
    "import matplotlib.pyplot as plt"
   ]
  },
  {
   "cell_type": "code",
   "execution_count": 2,
   "id": "6f309907",
   "metadata": {},
   "outputs": [],
   "source": [
    "import os\n",
    "os.environ['KMP_DUPLICATE_LIB_OK']='True'\n"
   ]
  },
  {
   "cell_type": "code",
   "execution_count": 3,
   "id": "f956a917-720a-49f8-93db-8b0e0735149e",
   "metadata": {
    "id": "f956a917-720a-49f8-93db-8b0e0735149e"
   },
   "outputs": [],
   "source": [
    "#pd.set_option('display.max_column', None)\n",
    "#pd.set_option('display.max_rows', None)"
   ]
  },
  {
   "cell_type": "code",
   "execution_count": 4,
   "id": "R69mL9XN5Zj1",
   "metadata": {
    "id": "R69mL9XN5Zj1"
   },
   "outputs": [],
   "source": [
    "# !7z x ./Tables\\ \\(Data\\ set\\).zip"
   ]
  },
  {
   "cell_type": "code",
   "execution_count": 5,
   "id": "x1tmiJvuP2kz",
   "metadata": {
    "id": "x1tmiJvuP2kz"
   },
   "outputs": [],
   "source": [
    "# !rm -rf ./Tables\\ \\(Data\\ set\\)"
   ]
  },
  {
   "cell_type": "markdown",
   "id": "206ad89a-1937-40fe-9611-ab4c7c5e8e7d",
   "metadata": {
    "id": "206ad89a-1937-40fe-9611-ab4c7c5e8e7d"
   },
   "source": [
    "# 1.0 Combining the data gathered for each time step into a single csv file"
   ]
  },
  {
   "cell_type": "code",
   "execution_count": 6,
   "id": "790bd4bb-0350-4293-a1ec-475a61caf964",
   "metadata": {
    "id": "790bd4bb-0350-4293-a1ec-475a61caf964"
   },
   "outputs": [],
   "source": [
    "# granular_flow_data_paths=[]\n",
    "\n",
    "# tot=np.arange(10000,50100,100)\n",
    "# for i in tot:\n",
    "#     a=[f'/content/Tables (Data set)/XYZ_Internal_Table_table_{i}.csv']\n",
    "#     granular_flow_data_paths+=a\n",
    "\n",
    "\n",
    "# granular_flow_dataset = []\n",
    "# for datapath in granular_flow_data_paths:\n",
    "# #     print(datapath)\n",
    "#     df=pd.read_csv(datapath)\n",
    "#     granular_flow_dataset.append(df)\n"
   ]
  },
  {
   "cell_type": "code",
   "execution_count": 7,
   "id": "9a2234d7",
   "metadata": {
    "id": "9a2234d7"
   },
   "outputs": [],
   "source": [
    "# len(granular_flow_dataset)"
   ]
  },
  {
   "cell_type": "code",
   "execution_count": 8,
   "id": "97526889-3389-4342-9679-ace46ac32364",
   "metadata": {
    "id": "97526889-3389-4342-9679-ace46ac32364"
   },
   "outputs": [],
   "source": [
    "# y=pd.concat(granular_flow_dataset)\n",
    "# Combined_flow_data=y.to_csv('./Combined flow data(#30).csv')\n",
    "# Combined_flow_data"
   ]
  },
  {
   "cell_type": "markdown",
   "id": "5cf71c68-8ea9-4a9b-969c-d6f3ecb1a8ba",
   "metadata": {
    "id": "5cf71c68-8ea9-4a9b-969c-d6f3ecb1a8ba"
   },
   "source": [
    "# 2.0 Working With the Saved file"
   ]
  },
  {
   "cell_type": "markdown",
   "id": "63da890d-4efb-4d52-809e-22c2d91d4329",
   "metadata": {
    "id": "63da890d-4efb-4d52-809e-22c2d91d4329",
    "tags": []
   },
   "source": [
    "## 2.1 Reading (Loading) the combined saved data"
   ]
  },
  {
   "cell_type": "code",
   "execution_count": 9,
   "id": "dYCXRb-ycZIz",
   "metadata": {
    "colab": {
     "base_uri": "https://localhost:8080/"
    },
    "id": "dYCXRb-ycZIz",
    "outputId": "c55fb9e5-ecb3-41e1-fb69-a41b2db25095"
   },
   "outputs": [
    {
     "name": "stderr",
     "output_type": "stream",
     "text": [
      "2024-12-27 06:16:38.709545: I tensorflow/core/platform/cpu_feature_guard.cc:182] This TensorFlow binary is optimized to use available CPU instructions in performance-critical operations.\n",
      "To enable the following instructions: SSE4.1 SSE4.2 AVX AVX2 FMA, in other operations, rebuild TensorFlow with the appropriate compiler flags.\n"
     ]
    },
    {
     "name": "stdout",
     "output_type": "stream",
     "text": [
      "TF version: 2.12.0\n",
      "No Nvidia GPU in system!\n",
      "GPU available (YES!!!!!)\n"
     ]
    },
    {
     "data": {
      "text/plain": [
       "1"
      ]
     },
     "execution_count": 9,
     "metadata": {},
     "output_type": "execute_result"
    }
   ],
   "source": [
    "# import sys\n",
    "import tensorflow as tf\n",
    "tf.config.run_functions_eagerly(True)\n",
    "print('TF version:', tf.__version__)\n",
    "\n",
    "version_fn = getattr(tf.keras, \"version\", None)\n",
    "if version_fn and version_fn().startswith(\"3.\"):\n",
    "  import tf_keras as keras\n",
    "else:\n",
    "  keras = tf.keras\n",
    "\n",
    "\n",
    "\n",
    "import subprocess\n",
    "\n",
    "try:\n",
    "    subprocess.check_output('nvidia-smi')\n",
    "    print('Nvidia GPU detected!')\n",
    "except Exception: # this command not being found can raise quite a few different errors depending on the configuration\n",
    "    print('No Nvidia GPU in system!')\n",
    "\n",
    "\n",
    "\n",
    "\n",
    "print('GPU', 'available (YES!!!!!)' if tf.config.list_physical_devices('GPU') else 'not available :(')\n",
    "\n",
    "\n",
    "\n",
    "len(tf.config.experimental.list_physical_devices('GPU'))"
   ]
  },
  {
   "cell_type": "code",
   "execution_count": 10,
   "id": "2336ed0b",
   "metadata": {},
   "outputs": [],
   "source": [
    "# !pip install tensorflow-macos"
   ]
  },
  {
   "cell_type": "code",
   "execution_count": 11,
   "id": "92eaa73b-6241-4ae4-a88a-7d79304c27b3",
   "metadata": {
    "colab": {
     "base_uri": "https://localhost:8080/",
     "height": 669
    },
    "id": "92eaa73b-6241-4ae4-a88a-7d79304c27b3",
    "outputId": "2e3b75d8-b024-47ff-9664-97d7e6b6e1f6",
    "tags": []
   },
   "outputs": [
    {
     "data": {
      "text/html": [
       "<div>\n",
       "<style scoped>\n",
       "    .dataframe tbody tr th:only-of-type {\n",
       "        vertical-align: middle;\n",
       "    }\n",
       "\n",
       "    .dataframe tbody tr th {\n",
       "        vertical-align: top;\n",
       "    }\n",
       "\n",
       "    .dataframe thead th {\n",
       "        text-align: right;\n",
       "    }\n",
       "</style>\n",
       "<table border=\"1\" class=\"dataframe\">\n",
       "  <thead>\n",
       "    <tr style=\"text-align: right;\">\n",
       "      <th></th>\n",
       "      <th>Index</th>\n",
       "      <th>Time (s)</th>\n",
       "      <th>Volume Fraction of Phase 1</th>\n",
       "      <th>Report: Sum KE (J)</th>\n",
       "      <th>Report: Sum WallStress (Pa)</th>\n",
       "      <th>Parcel Centroid[X] (m)</th>\n",
       "      <th>Parcel Centroid[Y] (m)</th>\n",
       "      <th>Particle Velocity: Magnitude (m/s)</th>\n",
       "      <th>Particle Velocity[j] (m/s)</th>\n",
       "      <th>Parcel Centroid[Z] (m)</th>\n",
       "      <th>Particle Velocity[i] (m/s)</th>\n",
       "      <th>Particle Velocity[k] (m/s)</th>\n",
       "      <th>X (m)</th>\n",
       "      <th>Y (m)</th>\n",
       "      <th>Z (m)</th>\n",
       "    </tr>\n",
       "  </thead>\n",
       "  <tbody>\n",
       "    <tr>\n",
       "      <th>0</th>\n",
       "      <td>0</td>\n",
       "      <td>10.0</td>\n",
       "      <td>0.174704</td>\n",
       "      <td>0.003907</td>\n",
       "      <td>0.008035</td>\n",
       "      <td>0.031825</td>\n",
       "      <td>0.022352</td>\n",
       "      <td>0.603468</td>\n",
       "      <td>3.588897e-04</td>\n",
       "      <td>0.000501</td>\n",
       "      <td>0.603379</td>\n",
       "      <td>0.010375</td>\n",
       "      <td>0.031825</td>\n",
       "      <td>0.022352</td>\n",
       "      <td>0.000501</td>\n",
       "    </tr>\n",
       "    <tr>\n",
       "      <th>1</th>\n",
       "      <td>1</td>\n",
       "      <td>10.0</td>\n",
       "      <td>0.174704</td>\n",
       "      <td>0.003907</td>\n",
       "      <td>0.008035</td>\n",
       "      <td>0.027128</td>\n",
       "      <td>0.022352</td>\n",
       "      <td>0.484547</td>\n",
       "      <td>-1.789327e-03</td>\n",
       "      <td>0.000499</td>\n",
       "      <td>0.484467</td>\n",
       "      <td>0.008608</td>\n",
       "      <td>0.027128</td>\n",
       "      <td>0.022352</td>\n",
       "      <td>0.000499</td>\n",
       "    </tr>\n",
       "    <tr>\n",
       "      <th>2</th>\n",
       "      <td>2</td>\n",
       "      <td>10.0</td>\n",
       "      <td>0.174704</td>\n",
       "      <td>0.003907</td>\n",
       "      <td>0.008035</td>\n",
       "      <td>0.027052</td>\n",
       "      <td>0.023337</td>\n",
       "      <td>0.603346</td>\n",
       "      <td>9.335324e-04</td>\n",
       "      <td>0.000642</td>\n",
       "      <td>0.602915</td>\n",
       "      <td>0.022796</td>\n",
       "      <td>0.027052</td>\n",
       "      <td>0.023337</td>\n",
       "      <td>0.000642</td>\n",
       "    </tr>\n",
       "    <tr>\n",
       "      <th>3</th>\n",
       "      <td>3</td>\n",
       "      <td>10.0</td>\n",
       "      <td>0.174704</td>\n",
       "      <td>0.003907</td>\n",
       "      <td>0.008035</td>\n",
       "      <td>0.023665</td>\n",
       "      <td>0.022372</td>\n",
       "      <td>0.565108</td>\n",
       "      <td>2.904427e-03</td>\n",
       "      <td>0.000511</td>\n",
       "      <td>0.565076</td>\n",
       "      <td>0.005253</td>\n",
       "      <td>0.023665</td>\n",
       "      <td>0.022372</td>\n",
       "      <td>0.000511</td>\n",
       "    </tr>\n",
       "    <tr>\n",
       "      <th>4</th>\n",
       "      <td>4</td>\n",
       "      <td>10.0</td>\n",
       "      <td>0.174704</td>\n",
       "      <td>0.003907</td>\n",
       "      <td>0.008035</td>\n",
       "      <td>0.030634</td>\n",
       "      <td>0.023345</td>\n",
       "      <td>0.590112</td>\n",
       "      <td>-1.146731e-01</td>\n",
       "      <td>0.000500</td>\n",
       "      <td>0.578862</td>\n",
       "      <td>-0.001059</td>\n",
       "      <td>0.030634</td>\n",
       "      <td>0.023345</td>\n",
       "      <td>0.000500</td>\n",
       "    </tr>\n",
       "    <tr>\n",
       "      <th>...</th>\n",
       "      <td>...</td>\n",
       "      <td>...</td>\n",
       "      <td>...</td>\n",
       "      <td>...</td>\n",
       "      <td>...</td>\n",
       "      <td>...</td>\n",
       "      <td>...</td>\n",
       "      <td>...</td>\n",
       "      <td>...</td>\n",
       "      <td>...</td>\n",
       "      <td>...</td>\n",
       "      <td>...</td>\n",
       "      <td>...</td>\n",
       "      <td>...</td>\n",
       "      <td>...</td>\n",
       "    </tr>\n",
       "    <tr>\n",
       "      <th>13410144</th>\n",
       "      <td>33350</td>\n",
       "      <td>50.0</td>\n",
       "      <td>0.040762</td>\n",
       "      <td>0.003920</td>\n",
       "      <td>0.008333</td>\n",
       "      <td>-0.117258</td>\n",
       "      <td>0.036990</td>\n",
       "      <td>0.549452</td>\n",
       "      <td>9.907611e-08</td>\n",
       "      <td>0.019726</td>\n",
       "      <td>0.538740</td>\n",
       "      <td>-0.107966</td>\n",
       "      <td>-0.117258</td>\n",
       "      <td>0.036990</td>\n",
       "      <td>0.019726</td>\n",
       "    </tr>\n",
       "    <tr>\n",
       "      <th>13410145</th>\n",
       "      <td>33351</td>\n",
       "      <td>50.0</td>\n",
       "      <td>0.095765</td>\n",
       "      <td>0.003920</td>\n",
       "      <td>0.008333</td>\n",
       "      <td>-0.117261</td>\n",
       "      <td>0.033381</td>\n",
       "      <td>0.549401</td>\n",
       "      <td>-2.571163e-07</td>\n",
       "      <td>0.002363</td>\n",
       "      <td>0.538698</td>\n",
       "      <td>-0.107914</td>\n",
       "      <td>-0.117261</td>\n",
       "      <td>0.033381</td>\n",
       "      <td>0.002363</td>\n",
       "    </tr>\n",
       "    <tr>\n",
       "      <th>13410146</th>\n",
       "      <td>33352</td>\n",
       "      <td>50.0</td>\n",
       "      <td>0.168274</td>\n",
       "      <td>0.003920</td>\n",
       "      <td>0.008333</td>\n",
       "      <td>-0.117269</td>\n",
       "      <td>0.028676</td>\n",
       "      <td>0.549299</td>\n",
       "      <td>-1.910868e-08</td>\n",
       "      <td>0.002854</td>\n",
       "      <td>0.538615</td>\n",
       "      <td>-0.107810</td>\n",
       "      <td>-0.117269</td>\n",
       "      <td>0.028676</td>\n",
       "      <td>0.002854</td>\n",
       "    </tr>\n",
       "    <tr>\n",
       "      <th>13410147</th>\n",
       "      <td>33353</td>\n",
       "      <td>50.0</td>\n",
       "      <td>0.056356</td>\n",
       "      <td>0.003920</td>\n",
       "      <td>0.008333</td>\n",
       "      <td>-0.117272</td>\n",
       "      <td>0.027990</td>\n",
       "      <td>0.549250</td>\n",
       "      <td>-5.728731e-08</td>\n",
       "      <td>0.013622</td>\n",
       "      <td>0.538576</td>\n",
       "      <td>-0.107759</td>\n",
       "      <td>-0.117272</td>\n",
       "      <td>0.027990</td>\n",
       "      <td>0.013622</td>\n",
       "    </tr>\n",
       "    <tr>\n",
       "      <th>13410148</th>\n",
       "      <td>33354</td>\n",
       "      <td>50.0</td>\n",
       "      <td>0.168274</td>\n",
       "      <td>0.003920</td>\n",
       "      <td>0.008333</td>\n",
       "      <td>-0.117272</td>\n",
       "      <td>0.028703</td>\n",
       "      <td>0.549250</td>\n",
       "      <td>-1.390513e-08</td>\n",
       "      <td>0.004727</td>\n",
       "      <td>0.538575</td>\n",
       "      <td>-0.107759</td>\n",
       "      <td>-0.117272</td>\n",
       "      <td>0.028703</td>\n",
       "      <td>0.004727</td>\n",
       "    </tr>\n",
       "  </tbody>\n",
       "</table>\n",
       "<p>13410149 rows × 15 columns</p>\n",
       "</div>"
      ],
      "text/plain": [
       "          Index  Time (s)  Volume Fraction of Phase 1  Report: Sum KE (J)  \\\n",
       "0             0      10.0                    0.174704            0.003907   \n",
       "1             1      10.0                    0.174704            0.003907   \n",
       "2             2      10.0                    0.174704            0.003907   \n",
       "3             3      10.0                    0.174704            0.003907   \n",
       "4             4      10.0                    0.174704            0.003907   \n",
       "...         ...       ...                         ...                 ...   \n",
       "13410144  33350      50.0                    0.040762            0.003920   \n",
       "13410145  33351      50.0                    0.095765            0.003920   \n",
       "13410146  33352      50.0                    0.168274            0.003920   \n",
       "13410147  33353      50.0                    0.056356            0.003920   \n",
       "13410148  33354      50.0                    0.168274            0.003920   \n",
       "\n",
       "          Report: Sum WallStress (Pa)  Parcel Centroid[X] (m)  \\\n",
       "0                            0.008035                0.031825   \n",
       "1                            0.008035                0.027128   \n",
       "2                            0.008035                0.027052   \n",
       "3                            0.008035                0.023665   \n",
       "4                            0.008035                0.030634   \n",
       "...                               ...                     ...   \n",
       "13410144                     0.008333               -0.117258   \n",
       "13410145                     0.008333               -0.117261   \n",
       "13410146                     0.008333               -0.117269   \n",
       "13410147                     0.008333               -0.117272   \n",
       "13410148                     0.008333               -0.117272   \n",
       "\n",
       "          Parcel Centroid[Y] (m)  Particle Velocity: Magnitude (m/s)  \\\n",
       "0                       0.022352                            0.603468   \n",
       "1                       0.022352                            0.484547   \n",
       "2                       0.023337                            0.603346   \n",
       "3                       0.022372                            0.565108   \n",
       "4                       0.023345                            0.590112   \n",
       "...                          ...                                 ...   \n",
       "13410144                0.036990                            0.549452   \n",
       "13410145                0.033381                            0.549401   \n",
       "13410146                0.028676                            0.549299   \n",
       "13410147                0.027990                            0.549250   \n",
       "13410148                0.028703                            0.549250   \n",
       "\n",
       "          Particle Velocity[j] (m/s)  Parcel Centroid[Z] (m)  \\\n",
       "0                       3.588897e-04                0.000501   \n",
       "1                      -1.789327e-03                0.000499   \n",
       "2                       9.335324e-04                0.000642   \n",
       "3                       2.904427e-03                0.000511   \n",
       "4                      -1.146731e-01                0.000500   \n",
       "...                              ...                     ...   \n",
       "13410144                9.907611e-08                0.019726   \n",
       "13410145               -2.571163e-07                0.002363   \n",
       "13410146               -1.910868e-08                0.002854   \n",
       "13410147               -5.728731e-08                0.013622   \n",
       "13410148               -1.390513e-08                0.004727   \n",
       "\n",
       "          Particle Velocity[i] (m/s)  Particle Velocity[k] (m/s)     X (m)  \\\n",
       "0                           0.603379                    0.010375  0.031825   \n",
       "1                           0.484467                    0.008608  0.027128   \n",
       "2                           0.602915                    0.022796  0.027052   \n",
       "3                           0.565076                    0.005253  0.023665   \n",
       "4                           0.578862                   -0.001059  0.030634   \n",
       "...                              ...                         ...       ...   \n",
       "13410144                    0.538740                   -0.107966 -0.117258   \n",
       "13410145                    0.538698                   -0.107914 -0.117261   \n",
       "13410146                    0.538615                   -0.107810 -0.117269   \n",
       "13410147                    0.538576                   -0.107759 -0.117272   \n",
       "13410148                    0.538575                   -0.107759 -0.117272   \n",
       "\n",
       "             Y (m)     Z (m)  \n",
       "0         0.022352  0.000501  \n",
       "1         0.022352  0.000499  \n",
       "2         0.023337  0.000642  \n",
       "3         0.022372  0.000511  \n",
       "4         0.023345  0.000500  \n",
       "...            ...       ...  \n",
       "13410144  0.036990  0.019726  \n",
       "13410145  0.033381  0.002363  \n",
       "13410146  0.028676  0.002854  \n",
       "13410147  0.027990  0.013622  \n",
       "13410148  0.028703  0.004727  \n",
       "\n",
       "[13410149 rows x 15 columns]"
      ]
     },
     "execution_count": 11,
     "metadata": {},
     "output_type": "execute_result"
    }
   ],
   "source": [
    "\n",
    "Granular_flow_data= pd.read_csv('../Position - DNN2 (done on school Mac)/Combined flow data(#30).csv')\n",
    "\n",
    "Granular_flow_data.rename(columns={'Unnamed: 0':'Index'}, inplace=True)\n",
    "Granular_flow_data"
   ]
  },
  {
   "cell_type": "code",
   "execution_count": 12,
   "id": "4gL_vN9PcIfs",
   "metadata": {
    "colab": {
     "base_uri": "https://localhost:8080/",
     "height": 495
    },
    "id": "4gL_vN9PcIfs",
    "outputId": "9861c128-710f-42d6-afa9-3bf360c85b07"
   },
   "outputs": [
    {
     "data": {
      "text/html": [
       "<div>\n",
       "<style scoped>\n",
       "    .dataframe tbody tr th:only-of-type {\n",
       "        vertical-align: middle;\n",
       "    }\n",
       "\n",
       "    .dataframe tbody tr th {\n",
       "        vertical-align: top;\n",
       "    }\n",
       "\n",
       "    .dataframe thead th {\n",
       "        text-align: right;\n",
       "    }\n",
       "</style>\n",
       "<table border=\"1\" class=\"dataframe\">\n",
       "  <thead>\n",
       "    <tr style=\"text-align: right;\">\n",
       "      <th></th>\n",
       "      <th>Index</th>\n",
       "      <th>Time (s)</th>\n",
       "      <th>Parcel Centroid[X] (m)</th>\n",
       "      <th>Particle Velocity: Magnitude (m/s)</th>\n",
       "      <th>Parcel Centroid[Z] (m)</th>\n",
       "      <th>Particle Velocity[i] (m/s)</th>\n",
       "      <th>Particle Velocity[k] (m/s)</th>\n",
       "    </tr>\n",
       "  </thead>\n",
       "  <tbody>\n",
       "    <tr>\n",
       "      <th>0</th>\n",
       "      <td>0</td>\n",
       "      <td>10.0</td>\n",
       "      <td>0.031825</td>\n",
       "      <td>0.603468</td>\n",
       "      <td>0.000501</td>\n",
       "      <td>0.603379</td>\n",
       "      <td>0.010375</td>\n",
       "    </tr>\n",
       "    <tr>\n",
       "      <th>1</th>\n",
       "      <td>1</td>\n",
       "      <td>10.0</td>\n",
       "      <td>0.027128</td>\n",
       "      <td>0.484547</td>\n",
       "      <td>0.000499</td>\n",
       "      <td>0.484467</td>\n",
       "      <td>0.008608</td>\n",
       "    </tr>\n",
       "    <tr>\n",
       "      <th>2</th>\n",
       "      <td>2</td>\n",
       "      <td>10.0</td>\n",
       "      <td>0.027052</td>\n",
       "      <td>0.603346</td>\n",
       "      <td>0.000642</td>\n",
       "      <td>0.602915</td>\n",
       "      <td>0.022796</td>\n",
       "    </tr>\n",
       "    <tr>\n",
       "      <th>3</th>\n",
       "      <td>3</td>\n",
       "      <td>10.0</td>\n",
       "      <td>0.023665</td>\n",
       "      <td>0.565108</td>\n",
       "      <td>0.000511</td>\n",
       "      <td>0.565076</td>\n",
       "      <td>0.005253</td>\n",
       "    </tr>\n",
       "    <tr>\n",
       "      <th>4</th>\n",
       "      <td>4</td>\n",
       "      <td>10.0</td>\n",
       "      <td>0.030634</td>\n",
       "      <td>0.590112</td>\n",
       "      <td>0.000500</td>\n",
       "      <td>0.578862</td>\n",
       "      <td>-0.001059</td>\n",
       "    </tr>\n",
       "    <tr>\n",
       "      <th>...</th>\n",
       "      <td>...</td>\n",
       "      <td>...</td>\n",
       "      <td>...</td>\n",
       "      <td>...</td>\n",
       "      <td>...</td>\n",
       "      <td>...</td>\n",
       "      <td>...</td>\n",
       "    </tr>\n",
       "    <tr>\n",
       "      <th>13410144</th>\n",
       "      <td>33350</td>\n",
       "      <td>50.0</td>\n",
       "      <td>-0.117258</td>\n",
       "      <td>0.549452</td>\n",
       "      <td>0.019726</td>\n",
       "      <td>0.538740</td>\n",
       "      <td>-0.107966</td>\n",
       "    </tr>\n",
       "    <tr>\n",
       "      <th>13410145</th>\n",
       "      <td>33351</td>\n",
       "      <td>50.0</td>\n",
       "      <td>-0.117261</td>\n",
       "      <td>0.549401</td>\n",
       "      <td>0.002363</td>\n",
       "      <td>0.538698</td>\n",
       "      <td>-0.107914</td>\n",
       "    </tr>\n",
       "    <tr>\n",
       "      <th>13410146</th>\n",
       "      <td>33352</td>\n",
       "      <td>50.0</td>\n",
       "      <td>-0.117269</td>\n",
       "      <td>0.549299</td>\n",
       "      <td>0.002854</td>\n",
       "      <td>0.538615</td>\n",
       "      <td>-0.107810</td>\n",
       "    </tr>\n",
       "    <tr>\n",
       "      <th>13410147</th>\n",
       "      <td>33353</td>\n",
       "      <td>50.0</td>\n",
       "      <td>-0.117272</td>\n",
       "      <td>0.549250</td>\n",
       "      <td>0.013622</td>\n",
       "      <td>0.538576</td>\n",
       "      <td>-0.107759</td>\n",
       "    </tr>\n",
       "    <tr>\n",
       "      <th>13410148</th>\n",
       "      <td>33354</td>\n",
       "      <td>50.0</td>\n",
       "      <td>-0.117272</td>\n",
       "      <td>0.549250</td>\n",
       "      <td>0.004727</td>\n",
       "      <td>0.538575</td>\n",
       "      <td>-0.107759</td>\n",
       "    </tr>\n",
       "  </tbody>\n",
       "</table>\n",
       "<p>13410149 rows × 7 columns</p>\n",
       "</div>"
      ],
      "text/plain": [
       "          Index  Time (s)  Parcel Centroid[X] (m)  \\\n",
       "0             0      10.0                0.031825   \n",
       "1             1      10.0                0.027128   \n",
       "2             2      10.0                0.027052   \n",
       "3             3      10.0                0.023665   \n",
       "4             4      10.0                0.030634   \n",
       "...         ...       ...                     ...   \n",
       "13410144  33350      50.0               -0.117258   \n",
       "13410145  33351      50.0               -0.117261   \n",
       "13410146  33352      50.0               -0.117269   \n",
       "13410147  33353      50.0               -0.117272   \n",
       "13410148  33354      50.0               -0.117272   \n",
       "\n",
       "          Particle Velocity: Magnitude (m/s)  Parcel Centroid[Z] (m)  \\\n",
       "0                                   0.603468                0.000501   \n",
       "1                                   0.484547                0.000499   \n",
       "2                                   0.603346                0.000642   \n",
       "3                                   0.565108                0.000511   \n",
       "4                                   0.590112                0.000500   \n",
       "...                                      ...                     ...   \n",
       "13410144                            0.549452                0.019726   \n",
       "13410145                            0.549401                0.002363   \n",
       "13410146                            0.549299                0.002854   \n",
       "13410147                            0.549250                0.013622   \n",
       "13410148                            0.549250                0.004727   \n",
       "\n",
       "          Particle Velocity[i] (m/s)  Particle Velocity[k] (m/s)  \n",
       "0                           0.603379                    0.010375  \n",
       "1                           0.484467                    0.008608  \n",
       "2                           0.602915                    0.022796  \n",
       "3                           0.565076                    0.005253  \n",
       "4                           0.578862                   -0.001059  \n",
       "...                              ...                         ...  \n",
       "13410144                    0.538740                   -0.107966  \n",
       "13410145                    0.538698                   -0.107914  \n",
       "13410146                    0.538615                   -0.107810  \n",
       "13410147                    0.538576                   -0.107759  \n",
       "13410148                    0.538575                   -0.107759  \n",
       "\n",
       "[13410149 rows x 7 columns]"
      ]
     },
     "execution_count": 12,
     "metadata": {},
     "output_type": "execute_result"
    }
   ],
   "source": [
    "Granular_flow_data = Granular_flow_data.drop(['Volume Fraction of Phase 1','Report: Sum KE (J)', \n",
    "                                              'Report: Sum WallStress (Pa)', 'X (m)',\t'Y (m)',\t'Z (m)', \n",
    "                                              'Parcel Centroid[Y] (m)', 'Particle Velocity[j] (m/s)'], axis='columns')\n",
    "Granular_flow_data = Granular_flow_data\n",
    "Granular_flow_data"
   ]
  },
  {
   "cell_type": "markdown",
   "id": "cb4183b5-00fc-4a4a-9532-e3ea06caaf6f",
   "metadata": {
    "id": "cb4183b5-00fc-4a4a-9532-e3ea06caaf6f"
   },
   "source": [
    "## Finding patterns in the data using correlation matrix"
   ]
  },
  {
   "cell_type": "code",
   "execution_count": 13,
   "id": "84fbe249-08c8-4061-9b12-036e1978c30e",
   "metadata": {
    "colab": {
     "base_uri": "https://localhost:8080/",
     "height": 702
    },
    "id": "84fbe249-08c8-4061-9b12-036e1978c30e",
    "outputId": "94bd6081-5e05-41eb-aba1-9f4559ddb931"
   },
   "outputs": [
    {
     "data": {
      "image/png": "[encoded data removed]",
      "text/plain": [
       "<Figure size 1250x1000 with 2 Axes>"
      ]
     },
     "metadata": {},
     "output_type": "display_data"
    }
   ],
   "source": [
    "import seaborn as sns\n",
    "\n",
    "corr_matrix =Granular_flow_data.corr()\n",
    "\n",
    "fig, ax_corr_Matrix=plt.subplots(figsize=(12.5,10))\n",
    "\n",
    "color = plt.get_cmap('YlGnBu')   # default color\n",
    "color.set_bad('lightblue')\n",
    "\n",
    "ax =sns.heatmap(corr_matrix,\n",
    "                annot=True,\n",
    "                fmt=\".2f\",\n",
    "                cmap=color\n",
    "               )\n",
    "fig.savefig('./Correlation_matrix_for_the_data(#30).png', bbox_inches='tight', dpi=1200)\n",
    "\n",
    "plt.show()"
   ]
  },
  {
   "cell_type": "code",
   "execution_count": 14,
   "id": "026d24fa-e007-4484-b61b-48c6b3bcdded",
   "metadata": {
    "id": "026d24fa-e007-4484-b61b-48c6b3bcdded"
   },
   "outputs": [],
   "source": [
    "# pip install seaborn"
   ]
  },
  {
   "cell_type": "code",
   "execution_count": null,
   "id": "5ErqJ3JY_kXD",
   "metadata": {
    "colab": {
     "base_uri": "https://localhost:8080/"
    },
    "id": "5ErqJ3JY_kXD",
    "outputId": "38689aad-f6ef-4e8c-9abf-6af568fcf354"
   },
   "outputs": [],
   "source": []
  },
  {
   "cell_type": "markdown",
   "id": "06c198f6-1712-4fd4-ad89-7802118f586a",
   "metadata": {
    "id": "06c198f6-1712-4fd4-ad89-7802118f586a"
   },
   "source": [
    "## 2.2 Splitting the data"
   ]
  },
  {
   "cell_type": "code",
   "execution_count": 15,
   "id": "5f60ea1a-676d-484e-8f95-f9fe85272743",
   "metadata": {
    "id": "5f60ea1a-676d-484e-8f95-f9fe85272743"
   },
   "outputs": [],
   "source": [
    "\n",
    "X=Granular_flow_data.drop(['Parcel Centroid[X] (m)', 'Parcel Centroid[Z] (m)'], axis=1)\n",
    "y= Granular_flow_data[['Parcel Centroid[X] (m)', 'Parcel Centroid[Z] (m)']]\n"
   ]
  },
  {
   "cell_type": "code",
   "execution_count": 16,
   "id": "7f23a498-fed8-4cbe-8dd4-97597f9bd8a4",
   "metadata": {
    "colab": {
     "base_uri": "https://localhost:8080/",
     "height": 458
    },
    "id": "7f23a498-fed8-4cbe-8dd4-97597f9bd8a4",
    "outputId": "53b6b1f7-2280-4da8-efb3-b9b067e22087"
   },
   "outputs": [
    {
     "data": {
      "text/html": [
       "<div>\n",
       "<style scoped>\n",
       "    .dataframe tbody tr th:only-of-type {\n",
       "        vertical-align: middle;\n",
       "    }\n",
       "\n",
       "    .dataframe tbody tr th {\n",
       "        vertical-align: top;\n",
       "    }\n",
       "\n",
       "    .dataframe thead th {\n",
       "        text-align: right;\n",
       "    }\n",
       "</style>\n",
       "<table border=\"1\" class=\"dataframe\">\n",
       "  <thead>\n",
       "    <tr style=\"text-align: right;\">\n",
       "      <th></th>\n",
       "      <th>Index</th>\n",
       "      <th>Time (s)</th>\n",
       "      <th>Particle Velocity: Magnitude (m/s)</th>\n",
       "      <th>Particle Velocity[i] (m/s)</th>\n",
       "      <th>Particle Velocity[k] (m/s)</th>\n",
       "    </tr>\n",
       "  </thead>\n",
       "  <tbody>\n",
       "    <tr>\n",
       "      <th>0</th>\n",
       "      <td>0</td>\n",
       "      <td>10.0</td>\n",
       "      <td>0.603468</td>\n",
       "      <td>0.603379</td>\n",
       "      <td>0.010375</td>\n",
       "    </tr>\n",
       "    <tr>\n",
       "      <th>1</th>\n",
       "      <td>1</td>\n",
       "      <td>10.0</td>\n",
       "      <td>0.484547</td>\n",
       "      <td>0.484467</td>\n",
       "      <td>0.008608</td>\n",
       "    </tr>\n",
       "    <tr>\n",
       "      <th>2</th>\n",
       "      <td>2</td>\n",
       "      <td>10.0</td>\n",
       "      <td>0.603346</td>\n",
       "      <td>0.602915</td>\n",
       "      <td>0.022796</td>\n",
       "    </tr>\n",
       "    <tr>\n",
       "      <th>3</th>\n",
       "      <td>3</td>\n",
       "      <td>10.0</td>\n",
       "      <td>0.565108</td>\n",
       "      <td>0.565076</td>\n",
       "      <td>0.005253</td>\n",
       "    </tr>\n",
       "    <tr>\n",
       "      <th>4</th>\n",
       "      <td>4</td>\n",
       "      <td>10.0</td>\n",
       "      <td>0.590112</td>\n",
       "      <td>0.578862</td>\n",
       "      <td>-0.001059</td>\n",
       "    </tr>\n",
       "    <tr>\n",
       "      <th>...</th>\n",
       "      <td>...</td>\n",
       "      <td>...</td>\n",
       "      <td>...</td>\n",
       "      <td>...</td>\n",
       "      <td>...</td>\n",
       "    </tr>\n",
       "    <tr>\n",
       "      <th>13410144</th>\n",
       "      <td>33350</td>\n",
       "      <td>50.0</td>\n",
       "      <td>0.549452</td>\n",
       "      <td>0.538740</td>\n",
       "      <td>-0.107966</td>\n",
       "    </tr>\n",
       "    <tr>\n",
       "      <th>13410145</th>\n",
       "      <td>33351</td>\n",
       "      <td>50.0</td>\n",
       "      <td>0.549401</td>\n",
       "      <td>0.538698</td>\n",
       "      <td>-0.107914</td>\n",
       "    </tr>\n",
       "    <tr>\n",
       "      <th>13410146</th>\n",
       "      <td>33352</td>\n",
       "      <td>50.0</td>\n",
       "      <td>0.549299</td>\n",
       "      <td>0.538615</td>\n",
       "      <td>-0.107810</td>\n",
       "    </tr>\n",
       "    <tr>\n",
       "      <th>13410147</th>\n",
       "      <td>33353</td>\n",
       "      <td>50.0</td>\n",
       "      <td>0.549250</td>\n",
       "      <td>0.538576</td>\n",
       "      <td>-0.107759</td>\n",
       "    </tr>\n",
       "    <tr>\n",
       "      <th>13410148</th>\n",
       "      <td>33354</td>\n",
       "      <td>50.0</td>\n",
       "      <td>0.549250</td>\n",
       "      <td>0.538575</td>\n",
       "      <td>-0.107759</td>\n",
       "    </tr>\n",
       "  </tbody>\n",
       "</table>\n",
       "<p>13410149 rows × 5 columns</p>\n",
       "</div>"
      ],
      "text/plain": [
       "          Index  Time (s)  Particle Velocity: Magnitude (m/s)  \\\n",
       "0             0      10.0                            0.603468   \n",
       "1             1      10.0                            0.484547   \n",
       "2             2      10.0                            0.603346   \n",
       "3             3      10.0                            0.565108   \n",
       "4             4      10.0                            0.590112   \n",
       "...         ...       ...                                 ...   \n",
       "13410144  33350      50.0                            0.549452   \n",
       "13410145  33351      50.0                            0.549401   \n",
       "13410146  33352      50.0                            0.549299   \n",
       "13410147  33353      50.0                            0.549250   \n",
       "13410148  33354      50.0                            0.549250   \n",
       "\n",
       "          Particle Velocity[i] (m/s)  Particle Velocity[k] (m/s)  \n",
       "0                           0.603379                    0.010375  \n",
       "1                           0.484467                    0.008608  \n",
       "2                           0.602915                    0.022796  \n",
       "3                           0.565076                    0.005253  \n",
       "4                           0.578862                   -0.001059  \n",
       "...                              ...                         ...  \n",
       "13410144                    0.538740                   -0.107966  \n",
       "13410145                    0.538698                   -0.107914  \n",
       "13410146                    0.538615                   -0.107810  \n",
       "13410147                    0.538576                   -0.107759  \n",
       "13410148                    0.538575                   -0.107759  \n",
       "\n",
       "[13410149 rows x 5 columns]"
      ]
     },
     "execution_count": 16,
     "metadata": {},
     "output_type": "execute_result"
    }
   ],
   "source": [
    "X"
   ]
  },
  {
   "cell_type": "code",
   "execution_count": 17,
   "id": "101a9fd5-1d03-4b92-a242-fc7434704cb7",
   "metadata": {
    "colab": {
     "base_uri": "https://localhost:8080/",
     "height": 423
    },
    "id": "101a9fd5-1d03-4b92-a242-fc7434704cb7",
    "outputId": "7cc70afd-f1c7-4456-98fb-d24790b0996d"
   },
   "outputs": [
    {
     "data": {
      "text/html": [
       "<div>\n",
       "<style scoped>\n",
       "    .dataframe tbody tr th:only-of-type {\n",
       "        vertical-align: middle;\n",
       "    }\n",
       "\n",
       "    .dataframe tbody tr th {\n",
       "        vertical-align: top;\n",
       "    }\n",
       "\n",
       "    .dataframe thead th {\n",
       "        text-align: right;\n",
       "    }\n",
       "</style>\n",
       "<table border=\"1\" class=\"dataframe\">\n",
       "  <thead>\n",
       "    <tr style=\"text-align: right;\">\n",
       "      <th></th>\n",
       "      <th>Parcel Centroid[X] (m)</th>\n",
       "      <th>Parcel Centroid[Z] (m)</th>\n",
       "    </tr>\n",
       "  </thead>\n",
       "  <tbody>\n",
       "    <tr>\n",
       "      <th>0</th>\n",
       "      <td>0.031825</td>\n",
       "      <td>0.000501</td>\n",
       "    </tr>\n",
       "    <tr>\n",
       "      <th>1</th>\n",
       "      <td>0.027128</td>\n",
       "      <td>0.000499</td>\n",
       "    </tr>\n",
       "    <tr>\n",
       "      <th>2</th>\n",
       "      <td>0.027052</td>\n",
       "      <td>0.000642</td>\n",
       "    </tr>\n",
       "    <tr>\n",
       "      <th>3</th>\n",
       "      <td>0.023665</td>\n",
       "      <td>0.000511</td>\n",
       "    </tr>\n",
       "    <tr>\n",
       "      <th>4</th>\n",
       "      <td>0.030634</td>\n",
       "      <td>0.000500</td>\n",
       "    </tr>\n",
       "    <tr>\n",
       "      <th>...</th>\n",
       "      <td>...</td>\n",
       "      <td>...</td>\n",
       "    </tr>\n",
       "    <tr>\n",
       "      <th>13410144</th>\n",
       "      <td>-0.117258</td>\n",
       "      <td>0.019726</td>\n",
       "    </tr>\n",
       "    <tr>\n",
       "      <th>13410145</th>\n",
       "      <td>-0.117261</td>\n",
       "      <td>0.002363</td>\n",
       "    </tr>\n",
       "    <tr>\n",
       "      <th>13410146</th>\n",
       "      <td>-0.117269</td>\n",
       "      <td>0.002854</td>\n",
       "    </tr>\n",
       "    <tr>\n",
       "      <th>13410147</th>\n",
       "      <td>-0.117272</td>\n",
       "      <td>0.013622</td>\n",
       "    </tr>\n",
       "    <tr>\n",
       "      <th>13410148</th>\n",
       "      <td>-0.117272</td>\n",
       "      <td>0.004727</td>\n",
       "    </tr>\n",
       "  </tbody>\n",
       "</table>\n",
       "<p>13410149 rows × 2 columns</p>\n",
       "</div>"
      ],
      "text/plain": [
       "          Parcel Centroid[X] (m)  Parcel Centroid[Z] (m)\n",
       "0                       0.031825                0.000501\n",
       "1                       0.027128                0.000499\n",
       "2                       0.027052                0.000642\n",
       "3                       0.023665                0.000511\n",
       "4                       0.030634                0.000500\n",
       "...                          ...                     ...\n",
       "13410144               -0.117258                0.019726\n",
       "13410145               -0.117261                0.002363\n",
       "13410146               -0.117269                0.002854\n",
       "13410147               -0.117272                0.013622\n",
       "13410148               -0.117272                0.004727\n",
       "\n",
       "[13410149 rows x 2 columns]"
      ]
     },
     "execution_count": 17,
     "metadata": {},
     "output_type": "execute_result"
    }
   ],
   "source": [
    "y"
   ]
  },
  {
   "cell_type": "markdown",
   "id": "d3969a21-d07e-4e49-bf81-a17a519835aa",
   "metadata": {
    "id": "d3969a21-d07e-4e49-bf81-a17a519835aa"
   },
   "source": [
    "## 2.3 Checking if there is any missing value in our data\n",
    "            * If there is any non-numerical value, we perform feature encoding\n",
    "            * And/ or if there is any missing value, we perform imputation\n",
    "            * If no missing value, then we continue to building the machine Learning Model"
   ]
  },
  {
   "cell_type": "code",
   "execution_count": 18,
   "id": "ac4438d5-345c-427f-9bad-02be39c8347c",
   "metadata": {
    "colab": {
     "base_uri": "https://localhost:8080/",
     "height": 272
    },
    "id": "ac4438d5-345c-427f-9bad-02be39c8347c",
    "outputId": "90f519ef-d974-4113-e2e8-81d51988f725"
   },
   "outputs": [
    {
     "data": {
      "text/plain": [
       "Index                                 0\n",
       "Time (s)                              0\n",
       "Particle Velocity: Magnitude (m/s)    0\n",
       "Particle Velocity[i] (m/s)            0\n",
       "Particle Velocity[k] (m/s)            0\n",
       "dtype: int64"
      ]
     },
     "execution_count": 18,
     "metadata": {},
     "output_type": "execute_result"
    }
   ],
   "source": [
    "X.isna().sum()"
   ]
  },
  {
   "cell_type": "code",
   "execution_count": 19,
   "id": "03466f28-74e8-4b0d-bf70-7eb0b698015e",
   "metadata": {
    "colab": {
     "base_uri": "https://localhost:8080/",
     "height": 178
    },
    "id": "03466f28-74e8-4b0d-bf70-7eb0b698015e",
    "outputId": "a928474b-2f7a-4f8e-cfde-3578a5d00c7c",
    "scrolled": true
   },
   "outputs": [
    {
     "data": {
      "text/plain": [
       "Parcel Centroid[X] (m)    0\n",
       "Parcel Centroid[Z] (m)    0\n",
       "dtype: int64"
      ]
     },
     "execution_count": 19,
     "metadata": {},
     "output_type": "execute_result"
    }
   ],
   "source": [
    "y.isna().sum()"
   ]
  },
  {
   "cell_type": "markdown",
   "id": "d4d124dc-35ad-4296-94d8-0622f682aec9",
   "metadata": {
    "id": "d4d124dc-35ad-4296-94d8-0622f682aec9"
   },
   "source": [
    "# 3.0 Building and Training the Machine Learning Model for our Data"
   ]
  },
  {
   "cell_type": "code",
   "execution_count": 20,
   "id": "ff97fa5b-7c90-44a6-9cfa-9b51d4a88823",
   "metadata": {
    "id": "ff97fa5b-7c90-44a6-9cfa-9b51d4a88823"
   },
   "outputs": [],
   "source": [
    "from keras.models import Sequential\n",
    "from keras.layers import Dense"
   ]
  },
  {
   "cell_type": "code",
   "execution_count": 21,
   "id": "8139a34a-3cd8-47e1-9c07-cd9806ec41b7",
   "metadata": {
    "colab": {
     "base_uri": "https://localhost:8080/"
    },
    "id": "8139a34a-3cd8-47e1-9c07-cd9806ec41b7",
    "outputId": "969e2592-e9a1-4050-b159-d6fe8e76f848"
   },
   "outputs": [
    {
     "name": "stdout",
     "output_type": "stream",
     "text": [
      "CPU times: user 1.98 s, sys: 229 ms, total: 2.21 s\n",
      "Wall time: 2.35 s\n"
     ]
    }
   ],
   "source": [
    "%%time\n",
    "\n",
    "np.random.seed(42)\n",
    "from sklearn.model_selection import train_test_split\n",
    "\n",
    "X_train, X_test, y_train, y_test= train_test_split(X,y,\n",
    "                                                   test_size=0.2)\n",
    "\n"
   ]
  },
  {
   "cell_type": "code",
   "execution_count": 22,
   "id": "4d21910b-cc4c-4ad3-9016-b20f166b88b3",
   "metadata": {
    "id": "4d21910b-cc4c-4ad3-9016-b20f166b88b3"
   },
   "outputs": [],
   "source": [
    "from sklearn.preprocessing import StandardScaler\n",
    "\n",
    "# Scale input features\n",
    "input_scaler = StandardScaler()\n",
    "X_train = input_scaler.fit_transform(X_train)\n",
    "X_test = input_scaler.transform(X_test)\n",
    "\n",
    "# Scale outputs\n",
    "output_scaler = StandardScaler()\n",
    "y_train = output_scaler.fit_transform(y_train)\n",
    "y_test = output_scaler.transform(y_test)"
   ]
  },
  {
   "cell_type": "code",
   "execution_count": 23,
   "id": "49a6fed3-14bb-46ef-9ce1-fea126122f52",
   "metadata": {
    "colab": {
     "base_uri": "https://localhost:8080/",
     "height": 409
    },
    "id": "49a6fed3-14bb-46ef-9ce1-fea126122f52",
    "outputId": "aa6c21ac-8f3f-48fa-e643-b6a9dcca7874"
   },
   "outputs": [
    {
     "name": "stderr",
     "output_type": "stream",
     "text": [
      "2024-12-27 06:17:22.392192: I tensorflow/core/common_runtime/pluggable_device/pluggable_device_factory.cc:306] Could not identify NUMA node of platform GPU ID 0, defaulting to 0. Your kernel may not have been built with NUMA support.\n",
      "2024-12-27 06:17:22.392251: I tensorflow/core/common_runtime/pluggable_device/pluggable_device_factory.cc:272] Created TensorFlow device (/job:localhost/replica:0/task:0/device:GPU:0 with 0 MB memory) -> physical PluggableDevice (device: 0, name: METAL, pci bus id: <undefined>)\n"
     ]
    },
    {
     "name": "stdout",
     "output_type": "stream",
     "text": [
      "Model: \"sequential\"\n",
      "_________________________________________________________________\n",
      " Layer (type)                Output Shape              Param #   \n",
      "=================================================================\n",
      " dense (Dense)               (None, 9)                 54        \n",
      "                                                                 \n",
      " dense_1 (Dense)             (None, 80)                800       \n",
      "                                                                 \n",
      " dense_2 (Dense)             (None, 80)                6480      \n",
      "                                                                 \n",
      " dense_3 (Dense)             (None, 80)                6480      \n",
      "                                                                 \n",
      " dense_4 (Dense)             (None, 80)                6480      \n",
      "                                                                 \n",
      " dense_5 (Dense)             (None, 80)                6480      \n",
      "                                                                 \n",
      " dense_6 (Dense)             (None, 2)                 162       \n",
      "                                                                 \n",
      "=================================================================\n",
      "Total params: 26,936\n",
      "Trainable params: 26,936\n",
      "Non-trainable params: 0\n",
      "_________________________________________________________________\n"
     ]
    }
   ],
   "source": [
    "model =tf.keras.Sequential()\n",
    "model.add(Dense(9, activation='relu', input_shape= (X_train.shape[1],) ))\n",
    "model.add(Dense(80, activation='relu'))\n",
    "# model.add(Dense(128, activation='relu'))\n",
    "# model.add(Dense(128, activation='relu'))\n",
    "model.add(Dense(80, activation='tanh'))\n",
    "model.add(Dense(80, activation='tanh'))\n",
    "model.add(Dense(80, activation='tanh'))\n",
    "model.add(Dense(80, activation='tanh'))\n",
    "# model.add(Dense(200, activation='relu'))\n",
    "# model.add(Dense(200, activation='relu'))\n",
    "# model.add(Dense(200, activation='relu'))\n",
    "\n",
    "#Output layer\n",
    "model.add(Dense(2))\n",
    "\n",
    "model.compile(loss='mean_squared_error', optimizer='adam', metrics = ['mae'])\n",
    "\n",
    "model.summary()"
   ]
  },
  {
   "cell_type": "code",
   "execution_count": 24,
   "id": "5e0389d4-58ea-4456-9eaf-b2e4b9840a0f",
   "metadata": {
    "id": "5e0389d4-58ea-4456-9eaf-b2e4b9840a0f"
   },
   "outputs": [],
   "source": [
    "# history = model.fit(X_train, y_train, epochs = 100, validation_split=0.2)"
   ]
  },
  {
   "cell_type": "markdown",
   "id": "370c23f2-6b0f-4e52-aae4-f4db42a6134a",
   "metadata": {
    "id": "370c23f2-6b0f-4e52-aae4-f4db42a6134a"
   },
   "source": [
    "## 3.1 Predicting with our model"
   ]
  },
  {
   "cell_type": "code",
   "execution_count": 25,
   "id": "81f14ae7-b9af-48ef-b0e0-b51580ac410d",
   "metadata": {
    "colab": {
     "base_uri": "https://localhost:8080/"
    },
    "id": "81f14ae7-b9af-48ef-b0e0-b51580ac410d",
    "outputId": "3d43f3a1-6882-4d1d-c381-2f2df21574f4"
   },
   "outputs": [],
   "source": [
    "%load_ext tensorboard"
   ]
  },
  {
   "cell_type": "code",
   "execution_count": 26,
   "id": "b239e1da-d3fa-4eb7-8315-83c2e8022814",
   "metadata": {
    "id": "b239e1da-d3fa-4eb7-8315-83c2e8022814"
   },
   "outputs": [],
   "source": [
    "import datetime\n",
    "import os\n",
    "\n",
    "def create_tensorboard_callback():\n",
    "  logdir = os.path.join(\"./logs\",\n",
    "                        datetime.datetime.now().strftime('%Y%m%d-%H%M%S')\n",
    "                        )\n",
    "\n",
    "  return tf.keras.callbacks.TensorBoard(logdir, histogram_freq=1)"
   ]
  },
  {
   "cell_type": "code",
   "execution_count": 27,
   "id": "e0f81926-7e76-472c-92af-13d97433f44e",
   "metadata": {
    "id": "e0f81926-7e76-472c-92af-13d97433f44e"
   },
   "outputs": [],
   "source": [
    "# Early Stopping Callback\n",
    "import tensorflow as tf\n",
    "\n",
    "early_stopping = tf.keras.callbacks.EarlyStopping(monitor='val_mae',\n",
    "                                                  patience=3)"
   ]
  },
  {
   "cell_type": "code",
   "execution_count": 28,
   "id": "ca0e411d-6652-45ef-9685-b82f8af2ba03",
   "metadata": {
    "colab": {
     "base_uri": "https://localhost:8080/"
    },
    "id": "ca0e411d-6652-45ef-9685-b82f8af2ba03",
    "outputId": "6ecfaff9-0e1d-4280-a068-4878c67f1bcc"
   },
   "outputs": [
    {
     "name": "stdout",
     "output_type": "stream",
     "text": [
      "Epoch 1/100\n",
      "477/477 [==============================] - 1914s 4s/step - loss: 0.1100 - mae: 0.1977 - val_loss: 0.0829 - val_mae: 0.1646\n",
      "Epoch 2/100\n",
      "477/477 [==============================] - 2252s 5s/step - loss: 0.0808 - mae: 0.1591 - val_loss: 0.0791 - val_mae: 0.1558\n",
      "Epoch 3/100\n",
      "477/477 [==============================] - 1053s 2s/step - loss: 0.0787 - mae: 0.1557 - val_loss: 0.0780 - val_mae: 0.1541\n",
      "Epoch 4/100\n",
      "477/477 [==============================] - 126s 263ms/step - loss: 0.0776 - mae: 0.1540 - val_loss: 0.0769 - val_mae: 0.1527\n",
      "Epoch 5/100\n",
      "477/477 [==============================] - 1037s 2s/step - loss: 0.0765 - mae: 0.1529 - val_loss: 0.0762 - val_mae: 0.1518\n",
      "Epoch 6/100\n",
      "477/477 [==============================] - 8305s 17s/step - loss: 0.0752 - mae: 0.1517 - val_loss: 0.0746 - val_mae: 0.1523\n",
      "Epoch 7/100\n",
      "477/477 [==============================] - 1130s 2s/step - loss: 0.0741 - mae: 0.1503 - val_loss: 0.0740 - val_mae: 0.1504\n",
      "Epoch 8/100\n",
      "477/477 [==============================] - 9458s 20s/step - loss: 0.0733 - mae: 0.1495 - val_loss: 0.0734 - val_mae: 0.1504\n",
      "Epoch 9/100\n",
      "477/477 [==============================] - 11431s 24s/step - loss: 0.0730 - mae: 0.1493 - val_loss: 0.0917 - val_mae: 0.1662\n",
      "Epoch 10/100\n",
      "477/477 [==============================] - 103s 216ms/step - loss: 0.0730 - mae: 0.1490 - val_loss: 0.0724 - val_mae: 0.1479\n",
      "Epoch 11/100\n",
      "477/477 [==============================] - 101s 210ms/step - loss: 0.0723 - mae: 0.1482 - val_loss: 0.0716 - val_mae: 0.1481\n",
      "Epoch 12/100\n",
      "477/477 [==============================] - 101s 211ms/step - loss: 0.0732 - mae: 0.1493 - val_loss: 0.0721 - val_mae: 0.1473\n",
      "Epoch 13/100\n",
      "477/477 [==============================] - 105s 218ms/step - loss: 0.0716 - mae: 0.1470 - val_loss: 0.0715 - val_mae: 0.1479\n",
      "Epoch 14/100\n",
      "477/477 [==============================] - 104s 218ms/step - loss: 0.0725 - mae: 0.1482 - val_loss: 0.1034 - val_mae: 0.1578\n",
      "Epoch 15/100\n",
      "477/477 [==============================] - 105s 220ms/step - loss: 0.0727 - mae: 0.1482 - val_loss: 0.0710 - val_mae: 0.1454\n",
      "Epoch 16/100\n",
      "477/477 [==============================] - 105s 220ms/step - loss: 0.0710 - mae: 0.1458 - val_loss: 0.0710 - val_mae: 0.1458\n",
      "Epoch 17/100\n",
      "477/477 [==============================] - 104s 217ms/step - loss: 0.0709 - mae: 0.1457 - val_loss: 0.0711 - val_mae: 0.1468\n",
      "Epoch 18/100\n",
      "477/477 [==============================] - 101s 210ms/step - loss: 0.0708 - mae: 0.1455 - val_loss: 0.0708 - val_mae: 0.1455\n"
     ]
    }
   ],
   "source": [
    "tf.data.experimental.enable_debug_mode()\n",
    "\n",
    "history = model.fit(X_train, y_train,\n",
    "                    epochs = 100,\n",
    "                    validation_data=(X_test, y_test),\n",
    "                    validation_freq=1,batch_size=22500,\n",
    "                    callbacks=[create_tensorboard_callback(), early_stopping]\n",
    "                    )"
   ]
  },
  {
   "cell_type": "code",
   "execution_count": 29,
   "id": "eb62ef9d-bf5e-4d34-954b-aab9d476ba5e",
   "metadata": {
    "colab": {
     "base_uri": "https://localhost:8080/",
     "height": 126
    },
    "id": "eb62ef9d-bf5e-4d34-954b-aab9d476ba5e",
    "outputId": "9c16a247-f7e1-4b30-b2f1-bbe7b3993352"
   },
   "outputs": [],
   "source": [
    "# os.environ['TENSORBOARD_BINARY'] = r\"C:\\ProgramData\\anaconda3\\envs\\colab_deeplearning_env\\Scripts\\tensorboard.exe\"\n",
    "\n",
    "# %tensorboard --logdir ./logs --host localhost"
   ]
  },
  {
   "cell_type": "markdown",
   "id": "f2dd13f8-99d7-41ba-97a3-6b44b28bebf1",
   "metadata": {
    "id": "f2dd13f8-99d7-41ba-97a3-6b44b28bebf1"
   },
   "source": [
    "## Predicting with our Model"
   ]
  },
  {
   "cell_type": "code",
   "execution_count": 30,
   "id": "7fb7dbc5-6f13-42aa-a931-ee53c15f4423",
   "metadata": {
    "colab": {
     "base_uri": "https://localhost:8080/"
    },
    "id": "7fb7dbc5-6f13-42aa-a931-ee53c15f4423",
    "outputId": "741c162b-708e-48ba-cf05-1a4e7e7f863f"
   },
   "outputs": [
    {
     "name": "stdout",
     "output_type": "stream",
     "text": [
      "120/120 [==============================] - 3s 21ms/step\n"
     ]
    },
    {
     "data": {
      "text/plain": [
       "array([[-1.4859327 ,  1.8717961 ],\n",
       "       [ 1.3974546 ,  0.80336314],\n",
       "       [ 0.31771755,  0.29121497],\n",
       "       ...,\n",
       "       [-0.8719907 , -0.2965622 ],\n",
       "       [ 0.30251202,  0.8651827 ],\n",
       "       [-0.6915738 , -0.16684365]], dtype=float32)"
      ]
     },
     "execution_count": 30,
     "metadata": {},
     "output_type": "execute_result"
    }
   ],
   "source": [
    "y_preds = model.predict(X_test, batch_size=22500)\n",
    "y_preds"
   ]
  },
  {
   "cell_type": "code",
   "execution_count": 31,
   "id": "4c5d2173-e961-4735-b45e-a4badf556b0d",
   "metadata": {
    "id": "4c5d2173-e961-4735-b45e-a4badf556b0d"
   },
   "outputs": [],
   "source": [
    "# y_pred = output_scaler.inverse_transform(y_preds)  # reverse scaling\n",
    "# y_test_orig = output_scaler.inverse_transform(y_test)  # reverse scaling for test data\n",
    "# y_pred"
   ]
  },
  {
   "cell_type": "code",
   "execution_count": null,
   "id": "1ed2e2ba-08b0-4c05-9a49-30ae2eb77881",
   "metadata": {},
   "outputs": [],
   "source": []
  },
  {
   "cell_type": "code",
   "execution_count": 32,
   "id": "3af7c0d9-1522-4aaa-b3a2-39286159faba",
   "metadata": {
    "colab": {
     "base_uri": "https://localhost:8080/",
     "height": 441
    },
    "id": "3af7c0d9-1522-4aaa-b3a2-39286159faba",
    "outputId": "03d3d34a-8011-4804-cd33-994018236676"
   },
   "outputs": [
    {
     "data": {
      "text/html": [
       "<div>\n",
       "<style scoped>\n",
       "    .dataframe tbody tr th:only-of-type {\n",
       "        vertical-align: middle;\n",
       "    }\n",
       "\n",
       "    .dataframe tbody tr th {\n",
       "        vertical-align: top;\n",
       "    }\n",
       "\n",
       "    .dataframe thead th {\n",
       "        text-align: right;\n",
       "    }\n",
       "</style>\n",
       "<table border=\"1\" class=\"dataframe\">\n",
       "  <thead>\n",
       "    <tr style=\"text-align: right;\">\n",
       "      <th></th>\n",
       "      <th>predicted Parcel Centroid[X] (m)</th>\n",
       "      <th>predicted Parcel Centroid[Z] (m)</th>\n",
       "    </tr>\n",
       "  </thead>\n",
       "  <tbody>\n",
       "    <tr>\n",
       "      <th>0</th>\n",
       "      <td>-1.485933</td>\n",
       "      <td>1.871796</td>\n",
       "    </tr>\n",
       "    <tr>\n",
       "      <th>1</th>\n",
       "      <td>1.397455</td>\n",
       "      <td>0.803363</td>\n",
       "    </tr>\n",
       "    <tr>\n",
       "      <th>2</th>\n",
       "      <td>0.317718</td>\n",
       "      <td>0.291215</td>\n",
       "    </tr>\n",
       "    <tr>\n",
       "      <th>3</th>\n",
       "      <td>-0.344086</td>\n",
       "      <td>-0.561579</td>\n",
       "    </tr>\n",
       "    <tr>\n",
       "      <th>4</th>\n",
       "      <td>0.727077</td>\n",
       "      <td>0.311165</td>\n",
       "    </tr>\n",
       "    <tr>\n",
       "      <th>...</th>\n",
       "      <td>...</td>\n",
       "      <td>...</td>\n",
       "    </tr>\n",
       "    <tr>\n",
       "      <th>2682025</th>\n",
       "      <td>0.655064</td>\n",
       "      <td>-0.180571</td>\n",
       "    </tr>\n",
       "    <tr>\n",
       "      <th>2682026</th>\n",
       "      <td>-1.163839</td>\n",
       "      <td>-0.503906</td>\n",
       "    </tr>\n",
       "    <tr>\n",
       "      <th>2682027</th>\n",
       "      <td>-0.871991</td>\n",
       "      <td>-0.296562</td>\n",
       "    </tr>\n",
       "    <tr>\n",
       "      <th>2682028</th>\n",
       "      <td>0.302512</td>\n",
       "      <td>0.865183</td>\n",
       "    </tr>\n",
       "    <tr>\n",
       "      <th>2682029</th>\n",
       "      <td>-0.691574</td>\n",
       "      <td>-0.166844</td>\n",
       "    </tr>\n",
       "  </tbody>\n",
       "</table>\n",
       "<p>2682030 rows × 2 columns</p>\n",
       "</div>"
      ],
      "text/plain": [
       "         predicted Parcel Centroid[X] (m)  predicted Parcel Centroid[Z] (m)\n",
       "0                               -1.485933                          1.871796\n",
       "1                                1.397455                          0.803363\n",
       "2                                0.317718                          0.291215\n",
       "3                               -0.344086                         -0.561579\n",
       "4                                0.727077                          0.311165\n",
       "...                                   ...                               ...\n",
       "2682025                          0.655064                         -0.180571\n",
       "2682026                         -1.163839                         -0.503906\n",
       "2682027                         -0.871991                         -0.296562\n",
       "2682028                          0.302512                          0.865183\n",
       "2682029                         -0.691574                         -0.166844\n",
       "\n",
       "[2682030 rows x 2 columns]"
      ]
     },
     "execution_count": 32,
     "metadata": {},
     "output_type": "execute_result"
    }
   ],
   "source": [
    "y_preds = pd.DataFrame(y_preds, columns=['predicted Parcel Centroid[X] (m)',\t'predicted Parcel Centroid[Z] (m)'])\n",
    "y_preds"
   ]
  },
  {
   "cell_type": "code",
   "execution_count": 33,
   "id": "a852160e-4ee1-4ba8-94d4-2ef26ad118aa",
   "metadata": {
    "colab": {
     "base_uri": "https://localhost:8080/"
    },
    "id": "a852160e-4ee1-4ba8-94d4-2ef26ad118aa",
    "outputId": "e0bb52a6-3c18-4a83-f8bc-073e38cb1b6a"
   },
   "outputs": [
    {
     "data": {
      "text/plain": [
       "array([[-1.46373988,  2.82129814],\n",
       "       [ 1.3834501 ,  0.65717382],\n",
       "       [ 0.30098246,  0.35622598],\n",
       "       ...,\n",
       "       [-0.93075033, -0.76469761],\n",
       "       [ 0.29059953,  0.91524451],\n",
       "       [-0.72455257, -0.5155353 ]])"
      ]
     },
     "execution_count": 33,
     "metadata": {},
     "output_type": "execute_result"
    }
   ],
   "source": [
    "y_test"
   ]
  },
  {
   "cell_type": "code",
   "execution_count": 34,
   "id": "4af50535-ccff-4b85-960a-9fe7f9a11e25",
   "metadata": {
    "id": "4af50535-ccff-4b85-960a-9fe7f9a11e25"
   },
   "outputs": [],
   "source": [
    "# y_test_orig"
   ]
  },
  {
   "cell_type": "markdown",
   "id": "7d02d00b-d740-43b7-add7-a74c474197d3",
   "metadata": {
    "id": "7d02d00b-d740-43b7-add7-a74c474197d3"
   },
   "source": [
    "## 3.2 Scoring our model"
   ]
  },
  {
   "cell_type": "code",
   "execution_count": null,
   "id": "39a81760-b0f0-4912-ae55-9284d8a9ba5b",
   "metadata": {
    "id": "39a81760-b0f0-4912-ae55-9284d8a9ba5b"
   },
   "outputs": [],
   "source": []
  },
  {
   "cell_type": "code",
   "execution_count": 35,
   "id": "4fa10599-4e93-4463-a8aa-1bc4bbbcdaf8",
   "metadata": {
    "colab": {
     "base_uri": "https://localhost:8080/"
    },
    "id": "4fa10599-4e93-4463-a8aa-1bc4bbbcdaf8",
    "outputId": "fd740903-305d-4657-e0e1-f7ce875316db"
   },
   "outputs": [
    {
     "name": "stdout",
     "output_type": "stream",
     "text": [
      "120/120 [==============================] - 5s 46ms/step - loss: 0.0708 - mae: 0.1455\n"
     ]
    },
    {
     "data": {
      "text/plain": [
       "[0.07079091668128967, 0.1454937756061554]"
      ]
     },
     "execution_count": 35,
     "metadata": {},
     "output_type": "execute_result"
    }
   ],
   "source": [
    "model.evaluate(X_test, y_test,batch_size =22500, verbose=1)\n"
   ]
  },
  {
   "cell_type": "code",
   "execution_count": 36,
   "id": "43289846-de41-4ce1-84fb-6201221bbe69",
   "metadata": {
    "id": "43289846-de41-4ce1-84fb-6201221bbe69"
   },
   "outputs": [],
   "source": [
    "from sklearn.metrics import r2_score, mean_squared_error, mean_absolute_error\n"
   ]
  },
  {
   "cell_type": "code",
   "execution_count": 37,
   "id": "11455e50",
   "metadata": {
    "colab": {
     "base_uri": "https://localhost:8080/"
    },
    "id": "11455e50",
    "outputId": "e127f3a4-47fe-41e4-9163-de4c5a17f6cc"
   },
   "outputs": [
    {
     "name": "stdout",
     "output_type": "stream",
     "text": [
      "R² Score: 0.9292204847942933\n"
     ]
    }
   ],
   "source": [
    "r2 = r2_score(y_test, y_preds)\n",
    "print(f\"R² Score: {r2}\")"
   ]
  },
  {
   "cell_type": "code",
   "execution_count": 38,
   "id": "f1974058",
   "metadata": {
    "id": "f1974058"
   },
   "outputs": [],
   "source": [
    "# score30_table.to_csv('#30scores.csv')"
   ]
  },
  {
   "cell_type": "code",
   "execution_count": 57,
   "id": "f9dbf8ed-445a-422c-9318-e403ca026a21",
   "metadata": {},
   "outputs": [
    {
     "data": {
      "text/plain": [
       "{'r-squared': 0.9292204847942933,\n",
       " 'Mean absolute error (MAE)': 0.14549374386088731,\n",
       " 'Mean squared error(MSE)': 0.07079091437135489}"
      ]
     },
     "execution_count": 57,
     "metadata": {},
     "output_type": "execute_result"
    }
   ],
   "source": [
    "metrics ={\"r-squared\": r2_score, \n",
    "          \"Mean absolute error (MAE)\": mean_absolute_error, \n",
    "          \"Mean squared error(MSE)\":mean_squared_error,\n",
    "          \n",
    "          \n",
    "         }\n",
    "DNN_scores={}\n",
    "\n",
    "for key,value in metrics.items():\n",
    "    DNN_scores[key]=value(y_test, y_preds)\n",
    "\n",
    "\n",
    "DNN_scores"
   ]
  },
  {
   "cell_type": "code",
   "execution_count": 40,
   "id": "e9b4fac3-d795-4964-853f-8e4692ee1ab9",
   "metadata": {},
   "outputs": [
    {
     "data": {
      "text/html": [
       "<div>\n",
       "<style scoped>\n",
       "    .dataframe tbody tr th:only-of-type {\n",
       "        vertical-align: middle;\n",
       "    }\n",
       "\n",
       "    .dataframe tbody tr th {\n",
       "        vertical-align: top;\n",
       "    }\n",
       "\n",
       "    .dataframe thead th {\n",
       "        text-align: right;\n",
       "    }\n",
       "</style>\n",
       "<table border=\"1\" class=\"dataframe\">\n",
       "  <thead>\n",
       "    <tr style=\"text-align: right;\">\n",
       "      <th></th>\n",
       "      <th>Values</th>\n",
       "    </tr>\n",
       "  </thead>\n",
       "  <tbody>\n",
       "    <tr>\n",
       "      <th>r-squared</th>\n",
       "      <td>0.929220</td>\n",
       "    </tr>\n",
       "    <tr>\n",
       "      <th>Mean absolute error (MAE)</th>\n",
       "      <td>0.145494</td>\n",
       "    </tr>\n",
       "    <tr>\n",
       "      <th>Mean squared error(MSE)</th>\n",
       "      <td>0.070791</td>\n",
       "    </tr>\n",
       "  </tbody>\n",
       "</table>\n",
       "</div>"
      ],
      "text/plain": [
       "                             Values\n",
       "r-squared                  0.929220\n",
       "Mean absolute error (MAE)  0.145494\n",
       "Mean squared error(MSE)    0.070791"
      ]
     },
     "execution_count": 40,
     "metadata": {},
     "output_type": "execute_result"
    }
   ],
   "source": [
    "scores_table= pd.DataFrame(DNN_scores.values(), index=DNN_scores.keys(), columns=[\"Values\"])\n",
    "scores_table.to_csv('#DNN_scores.csv')\n",
    "scores_table"
   ]
  },
  {
   "cell_type": "markdown",
   "id": "dd412002-e681-4a45-b8c4-e66380881108",
   "metadata": {
    "id": "dd412002-e681-4a45-b8c4-e66380881108"
   },
   "source": [
    "# 4.0 Plotting the Data\n",
    "Plotting at the first time-index of the test data This is equivalent to the zeroth index\n",
    "We can do the same for other indexes"
   ]
  },
  {
   "cell_type": "code",
   "execution_count": 41,
   "id": "b0c8f544-213e-488f-92df-525ce8301857",
   "metadata": {
    "id": "b0c8f544-213e-488f-92df-525ce8301857"
   },
   "outputs": [],
   "source": [
    "actual_Xi = pd.DataFrame(y_test).iloc[:, :1]\n",
    "actual_Xk=pd.DataFrame(y_test, columns=['Parcel Centroid[X] (m)', 'Parcel Centroid[Z] (m)']).iloc[:, :2].drop(['Parcel Centroid[X] (m)'], axis =1)\n",
    "\n",
    "predicted_Xi = y_preds.iloc[:, :1]\n",
    "predicted_Xk = y_preds.iloc[:, :2].drop(['predicted Parcel Centroid[X] (m)'], axis =1)"
   ]
  },
  {
   "cell_type": "code",
   "execution_count": 42,
   "id": "73fa0513-f514-4009-87b7-ee2f0813a829",
   "metadata": {},
   "outputs": [
    {
     "data": {
      "text/html": [
       "<div>\n",
       "<style scoped>\n",
       "    .dataframe tbody tr th:only-of-type {\n",
       "        vertical-align: middle;\n",
       "    }\n",
       "\n",
       "    .dataframe tbody tr th {\n",
       "        vertical-align: top;\n",
       "    }\n",
       "\n",
       "    .dataframe thead th {\n",
       "        text-align: right;\n",
       "    }\n",
       "</style>\n",
       "<table border=\"1\" class=\"dataframe\">\n",
       "  <thead>\n",
       "    <tr style=\"text-align: right;\">\n",
       "      <th></th>\n",
       "      <th>Parcel Centroid[Z] (m)</th>\n",
       "    </tr>\n",
       "  </thead>\n",
       "  <tbody>\n",
       "    <tr>\n",
       "      <th>0</th>\n",
       "      <td>2.821298</td>\n",
       "    </tr>\n",
       "    <tr>\n",
       "      <th>1</th>\n",
       "      <td>0.657174</td>\n",
       "    </tr>\n",
       "    <tr>\n",
       "      <th>2</th>\n",
       "      <td>0.356226</td>\n",
       "    </tr>\n",
       "    <tr>\n",
       "      <th>3</th>\n",
       "      <td>-0.976272</td>\n",
       "    </tr>\n",
       "    <tr>\n",
       "      <th>4</th>\n",
       "      <td>0.450080</td>\n",
       "    </tr>\n",
       "    <tr>\n",
       "      <th>...</th>\n",
       "      <td>...</td>\n",
       "    </tr>\n",
       "    <tr>\n",
       "      <th>2682025</th>\n",
       "      <td>-0.339566</td>\n",
       "    </tr>\n",
       "    <tr>\n",
       "      <th>2682026</th>\n",
       "      <td>-0.603861</td>\n",
       "    </tr>\n",
       "    <tr>\n",
       "      <th>2682027</th>\n",
       "      <td>-0.764698</td>\n",
       "    </tr>\n",
       "    <tr>\n",
       "      <th>2682028</th>\n",
       "      <td>0.915245</td>\n",
       "    </tr>\n",
       "    <tr>\n",
       "      <th>2682029</th>\n",
       "      <td>-0.515535</td>\n",
       "    </tr>\n",
       "  </tbody>\n",
       "</table>\n",
       "<p>2682030 rows × 1 columns</p>\n",
       "</div>"
      ],
      "text/plain": [
       "         Parcel Centroid[Z] (m)\n",
       "0                      2.821298\n",
       "1                      0.657174\n",
       "2                      0.356226\n",
       "3                     -0.976272\n",
       "4                      0.450080\n",
       "...                         ...\n",
       "2682025               -0.339566\n",
       "2682026               -0.603861\n",
       "2682027               -0.764698\n",
       "2682028                0.915245\n",
       "2682029               -0.515535\n",
       "\n",
       "[2682030 rows x 1 columns]"
      ]
     },
     "execution_count": 42,
     "metadata": {},
     "output_type": "execute_result"
    }
   ],
   "source": [
    "actual_Xk"
   ]
  },
  {
   "cell_type": "code",
   "execution_count": 43,
   "id": "84a73332-e0f5-49d3-b2ca-efca51d97f18",
   "metadata": {
    "colab": {
     "base_uri": "https://localhost:8080/",
     "height": 1000
    },
    "id": "84a73332-e0f5-49d3-b2ca-efca51d97f18",
    "outputId": "89c715b0-9d98-4416-8324-7314e26ab29e"
   },
   "outputs": [
    {
     "data": {
      "image/png": "[encoded data removed]",
      "text/plain": [
       "<Figure size 1000x1500 with 2 Axes>"
      ]
     },
     "metadata": {},
     "output_type": "display_data"
    }
   ],
   "source": [
    "fig, (ax1, ax2) = plt.subplots(2,1, figsize=(10,15))\n",
    "\n",
    "ax1.scatter(actual_Xi, actual_Xk)\n",
    "ax2.scatter(predicted_Xi, predicted_Xk, color='red')\n",
    "\n",
    "ax1.set(title=\"Plot of actual Test data (y_test)\",\n",
    "              xlabel='i (m)',\n",
    "              ylabel='k (m)'\n",
    "             )\n",
    "fig.tight_layout(pad=5)\n",
    "\n",
    "ax2.set(title= \"Plot of the Predicted data (y_preds)\",\n",
    "        xlabel= 'i (m)',\n",
    "        ylabel='k (m)'\n",
    "       )\n",
    "\n",
    "plt.savefig(\"./Separate plots of Actual and Predicted granules Position(#30).png\", dpi=1200)\n",
    "plt.show()"
   ]
  },
  {
   "cell_type": "code",
   "execution_count": 44,
   "id": "449f0a0c-2f6d-4b6b-a48a-7292be95223b",
   "metadata": {
    "colab": {
     "base_uri": "https://localhost:8080/",
     "height": 487
    },
    "id": "449f0a0c-2f6d-4b6b-a48a-7292be95223b",
    "outputId": "7710a977-c01c-4d4f-f7d9-214c0f76ead7"
   },
   "outputs": [
    {
     "data": {
      "image/png": "[encoded data removed]",
      "text/plain": [
       "<Figure size 500x500 with 1 Axes>"
      ]
     },
     "metadata": {},
     "output_type": "display_data"
    }
   ],
   "source": [
    "fig, ax3 =plt.subplots(1,1,figsize=(5,5))\n",
    "\n",
    "ax3.scatter(actual_Xi, actual_Xk, color ='blue')\n",
    "\n",
    "ax3.scatter(predicted_Xi, predicted_Xk, color='red')\n",
    "\n",
    "ax3.set(title=\"Actual Granules Position against the Predicted Granules Position\",\n",
    "      xlabel=\"i (m)\",\n",
    "      ylabel=\"k (m)\"\n",
    "       )\n",
    "\n",
    "plt.savefig('./Actual vs Predicted(#30).png', dpi=1200)\n",
    "plt.show()"
   ]
  },
  {
   "cell_type": "code",
   "execution_count": 45,
   "id": "cd190566-30fe-42f2-8e08-41892f351bb9",
   "metadata": {
    "colab": {
     "base_uri": "https://localhost:8080/",
     "height": 423
    },
    "id": "cd190566-30fe-42f2-8e08-41892f351bb9",
    "outputId": "96c78786-7dea-4ae3-8c15-472d7181e865"
   },
   "outputs": [
    {
     "data": {
      "text/html": [
       "<div>\n",
       "<style scoped>\n",
       "    .dataframe tbody tr th:only-of-type {\n",
       "        vertical-align: middle;\n",
       "    }\n",
       "\n",
       "    .dataframe tbody tr th {\n",
       "        vertical-align: top;\n",
       "    }\n",
       "\n",
       "    .dataframe thead th {\n",
       "        text-align: right;\n",
       "    }\n",
       "</style>\n",
       "<table border=\"1\" class=\"dataframe\">\n",
       "  <thead>\n",
       "    <tr style=\"text-align: right;\">\n",
       "      <th></th>\n",
       "      <th>predicted Parcel Centroid[X] (m)</th>\n",
       "    </tr>\n",
       "  </thead>\n",
       "  <tbody>\n",
       "    <tr>\n",
       "      <th>0</th>\n",
       "      <td>-1.485933</td>\n",
       "    </tr>\n",
       "    <tr>\n",
       "      <th>1</th>\n",
       "      <td>1.397455</td>\n",
       "    </tr>\n",
       "    <tr>\n",
       "      <th>2</th>\n",
       "      <td>0.317718</td>\n",
       "    </tr>\n",
       "    <tr>\n",
       "      <th>3</th>\n",
       "      <td>-0.344086</td>\n",
       "    </tr>\n",
       "    <tr>\n",
       "      <th>4</th>\n",
       "      <td>0.727077</td>\n",
       "    </tr>\n",
       "    <tr>\n",
       "      <th>...</th>\n",
       "      <td>...</td>\n",
       "    </tr>\n",
       "    <tr>\n",
       "      <th>2682025</th>\n",
       "      <td>0.655064</td>\n",
       "    </tr>\n",
       "    <tr>\n",
       "      <th>2682026</th>\n",
       "      <td>-1.163839</td>\n",
       "    </tr>\n",
       "    <tr>\n",
       "      <th>2682027</th>\n",
       "      <td>-0.871991</td>\n",
       "    </tr>\n",
       "    <tr>\n",
       "      <th>2682028</th>\n",
       "      <td>0.302512</td>\n",
       "    </tr>\n",
       "    <tr>\n",
       "      <th>2682029</th>\n",
       "      <td>-0.691574</td>\n",
       "    </tr>\n",
       "  </tbody>\n",
       "</table>\n",
       "<p>2682030 rows × 1 columns</p>\n",
       "</div>"
      ],
      "text/plain": [
       "         predicted Parcel Centroid[X] (m)\n",
       "0                               -1.485933\n",
       "1                                1.397455\n",
       "2                                0.317718\n",
       "3                               -0.344086\n",
       "4                                0.727077\n",
       "...                                   ...\n",
       "2682025                          0.655064\n",
       "2682026                         -1.163839\n",
       "2682027                         -0.871991\n",
       "2682028                          0.302512\n",
       "2682029                         -0.691574\n",
       "\n",
       "[2682030 rows x 1 columns]"
      ]
     },
     "execution_count": 45,
     "metadata": {},
     "output_type": "execute_result"
    }
   ],
   "source": [
    "predicted_Xi"
   ]
  },
  {
   "cell_type": "code",
   "execution_count": 46,
   "id": "d1bfc574",
   "metadata": {
    "colab": {
     "base_uri": "https://localhost:8080/",
     "height": 423
    },
    "id": "d1bfc574",
    "outputId": "785995a1-9c3e-42f3-aa19-6fb2c23b89c1"
   },
   "outputs": [
    {
     "data": {
      "text/html": [
       "<div>\n",
       "<style scoped>\n",
       "    .dataframe tbody tr th:only-of-type {\n",
       "        vertical-align: middle;\n",
       "    }\n",
       "\n",
       "    .dataframe tbody tr th {\n",
       "        vertical-align: top;\n",
       "    }\n",
       "\n",
       "    .dataframe thead th {\n",
       "        text-align: right;\n",
       "    }\n",
       "</style>\n",
       "<table border=\"1\" class=\"dataframe\">\n",
       "  <thead>\n",
       "    <tr style=\"text-align: right;\">\n",
       "      <th></th>\n",
       "      <th>predicted Parcel Centroid[Z] (m)</th>\n",
       "    </tr>\n",
       "  </thead>\n",
       "  <tbody>\n",
       "    <tr>\n",
       "      <th>0</th>\n",
       "      <td>1.871796</td>\n",
       "    </tr>\n",
       "    <tr>\n",
       "      <th>1</th>\n",
       "      <td>0.803363</td>\n",
       "    </tr>\n",
       "    <tr>\n",
       "      <th>2</th>\n",
       "      <td>0.291215</td>\n",
       "    </tr>\n",
       "    <tr>\n",
       "      <th>3</th>\n",
       "      <td>-0.561579</td>\n",
       "    </tr>\n",
       "    <tr>\n",
       "      <th>4</th>\n",
       "      <td>0.311165</td>\n",
       "    </tr>\n",
       "    <tr>\n",
       "      <th>...</th>\n",
       "      <td>...</td>\n",
       "    </tr>\n",
       "    <tr>\n",
       "      <th>2682025</th>\n",
       "      <td>-0.180571</td>\n",
       "    </tr>\n",
       "    <tr>\n",
       "      <th>2682026</th>\n",
       "      <td>-0.503906</td>\n",
       "    </tr>\n",
       "    <tr>\n",
       "      <th>2682027</th>\n",
       "      <td>-0.296562</td>\n",
       "    </tr>\n",
       "    <tr>\n",
       "      <th>2682028</th>\n",
       "      <td>0.865183</td>\n",
       "    </tr>\n",
       "    <tr>\n",
       "      <th>2682029</th>\n",
       "      <td>-0.166844</td>\n",
       "    </tr>\n",
       "  </tbody>\n",
       "</table>\n",
       "<p>2682030 rows × 1 columns</p>\n",
       "</div>"
      ],
      "text/plain": [
       "         predicted Parcel Centroid[Z] (m)\n",
       "0                                1.871796\n",
       "1                                0.803363\n",
       "2                                0.291215\n",
       "3                               -0.561579\n",
       "4                                0.311165\n",
       "...                                   ...\n",
       "2682025                         -0.180571\n",
       "2682026                         -0.503906\n",
       "2682027                         -0.296562\n",
       "2682028                          0.865183\n",
       "2682029                         -0.166844\n",
       "\n",
       "[2682030 rows x 1 columns]"
      ]
     },
     "execution_count": 46,
     "metadata": {},
     "output_type": "execute_result"
    }
   ],
   "source": [
    "predicted_Xk"
   ]
  },
  {
   "cell_type": "markdown",
   "id": "345aa1ef-44be-44f7-b6a1-edcd339a4eea",
   "metadata": {
    "id": "345aa1ef-44be-44f7-b6a1-edcd339a4eea"
   },
   "source": [
    "## 4.2 Separate 3D plots of the Actual Granules Position and the Predicted Granules Position"
   ]
  },
  {
   "cell_type": "code",
   "execution_count": 47,
   "id": "2c155a44-24e9-48d9-8a44-ed2dbbf49a5a",
   "metadata": {
    "colab": {
     "base_uri": "https://localhost:8080/",
     "height": 278
    },
    "id": "2c155a44-24e9-48d9-8a44-ed2dbbf49a5a",
    "outputId": "4e01a5f9-3911-4937-c6cb-1401789990cc"
   },
   "outputs": [
    {
     "data": {
      "text/html": [
       "<div>\n",
       "<style scoped>\n",
       "    .dataframe tbody tr th:only-of-type {\n",
       "        vertical-align: middle;\n",
       "    }\n",
       "\n",
       "    .dataframe tbody tr th {\n",
       "        vertical-align: top;\n",
       "    }\n",
       "\n",
       "    .dataframe thead th {\n",
       "        text-align: right;\n",
       "    }\n",
       "</style>\n",
       "<table border=\"1\" class=\"dataframe\">\n",
       "  <thead>\n",
       "    <tr style=\"text-align: right;\">\n",
       "      <th></th>\n",
       "      <th>Index</th>\n",
       "      <th>Time (s)</th>\n",
       "      <th>Parcel Centroid[X] (m)</th>\n",
       "      <th>Particle Velocity: Magnitude (m/s)</th>\n",
       "      <th>Parcel Centroid[Z] (m)</th>\n",
       "      <th>Particle Velocity[i] (m/s)</th>\n",
       "      <th>Particle Velocity[k] (m/s)</th>\n",
       "    </tr>\n",
       "  </thead>\n",
       "  <tbody>\n",
       "    <tr>\n",
       "      <th>13410144</th>\n",
       "      <td>33350</td>\n",
       "      <td>50.0</td>\n",
       "      <td>-0.117258</td>\n",
       "      <td>0.549452</td>\n",
       "      <td>0.019726</td>\n",
       "      <td>0.538740</td>\n",
       "      <td>-0.107966</td>\n",
       "    </tr>\n",
       "    <tr>\n",
       "      <th>13410145</th>\n",
       "      <td>33351</td>\n",
       "      <td>50.0</td>\n",
       "      <td>-0.117261</td>\n",
       "      <td>0.549401</td>\n",
       "      <td>0.002363</td>\n",
       "      <td>0.538698</td>\n",
       "      <td>-0.107914</td>\n",
       "    </tr>\n",
       "    <tr>\n",
       "      <th>13410146</th>\n",
       "      <td>33352</td>\n",
       "      <td>50.0</td>\n",
       "      <td>-0.117269</td>\n",
       "      <td>0.549299</td>\n",
       "      <td>0.002854</td>\n",
       "      <td>0.538615</td>\n",
       "      <td>-0.107810</td>\n",
       "    </tr>\n",
       "    <tr>\n",
       "      <th>13410147</th>\n",
       "      <td>33353</td>\n",
       "      <td>50.0</td>\n",
       "      <td>-0.117272</td>\n",
       "      <td>0.549250</td>\n",
       "      <td>0.013622</td>\n",
       "      <td>0.538576</td>\n",
       "      <td>-0.107759</td>\n",
       "    </tr>\n",
       "    <tr>\n",
       "      <th>13410148</th>\n",
       "      <td>33354</td>\n",
       "      <td>50.0</td>\n",
       "      <td>-0.117272</td>\n",
       "      <td>0.549250</td>\n",
       "      <td>0.004727</td>\n",
       "      <td>0.538575</td>\n",
       "      <td>-0.107759</td>\n",
       "    </tr>\n",
       "  </tbody>\n",
       "</table>\n",
       "</div>"
      ],
      "text/plain": [
       "          Index  Time (s)  Parcel Centroid[X] (m)  \\\n",
       "13410144  33350      50.0               -0.117258   \n",
       "13410145  33351      50.0               -0.117261   \n",
       "13410146  33352      50.0               -0.117269   \n",
       "13410147  33353      50.0               -0.117272   \n",
       "13410148  33354      50.0               -0.117272   \n",
       "\n",
       "          Particle Velocity: Magnitude (m/s)  Parcel Centroid[Z] (m)  \\\n",
       "13410144                            0.549452                0.019726   \n",
       "13410145                            0.549401                0.002363   \n",
       "13410146                            0.549299                0.002854   \n",
       "13410147                            0.549250                0.013622   \n",
       "13410148                            0.549250                0.004727   \n",
       "\n",
       "          Particle Velocity[i] (m/s)  Particle Velocity[k] (m/s)  \n",
       "13410144                    0.538740                   -0.107966  \n",
       "13410145                    0.538698                   -0.107914  \n",
       "13410146                    0.538615                   -0.107810  \n",
       "13410147                    0.538576                   -0.107759  \n",
       "13410148                    0.538575                   -0.107759  "
      ]
     },
     "execution_count": 47,
     "metadata": {},
     "output_type": "execute_result"
    }
   ],
   "source": [
    "Granular_flow_data.tail()"
   ]
  },
  {
   "cell_type": "code",
   "execution_count": null,
   "id": "c21ceb3d-378c-4058-af69-a716c8e0347c",
   "metadata": {
    "id": "c21ceb3d-378c-4058-af69-a716c8e0347c"
   },
   "outputs": [],
   "source": []
  },
  {
   "cell_type": "markdown",
   "id": "fdc18014-8e5b-41af-9746-e0488a35e14f",
   "metadata": {
    "id": "fdc18014-8e5b-41af-9746-e0488a35e14f",
    "tags": []
   },
   "source": [
    "# Predicting the velocity"
   ]
  },
  {
   "cell_type": "code",
   "execution_count": 48,
   "id": "22e10fff-4aca-4037-9c66-9ff6de70caee",
   "metadata": {
    "id": "22e10fff-4aca-4037-9c66-9ff6de70caee"
   },
   "outputs": [],
   "source": [
    "# U=Granular_flow_data.drop([\"Parcel Centroid[X] (m)\", \"Parcel Centroid[Y] (m)\", \"Parcel Centroid[Z] (m)\", \"Particle Velocity[i] (m/s)\", \"Particle Velocity[j] (m/s)\", \"Particle Velocity[k] (m/s)\", \"Particle Velocity: Magnitude (m/s)\"], axis=1)\n",
    "# U"
   ]
  },
  {
   "cell_type": "code",
   "execution_count": 49,
   "id": "de416768-8f2f-433b-84a4-a5d6e8c02979",
   "metadata": {
    "id": "de416768-8f2f-433b-84a4-a5d6e8c02979"
   },
   "outputs": [],
   "source": [
    "# U[\"Wall Shear Stress: Magnitude (Pa)\"].describe()"
   ]
  },
  {
   "cell_type": "code",
   "execution_count": 50,
   "id": "e7f7bae1-0492-4692-9c63-09be356a1aa3",
   "metadata": {
    "id": "e7f7bae1-0492-4692-9c63-09be356a1aa3"
   },
   "outputs": [],
   "source": [
    "# v=Granular_flow_data[[\"Particle Velocity[i] (m/s)\", \"Particle Velocity[j] (m/s)\", \"Particle Velocity[k] (m/s)\"]]\n",
    "# v"
   ]
  },
  {
   "cell_type": "code",
   "execution_count": 51,
   "id": "d62b1d19-dd55-4156-af29-e2d8dd25f0dd",
   "metadata": {
    "id": "d62b1d19-dd55-4156-af29-e2d8dd25f0dd"
   },
   "outputs": [],
   "source": [
    "# %%time\n",
    "\n",
    "# U_train, U_test, v_train, v_test=train_test_split(U,v,\n",
    "#                                                   test_size=0.2,\n",
    "#                                                   random_state=42)\n",
    "\n",
    "# velocity_model1= RandomForestRegressor(n_estimators=200)\n",
    "# velocity_model1.fit(U_train, v_train)"
   ]
  },
  {
   "cell_type": "code",
   "execution_count": 52,
   "id": "be8e2a2f-3d24-4bc7-b8a5-344b1f79865a",
   "metadata": {
    "id": "be8e2a2f-3d24-4bc7-b8a5-344b1f79865a"
   },
   "outputs": [],
   "source": [
    "# velocity_model1.score(U_test, v_test)"
   ]
  },
  {
   "cell_type": "code",
   "execution_count": 53,
   "id": "57b52c59-be44-4ffb-9dc0-ab2234d26179",
   "metadata": {},
   "outputs": [
    {
     "data": {
      "text/html": [
       "<div>\n",
       "<style scoped>\n",
       "    .dataframe tbody tr th:only-of-type {\n",
       "        vertical-align: middle;\n",
       "    }\n",
       "\n",
       "    .dataframe tbody tr th {\n",
       "        vertical-align: top;\n",
       "    }\n",
       "\n",
       "    .dataframe thead th {\n",
       "        text-align: right;\n",
       "    }\n",
       "</style>\n",
       "<table border=\"1\" class=\"dataframe\">\n",
       "  <thead>\n",
       "    <tr style=\"text-align: right;\">\n",
       "      <th></th>\n",
       "      <th>predicted Parcel Centroid[X] (m)</th>\n",
       "      <th>predicted Parcel Centroid[Z] (m)</th>\n",
       "    </tr>\n",
       "  </thead>\n",
       "  <tbody>\n",
       "    <tr>\n",
       "      <th>0</th>\n",
       "      <td>-1.485933</td>\n",
       "      <td>1.871796</td>\n",
       "    </tr>\n",
       "    <tr>\n",
       "      <th>1</th>\n",
       "      <td>1.397455</td>\n",
       "      <td>0.803363</td>\n",
       "    </tr>\n",
       "    <tr>\n",
       "      <th>2</th>\n",
       "      <td>0.317718</td>\n",
       "      <td>0.291215</td>\n",
       "    </tr>\n",
       "    <tr>\n",
       "      <th>3</th>\n",
       "      <td>-0.344086</td>\n",
       "      <td>-0.561579</td>\n",
       "    </tr>\n",
       "    <tr>\n",
       "      <th>4</th>\n",
       "      <td>0.727077</td>\n",
       "      <td>0.311165</td>\n",
       "    </tr>\n",
       "    <tr>\n",
       "      <th>...</th>\n",
       "      <td>...</td>\n",
       "      <td>...</td>\n",
       "    </tr>\n",
       "    <tr>\n",
       "      <th>2682025</th>\n",
       "      <td>0.655064</td>\n",
       "      <td>-0.180571</td>\n",
       "    </tr>\n",
       "    <tr>\n",
       "      <th>2682026</th>\n",
       "      <td>-1.163839</td>\n",
       "      <td>-0.503906</td>\n",
       "    </tr>\n",
       "    <tr>\n",
       "      <th>2682027</th>\n",
       "      <td>-0.871991</td>\n",
       "      <td>-0.296562</td>\n",
       "    </tr>\n",
       "    <tr>\n",
       "      <th>2682028</th>\n",
       "      <td>0.302512</td>\n",
       "      <td>0.865183</td>\n",
       "    </tr>\n",
       "    <tr>\n",
       "      <th>2682029</th>\n",
       "      <td>-0.691574</td>\n",
       "      <td>-0.166844</td>\n",
       "    </tr>\n",
       "  </tbody>\n",
       "</table>\n",
       "<p>2682030 rows × 2 columns</p>\n",
       "</div>"
      ],
      "text/plain": [
       "         predicted Parcel Centroid[X] (m)  predicted Parcel Centroid[Z] (m)\n",
       "0                               -1.485933                          1.871796\n",
       "1                                1.397455                          0.803363\n",
       "2                                0.317718                          0.291215\n",
       "3                               -0.344086                         -0.561579\n",
       "4                                0.727077                          0.311165\n",
       "...                                   ...                               ...\n",
       "2682025                          0.655064                         -0.180571\n",
       "2682026                         -1.163839                         -0.503906\n",
       "2682027                         -0.871991                         -0.296562\n",
       "2682028                          0.302512                          0.865183\n",
       "2682029                         -0.691574                         -0.166844\n",
       "\n",
       "[2682030 rows x 2 columns]"
      ]
     },
     "execution_count": 53,
     "metadata": {},
     "output_type": "execute_result"
    }
   ],
   "source": [
    "y_preds"
   ]
  },
  {
   "cell_type": "code",
   "execution_count": 54,
   "id": "84db684a-75b1-4e04-8576-031fb134fe96",
   "metadata": {},
   "outputs": [],
   "source": [
    "\n",
    "y_test_Originaltocsv=pd.DataFrame(\n",
    "    {\n",
    "        'yi_scaled': y_test[:, 0],\n",
    "        'yk_scaled': y_test[:,1],\n",
    "        \n",
    "        })\n",
    "y_pred_tocsv = pd.DataFrame(\n",
    "    {\n",
    "        'yi_pred_scaled': y_preds.iloc[:, 0],\n",
    "        'yk_pred_scaled': y_preds.iloc[:,1],\n",
    "        \n",
    "        }\n",
    "    )\n",
    "\n",
    "DNN_test_n_predicted_data= pd.concat([y_test_Originaltocsv, y_pred_tocsv], axis=1)\n",
    "DNN_test_n_predicted_data = DNN_test_n_predicted_data.to_csv('(Constant)DNN_test_n_predicted_data.csv')\n",
    "DNN_test_n_predicted_data"
   ]
  },
  {
   "cell_type": "code",
   "execution_count": null,
   "id": "e9094829-70f2-49a4-9297-4acb3990a00e",
   "metadata": {},
   "outputs": [],
   "source": []
  },
  {
   "cell_type": "code",
   "execution_count": 55,
   "id": "fcfce813-c59f-48fa-b7cb-2089a5a28681",
   "metadata": {},
   "outputs": [
    {
     "data": {
      "image/png": "[encoded data removed]",
      "text/plain": [
       "<Figure size 640x480 with 1 Axes>"
      ]
     },
     "metadata": {},
     "output_type": "display_data"
    }
   ],
   "source": [
    "# importing mplot3d toolkits\n",
    "from mpl_toolkits import mplot3d\n",
    "import numpy as np\n",
    "import matplotlib.pyplot as plt\n",
    "\n",
    "fig = plt.figure()\n",
    "\n",
    "# syntax for 3-D projection\n",
    "ax = plt.axes(projection ='3d')\n",
    "\n",
    "\n",
    "ax.scatter(y_preds.iloc[:,0], y_preds.iloc[:,1], color = 'red')\n",
    "\n",
    "# syntax for plotting\n",
    "ax.set_title('3d Scatter plot')\n",
    "plt.show()\n"
   ]
  },
  {
   "cell_type": "code",
   "execution_count": 56,
   "id": "3716f624-ce6f-4bca-a53f-a82a54c7e64e",
   "metadata": {},
   "outputs": [
    {
     "data": {
      "image/png": "[encoded data removed]",
      "text/plain": [
       "<Figure size 640x480 with 1 Axes>"
      ]
     },
     "metadata": {},
     "output_type": "display_data"
    }
   ],
   "source": [
    "fig = plt.figure()\n",
    "\n",
    "# syntax for 3-D projection\n",
    "ax = plt.axes(projection ='3d')\n",
    "\n",
    "\n",
    "ax.scatter(y_test[:,0], y_test[:,1])\n",
    "\n",
    "# syntax for plotting\n",
    "ax.set_title('3d Scatter plot for actual test data')\n",
    "plt.show()"
   ]
  },
  {
   "cell_type": "code",
   "execution_count": null,
   "id": "a2bced12-0fa6-4e0b-909b-76822b58fb31",
   "metadata": {},
   "outputs": [],
   "source": []
  }
 ],
 "metadata": {
  "colab": {
   "provenance": []
  },
  "kernelspec": {
   "display_name": "Python 3 (ipykernel)",
   "language": "python",
   "name": "python3"
  },
  "language_info": {
   "codemirror_mode": {
    "name": "ipython",
    "version": 3
   },
   "file_extension": ".py",
   "mimetype": "text/x-python",
   "name": "python",
   "nbconvert_exporter": "python",
   "pygments_lexer": "ipython3",
   "version": "3.12.4"
  }
 },
 "nbformat": 4,
 "nbformat_minor": 5
}
